{
 "cells": [
  {
   "cell_type": "markdown",
   "metadata": {},
   "source": [
    "### 1. WHILE STATEMENT"
   ]
  },
  {
   "cell_type": "code",
   "execution_count": 1,
   "metadata": {},
   "outputs": [
    {
     "name": "stdout",
     "output_type": "stream",
     "text": [
      "counter is 1\n",
      "counter is 2\n",
      "counter is 3\n",
      "counter is 4\n",
      "counter is 5\n",
      "counter is 6\n",
      "counter is 7\n",
      "counter is 8\n"
     ]
    }
   ],
   "source": [
    "done = False\n",
    "counter = 1\n",
    "\n",
    "while counter <= 10 and not done:\n",
    "    print('counter is', counter)\n",
    "    if counter == 8:\n",
    "        done = True\n",
    "    counter += 1"
   ]
  },
  {
   "cell_type": "markdown",
   "metadata": {},
   "source": [
    "### 2. FOR STATEMENT"
   ]
  },
  {
   "cell_type": "code",
   "execution_count": 2,
   "metadata": {},
   "outputs": [
    {
     "name": "stdout",
     "output_type": "stream",
     "text": [
      "23\n",
      "45\n",
      "67\n",
      "89\n"
     ]
    }
   ],
   "source": [
    "for item in [23,45,67,89]:\n",
    "    print(item)"
   ]
  },
  {
   "cell_type": "markdown",
   "metadata": {},
   "source": [
    "#### NOTE:\n",
    " - If you need to access index of given data, you can use enumerate"
   ]
  },
  {
   "cell_type": "code",
   "execution_count": 5,
   "metadata": {},
   "outputs": [
    {
     "name": "stdout",
     "output_type": "stream",
     "text": [
      "value at index 0 is 23\n",
      "value at index 1 is 45\n",
      "value at index 2 is 67\n",
      "value at index 3 is 89\n"
     ]
    }
   ],
   "source": [
    "for index, item in enumerate([23, 45,67,89]):\n",
    "    print('value at index %s is %s'%( index, item))"
   ]
  },
  {
   "cell_type": "markdown",
   "metadata": {},
   "source": [
    "#### 2.1 ZIP\n",
    " - ```zip``` is a built-in function used for combining iterables"
   ]
  },
  {
   "cell_type": "code",
   "execution_count": 9,
   "metadata": {},
   "outputs": [
    {
     "name": "stdout",
     "output_type": "stream",
     "text": [
      "('ricki', 34) <class 'tuple'>\n",
      "('dikki', 56) <class 'tuple'>\n"
     ]
    }
   ],
   "source": [
    "names = ['ricki', 'dikki', 'tikki', 'mikki']\n",
    "ages = [34,56]\n",
    "for i in zip(names, ages):\n",
    "    print(i, type(i))"
   ]
  },
  {
   "cell_type": "markdown",
   "metadata": {},
   "source": [
    "### 3. COMPREHENSION\n",
    " - filtering iterable with some condition to create new iterable"
   ]
  },
  {
   "cell_type": "code",
   "execution_count": 13,
   "metadata": {},
   "outputs": [
    {
     "name": "stdout",
     "output_type": "stream",
     "text": [
      "[4, 256, 46656, 16777216]\n"
     ]
    }
   ],
   "source": [
    "# we need a square of a list in another list\n",
    "\n",
    "# TRADITIONAL WAY\n",
    "list_1 = [2,4,6,8]\n",
    "square_list = []\n",
    "for item in list_1:\n",
    "    square_list.append(item**item)\n",
    "\n",
    "print(square_list)"
   ]
  },
  {
   "cell_type": "code",
   "execution_count": 12,
   "metadata": {},
   "outputs": [
    {
     "name": "stdout",
     "output_type": "stream",
     "text": [
      "[4, 256, 46656, 16777216]\n"
     ]
    }
   ],
   "source": [
    "# USING LIST COMPREHENSION\n",
    "square_list_comp = [item**item for item in list_1]\n",
    "print(square_list_comp)"
   ]
  },
  {
   "cell_type": "code",
   "execution_count": 20,
   "metadata": {},
   "outputs": [
    {
     "name": "stdout",
     "output_type": "stream",
     "text": [
      "{42, 22, 30}\n",
      "{11: 22, 21: 42, 15: 30}\n"
     ]
    }
   ],
   "source": [
    "# comprehension\n",
    "\n",
    "numbers = [11, 15, 21]\n",
    "\n",
    "doubles_set = {2 * number for number in numbers}\n",
    "print(doubles_set)\n",
    "\n",
    "# a dict comprehension which uses the number as the key and the doubled number as the value\n",
    "doubles_dict = {number: 2 * number for number in numbers}\n",
    "print(doubles_dict)\n",
    "                \n",
    "                "
   ]
  }
 ],
 "metadata": {
  "kernelspec": {
   "display_name": "Python 3",
   "language": "python",
   "name": "python3"
  },
  "language_info": {
   "codemirror_mode": {
    "name": "ipython",
    "version": 3
   },
   "file_extension": ".py",
   "mimetype": "text/x-python",
   "name": "python",
   "nbconvert_exporter": "python",
   "pygments_lexer": "ipython3",
   "version": "3.5.2"
  }
 },
 "nbformat": 4,
 "nbformat_minor": 2
}
