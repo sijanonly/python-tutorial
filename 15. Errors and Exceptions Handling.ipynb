{
 "cells": [
  {
   "cell_type": "markdown",
   "metadata": {},
   "source": [
    "### 1. SYNTAX ERRORS\n",
    "\n",
    " - misspelled keywords\n",
    " - wrong indentation\n",
    " - empty block in function or class definition"
   ]
  },
  {
   "cell_type": "markdown",
   "metadata": {},
   "source": [
    "### 2. RUNTIME ERRORS\n",
    "   -- Can be detected only when a particular line of code is executed\n",
    " \n",
    "  - incompatible operations (operations between int and str..)\n",
    "  - division by zero\n",
    "  - accessing identifier without predefined scopes\n",
    " "
   ]
  },
  {
   "cell_type": "markdown",
   "metadata": {},
   "source": [
    "### 3. LOGICAL ERRORS\n",
    "    \n",
    "  - Wrong implementation of logic or algorithms"
   ]
  },
  {
   "cell_type": "markdown",
   "metadata": {},
   "source": [
    "### 4. EXCEPTION HANDLING with ```try``` and ```except```"
   ]
  },
  {
   "cell_type": "code",
   "execution_count": 4,
   "metadata": {},
   "outputs": [
    {
     "name": "stdout",
     "output_type": "stream",
     "text": [
      "Please enter a number: 23\n",
      "you entered 23.\n"
     ]
    }
   ],
   "source": [
    "# EXAMPLE - 1\n",
    "try:\n",
    "    age = int(input(\"Please enter a number: \"))\n",
    "    print(\"you entered %d.\" % age)\n",
    "except ValueError:\n",
    "    print(\"Hey, that wasn't a number!\")"
   ]
  },
  {
   "cell_type": "code",
   "execution_count": null,
   "metadata": {},
   "outputs": [],
   "source": [
    "# EXAMPLE - 2\n",
    "try:\n",
    "    dividend = int(input(\"Please enter the dividend: \"))\n",
    "    divisor = int(input(\"Please enter the divisor: \"))\n",
    "    print(\"%d / %d = %f\" % (dividend, divisor, dividend/divisor))\n",
    "except(ValueError, ZeroDivisionError) as e:\n",
    "    print(\"Oops, something went wrong! {}\".format(e))"
   ]
  },
  {
   "cell_type": "code",
   "execution_count": null,
   "metadata": {
    "collapsed": true
   },
   "outputs": [],
   "source": []
  }
 ],
 "metadata": {
  "kernelspec": {
   "display_name": "Python 3",
   "language": "python",
   "name": "python3"
  },
  "language_info": {
   "codemirror_mode": {
    "name": "ipython",
    "version": 3
   },
   "file_extension": ".py",
   "mimetype": "text/x-python",
   "name": "python",
   "nbconvert_exporter": "python",
   "pygments_lexer": "ipython3",
   "version": "3.5.2"
  }
 },
 "nbformat": 4,
 "nbformat_minor": 2
}
