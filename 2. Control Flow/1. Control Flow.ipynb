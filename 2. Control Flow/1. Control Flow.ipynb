{
 "cells": [
  {
   "cell_type": "markdown",
   "metadata": {},
   "source": [
    "### 1. if - statement"
   ]
  },
  {
   "cell_type": "markdown",
   "metadata": {},
   "source": [
    "```\n",
    "if condition:\n",
    "    body\n",
    "    \n",
    "```"
   ]
  },
  {
   "cell_type": "code",
   "execution_count": 3,
   "metadata": {},
   "outputs": [
    {
     "name": "stdout",
     "output_type": "stream",
     "text": [
      "what is your age buddy?23\n",
      "You are man!\n"
     ]
    }
   ],
   "source": [
    "age = int(input('what is your age buddy?'))\n",
    "if age < 18:\n",
    "    print(\"Cannot have a beer!!!\")\n",
    "else:\n",
    "    print(\"You are a man!\")"
   ]
  },
  {
   "cell_type": "code",
   "execution_count": 6,
   "metadata": {},
   "outputs": [
    {
     "data": {
      "text/html": [
       "<table><tr><td>Operator</td><td>Description</td><td>Example</td></tr><tr><td>==</td><td>equal to</td><td>if (value == 18)</td></tr><tr><td>!=</td><td>not equal</td><td>to if (score != 100)</td></tr><tr><td>></td><td>greater than</td><td>if (count > 50)</td></tr><tr><td><</td><td>less than</td><td>if (price < 25)</td></tr><tr><td>>=</td><td>greater than or equal to</td><td>if (score >= 50)</td></tr><tr><td><=</td><td>less than or equal to</td><td>if (number <= 30)</td></tr></table>"
      ],
      "text/plain": [
       "<IPython.core.display.HTML object>"
      ]
     },
     "metadata": {},
     "output_type": "display_data"
    }
   ],
   "source": [
    "from IPython.display import HTML, display\n",
    "\n",
    "data = [['Operator', 'Description', 'Example'],\n",
    "         ['==', 'equal to', 'if (value == 18)'],\n",
    "         ['!=', 'not equal' ,'to if (score != 100)'],\n",
    "         ['>' , 'greater than', 'if (count > 50)'],\n",
    "         ['<', 'less than', 'if (price < 25)'],\n",
    "         ['>=', 'greater than or equal to', 'if (score >= 50)'],\n",
    "         ['<=', 'less than or equal to', 'if (number <= 30)']\n",
    "         ]\n",
    "\n",
    "display(HTML(\n",
    "    '<table><tr>{}</tr></table>'.format(\n",
    "        '</tr><tr>'.join(\n",
    "            '<td>{}</td>'.format('</td><td>'.join(str(_) for _ in row)) for row in data)\n",
    "        )\n",
    " ))"
   ]
  },
  {
   "cell_type": "markdown",
   "metadata": {
    "collapsed": true
   },
   "source": [
    "### 2. About 'Value' and 'Identity'\n",
    "\n",
    "### NOTE\n",
    "- When you compare two variables using '==' operator, then it is called value comparision.\n",
    "- If you would like to check whether two objects (lists, dictionaries, custom objects) you created are equal or not then the operation is called a test of identity. We use 'is' operation in this case."
   ]
  },
  {
   "cell_type": "code",
   "execution_count": 1,
   "metadata": {},
   "outputs": [
    {
     "name": "stdout",
     "output_type": "stream",
     "text": [
      "Hello, Test!\n"
     ]
    }
   ],
   "source": [
    "name = 'test'\n",
    "if name == \"test\":\n",
    "    print(\"Hello, Test!\")"
   ]
  },
  {
   "cell_type": "code",
   "execution_count": 1,
   "metadata": {},
   "outputs": [
    {
     "name": "stdout",
     "output_type": "stream",
     "text": [
      "These lists have the same value.\n"
     ]
    }
   ],
   "source": [
    "a = [1,2,3]\n",
    "b = [1,2,3]\n",
    "\n",
    "if a == b:\n",
    "    print(\"These lists have the same value.\")\n",
    "\n",
    "if a is b:\n",
    "    print(\"These lists are the same list.\")"
   ]
  },
  {
   "cell_type": "markdown",
   "metadata": {},
   "source": [
    "### NOTE\n",
    "-  Operator - 'is' tests if two variables point the same object, not if two variables have the same value.\n",
    "-  if you want to compare values, always use ==."
   ]
  },
  {
   "cell_type": "markdown",
   "metadata": {},
   "source": [
    "### 3. Example"
   ]
  },
  {
   "cell_type": "code",
   "execution_count": 9,
   "metadata": {},
   "outputs": [
    {
     "name": "stdout",
     "output_type": "stream",
     "text": [
      "third\n"
     ]
    }
   ],
   "source": [
    "percentage = 40\n",
    "if percentage >= 80:\n",
    "    division = 'distinction'\n",
    "else:\n",
    "    if percentage >= 60:\n",
    "        division = 'first'\n",
    "    if percentage <=30:\n",
    "        division = 'fail'\n",
    "    else:\n",
    "        if percentage >= 50:\n",
    "            division = 'second'\n",
    "        else:\n",
    "            division = 'third'\n",
    "print(division)"
   ]
  },
  {
   "cell_type": "code",
   "execution_count": 8,
   "metadata": {},
   "outputs": [
    {
     "name": "stdout",
     "output_type": "stream",
     "text": [
      "third\n"
     ]
    }
   ],
   "source": [
    "if percentage >= 80:\n",
    "    division = 'distinction'\n",
    "elif percentage >= 65:\n",
    "    division = 'first'\n",
    "elif percentage >= 50:\n",
    "    division = 'second'\n",
    "elif percentage >= 32:\n",
    "    division = 'third'\n",
    "else:\n",
    "    division = 'fail'\n",
    "print(division)"
   ]
  },
  {
   "cell_type": "markdown",
   "metadata": {},
   "source": [
    "### NOTE\n",
    "-  If we use any value as a boolean expression, python will implicitly convert that value to a boolean type\n",
    "-  REMEMBER : All non-zero numbers and non-empty strings are always evaluate to True and zero and the empty string (\"\") are False"
   ]
  },
  {
   "cell_type": "code",
   "execution_count": 10,
   "metadata": {},
   "outputs": [
    {
     "name": "stdout",
     "output_type": "stream",
     "text": [
      "Hello, Python!\n",
      "Hello, Python!\n"
     ]
    }
   ],
   "source": [
    "name = \"Python\"\n",
    "\n",
    "# This evaluates name to True:\n",
    "if name:\n",
    "    print(\"Hello, %s!\" % name)\n",
    "\n",
    "# Itis same as above:\n",
    "if bool(name) == True:\n",
    "    print(\"Hello, %s!\" % name)"
   ]
  },
  {
   "cell_type": "markdown",
   "metadata": {},
   "source": [
    "### 4. Compound Statement\n",
    "\n",
    "conditions joined together with AND, OR and NOT"
   ]
  },
  {
   "cell_type": "code",
   "execution_count": 11,
   "metadata": {},
   "outputs": [
    {
     "name": "stdout",
     "output_type": "stream",
     "text": [
      "second division\n"
     ]
    }
   ],
   "source": [
    "# and operator\n",
    "\n",
    "percentage = 59\n",
    "if percentage >= 50 and percentage < 60:\n",
    "    print(\"second division\")"
   ]
  },
  {
   "cell_type": "code",
   "execution_count": 29,
   "metadata": {},
   "outputs": [
    {
     "name": "stdout",
     "output_type": "stream",
     "text": [
      "That's a short name, sijan!\n"
     ]
    }
   ],
   "source": [
    "\n",
    "class Person:\n",
    "    def __init__(self):\n",
    "        self.name = 'sijan'\n",
    "        self.age = 25\n",
    "person = Person\n",
    "if hasattr(person, \"name\") and len(person.name) < 6:\n",
    "    print(\"That's a short name, %s!\" % person.name)\n",
    "\n",
    "testlist = [2,3,4,3]\n",
    "i = 3\n",
    "if i < len(testlist) and testlist[i] == 3:\n",
    "    print(\"I found a 3!\")\n",
    "\n",
    "person = {}\n",
    "person['name'] = 'sijan'\n",
    "person['age'] = 25\n",
    "\n",
    "key = 'age'\n",
    "if key in person and person[key] == 25:\n",
    "    print(\"I found a 25!\")"
   ]
  },
  {
   "cell_type": "markdown",
   "metadata": {},
   "source": [
    "#### HOMEWORK\n",
    " - Explore ```or``` and ```not``` operator by yourself."
   ]
  },
  {
   "cell_type": "code",
   "execution_count": 26,
   "metadata": {},
   "outputs": [
    {
     "name": "stdout",
     "output_type": "stream",
     "text": [
      "sijan\n"
     ]
    }
   ],
   "source": [
    "class Person:\n",
    "    \n",
    "    def __init__(self):\n",
    "        self.name = 'sijan'\n",
    "   \n",
    "    def get_age(self):\n",
    "        return self.name\n",
    "\n",
    "    def get_name():\n",
    "        print('bipen')\n",
    "\n",
    "    \n",
    "\n",
    "person = Person()\n",
    "name = person.get_age()\n",
    "print(name)"
   ]
  },
  {
   "cell_type": "code",
   "execution_count": null,
   "metadata": {
    "collapsed": true
   },
   "outputs": [],
   "source": []
  }
 ],
 "metadata": {
  "kernelspec": {
   "display_name": "Python 3",
   "language": "python",
   "name": "python3"
  },
  "language_info": {
   "codemirror_mode": {
    "name": "ipython",
    "version": 3
   },
   "file_extension": ".py",
   "mimetype": "text/x-python",
   "name": "python",
   "nbconvert_exporter": "python",
   "pygments_lexer": "ipython3",
   "version": "3.5.2"
  }
 },
 "nbformat": 4,
 "nbformat_minor": 2
}
