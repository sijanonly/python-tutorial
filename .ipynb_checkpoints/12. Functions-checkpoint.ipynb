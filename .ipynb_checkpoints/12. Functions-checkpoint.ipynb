{
 "cells": [
  {
   "cell_type": "markdown",
   "metadata": {},
   "source": [
    "### 1. FUNCTION\n",
    "\n",
    " - sequence of code to complete a certain tasks\n",
    " - python treat function as an object\n",
    " - In statically typed languages, there can exists multiple functions with same name (the signature can de different as per number of parameters, returntypes, parameter types)\n",
    " - In python, there exist only one function in a give scope"
   ]
  },
  {
   "cell_type": "code",
   "execution_count": 2,
   "metadata": {},
   "outputs": [
    {
     "name": "stdout",
     "output_type": "stream",
     "text": [
      "Hi there, Welcome\n"
     ]
    }
   ],
   "source": [
    "def print_welcome_msg():\n",
    "    print('Hi there, Welcome')\n",
    "    \n",
    "print_welcome_msg()"
   ]
  },
  {
   "cell_type": "code",
   "execution_count": 4,
   "metadata": {},
   "outputs": [
    {
     "name": "stdout",
     "output_type": "stream",
     "text": [
      "Hi there, Welcome\n"
     ]
    }
   ],
   "source": [
    "# assigning function as an object\n",
    "msg_func = print_welcome_msg\n",
    "msg_func()"
   ]
  },
  {
   "cell_type": "markdown",
   "metadata": {},
   "source": [
    "#### 1.1 FUNCTION RETURN VALUES"
   ]
  },
  {
   "cell_type": "code",
   "execution_count": 6,
   "metadata": {},
   "outputs": [
    {
     "name": "stdout",
     "output_type": "stream",
     "text": [
      "(7, 12)\n"
     ]
    }
   ],
   "source": [
    "# return multiple values\n",
    "\n",
    "def sum_and_product(a,b):\n",
    "    return a+b, a*b\n",
    "\n",
    "print(sum_and_product(3,4))"
   ]
  },
  {
   "cell_type": "markdown",
   "metadata": {},
   "source": [
    "#### 1.2 FUNCTION STACKS\n",
    "\n",
    "  - store function information in ` ```call stack``` `\n",
    "  - all information related to a function is added to stack frame\n",
    "  - when executed, stack frame will be removed from stack\n",
    "  "
   ]
  },
  {
   "cell_type": "markdown",
   "metadata": {},
   "source": [
    "#### 1.3 PARAMETERS"
   ]
  },
  {
   "cell_type": "code",
   "execution_count": 10,
   "metadata": {},
   "outputs": [
    {
     "name": "stdout",
     "output_type": "stream",
     "text": [
      "Namaste, Mr thakur!\n",
      "Namaste, nikki!\n"
     ]
    }
   ],
   "source": [
    "# optional parameters definition\n",
    "\n",
    "def welcome_guest(title, first_name, last_name, formal=True, day_time=None):\n",
    "    if formal:\n",
    "        return \"Namaste, %s %s!\" % (title, last_name)\n",
    "\n",
    "    return \"Namaste, %s!\" % first_name\n",
    "\n",
    "print(welcome_guest(\"Mr\", \"ricki\", \"thakur\"))\n",
    "print(welcome_guest(\"Mr\", \"nikki\", \"lakur\", False))"
   ]
  },
  {
   "cell_type": "code",
   "execution_count": null,
   "metadata": {
    "collapsed": true
   },
   "outputs": [],
   "source": []
  }
 ],
 "metadata": {
  "kernelspec": {
   "display_name": "Python 3",
   "language": "python",
   "name": "python3"
  },
  "language_info": {
   "codemirror_mode": {
    "name": "ipython",
    "version": 3
   },
   "file_extension": ".py",
   "mimetype": "text/x-python",
   "name": "python",
   "nbconvert_exporter": "python",
   "pygments_lexer": "ipython3",
   "version": "3.5.2"
  }
 },
 "nbformat": 4,
 "nbformat_minor": 2
}
