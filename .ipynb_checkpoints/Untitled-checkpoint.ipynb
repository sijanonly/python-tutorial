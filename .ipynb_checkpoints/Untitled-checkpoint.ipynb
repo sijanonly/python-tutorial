{
 "cells": [
  {
   "cell_type": "markdown",
   "metadata": {},
   "source": [
    "### Write a Python program to calculate the length of a string."
   ]
  },
  {
   "cell_type": "code",
   "execution_count": 2,
   "metadata": {},
   "outputs": [
    {
     "name": "stdout",
     "output_type": "stream",
     "text": [
      "5\n"
     ]
    }
   ],
   "source": [
    "word = 'hello' \n",
    "count = 0  \n",
    "for char in word:  \n",
    "    count += 1  \n",
    "print(count)"
   ]
  },
  {
   "cell_type": "markdown",
   "metadata": {},
   "source": [
    "### Write a Python program to get a string made of the first 2 and the last 2 chars from a given a string. If the string length is less than 2, return instead of the empty string.\n",
    "\n",
    "```Sample String : 'python'\n",
    "Expected Result : 'pyon'\n",
    "Sample String : 'py'\n",
    "Expected Result : 'pypy'\n",
    "Sample String : 'p'\n",
    "Expected Result : '' ```"
   ]
  },
  {
   "cell_type": "code",
   "execution_count": 7,
   "metadata": {},
   "outputs": [
    {
     "name": "stdout",
     "output_type": "stream",
     "text": [
      "pyon\n"
     ]
    }
   ],
   "source": [
    "word = 'python'\n",
    "if len(word) < 2:  \n",
    "    output = ''  \n",
    "else:\n",
    "    output = word[0:2] + word[-2:]  \n",
    "print(output)"
   ]
  },
  {
   "cell_type": "markdown",
   "metadata": {},
   "source": [
    "### Write a Python program to get reverse string of a given string."
   ]
  },
  {
   "cell_type": "code",
   "execution_count": 8,
   "metadata": {},
   "outputs": [
    {
     "name": "stdout",
     "output_type": "stream",
     "text": [
      "nohtyp\n"
     ]
    }
   ],
   "source": [
    "given_string = 'python'\n",
    "output_string = \"\"\n",
    "for character in given_string:\n",
    "    output_string = character + output_string   #concatenate successive letters to beginning of string\n",
    "print(output_string)"
   ]
  },
  {
   "cell_type": "markdown",
   "metadata": {},
   "source": [
    "### Write a Python program to get a string from a given string where all occurrences of its first char have been changed to $ '\\$'  $, except the first char itself.\n",
    "```\n",
    "Sample String : 'restart'\n",
    "Expected Result : 'resta$t' ```"
   ]
  },
  {
   "cell_type": "code",
   "execution_count": 11,
   "metadata": {},
   "outputs": [
    {
     "name": "stdout",
     "output_type": "stream",
     "text": [
      "resta$t\n"
     ]
    }
   ],
   "source": [
    "word = 'restart'\n",
    "first_char = word[0]\n",
    "word = word.replace(first_char, '$')\n",
    "word = first_char + word[1:]\n",
    "\n",
    "print(word)"
   ]
  },
  {
   "cell_type": "code",
   "execution_count": null,
   "metadata": {
    "collapsed": true
   },
   "outputs": [],
   "source": []
  }
 ],
 "metadata": {
  "kernelspec": {
   "display_name": "Python 3",
   "language": "python",
   "name": "python3"
  },
  "language_info": {
   "codemirror_mode": {
    "name": "ipython",
    "version": 3
   },
   "file_extension": ".py",
   "mimetype": "text/x-python",
   "name": "python",
   "nbconvert_exporter": "python",
   "pygments_lexer": "ipython3",
   "version": "3.5.2"
  }
 },
 "nbformat": 4,
 "nbformat_minor": 2
}
