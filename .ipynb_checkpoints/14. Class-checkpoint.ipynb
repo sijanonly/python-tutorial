{
 "cells": [
  {
   "cell_type": "markdown",
   "metadata": {},
   "source": [
    "### 1. DEFINING CLASS"
   ]
  },
  {
   "cell_type": "code",
   "execution_count": 2,
   "metadata": {},
   "outputs": [
    {
     "name": "stdout",
     "output_type": "stream",
     "text": [
      "Jane\n",
      "jane.doe@example.com\n",
      "25\n"
     ]
    }
   ],
   "source": [
    "import datetime # we will use this for date objects\n",
    "\n",
    "class Person:\n",
    "\n",
    "    def __init__(self, name, surname, birthdate,email):\n",
    "        self.name = name\n",
    "        self.surname = surname\n",
    "        self.birthdate = birthdate\n",
    "        self.email = email\n",
    "\n",
    "    def get_age(self):\n",
    "        today = datetime.date.today()\n",
    "        age = today.year - self.birthdate.year\n",
    "\n",
    "        if today < datetime.date(today.year, self.birthdate.month, self.birthdate.day):\n",
    "            age -= 1\n",
    "\n",
    "        return age\n",
    "\n",
    "person = Person(\n",
    "    \"Jane\",\n",
    "    \"Doe\",\n",
    "    datetime.date(1992, 3, 12), # year, month, day\n",
    "    \"jane.doe@example.com\"\n",
    ")\n",
    "\n",
    "print(person.name)\n",
    "print(person.email)\n",
    "print(person.get_age())"
   ]
  },
  {
   "cell_type": "markdown",
   "metadata": {},
   "source": [
    "### NOTE\n",
    " - When you call a method with an object/instance, the method expects the first parameter as the object itself.. "
   ]
  },
  {
   "cell_type": "markdown",
   "metadata": {},
   "source": [
    "### 2.Instance Attributes, and Class Attributes"
   ]
  },
  {
   "cell_type": "code",
   "execution_count": 4,
   "metadata": {
    "collapsed": true
   },
   "outputs": [],
   "source": [
    "class Post:\n",
    "    # TITLES is class attribute\n",
    "    TITLES = ('Dr.', 'Er.')\n",
    "\n",
    "    def __init__(self, title, name, surname):\n",
    "        if title not in self.TITLES:\n",
    "            raise ValueError(\"%s is not a valid title.\" % title)\n",
    "        # there are instance attribute\n",
    "        self.title = title\n",
    "        self.name = name\n",
    "        self.surname = surname"
   ]
  },
  {
   "cell_type": "markdown",
   "metadata": {},
   "source": [
    "### NOTE\n",
    " - You can use class attributes to define constants for that particular class\n",
    " - You can access the class attributes in any class methods using the object (self).\n",
    " - If you want to access class attribute without instance, you can do : (Person.TITLES)"
   ]
  },
  {
   "cell_type": "markdown",
   "metadata": {},
   "source": [
    "### 3. Aware of Mutable types"
   ]
  },
  {
   "cell_type": "code",
   "execution_count": 6,
   "metadata": {},
   "outputs": [
    {
     "name": "stdout",
     "output_type": "stream",
     "text": [
      "['mikki']\n",
      "['mikki']\n"
     ]
    }
   ],
   "source": [
    "class Class:\n",
    "    students = []\n",
    "\n",
    "    def add_students(self, pet):\n",
    "        self.students.append(pet)\n",
    "\n",
    "a = Class()\n",
    "b = Class()\n",
    "\n",
    "a.add_students(\"mikki\")\n",
    "print(a.students)\n",
    "print(b.students) # oops!"
   ]
  },
  {
   "cell_type": "code",
   "execution_count": 7,
   "metadata": {},
   "outputs": [
    {
     "name": "stdout",
     "output_type": "stream",
     "text": [
      "['mikki']\n",
      "[]\n"
     ]
    }
   ],
   "source": [
    "class Class:\n",
    "    \n",
    "    def __init__(self):\n",
    "        self.students = []\n",
    "\n",
    "    def add_students(self, pet):\n",
    "        self.students.append(pet)\n",
    "\n",
    "a = Class()\n",
    "b = Class()\n",
    "\n",
    "a.add_students(\"mikki\")\n",
    "print(a.students)\n",
    "print(b.students) # YES!"
   ]
  },
  {
   "cell_type": "markdown",
   "metadata": {},
   "source": [
    "### 4. Class Decorators"
   ]
  },
  {
   "cell_type": "markdown",
   "metadata": {
    "collapsed": true
   },
   "source": [
    "#### 4.1 @classmethod\n",
    " - There might be a situation where we can execute any tasks related to class using constants or other class attributes, without creating class instances\n",
    " - class methods don't bound to class objects rather to a class itself."
   ]
  },
  {
   "cell_type": "code",
   "execution_count": 6,
   "metadata": {},
   "outputs": [
    {
     "name": "stdout",
     "output_type": "stream",
     "text": [
      "Cls is <class '__main__.Circle'>\n",
      "3.14\n",
      "Cls is <class '__main__.Circle'>\n"
     ]
    },
    {
     "data": {
      "text/plain": [
       "3.14"
      ]
     },
     "execution_count": 6,
     "metadata": {},
     "output_type": "execute_result"
    }
   ],
   "source": [
    "class Circle(object):\n",
    "    PI = 3.14\n",
    "    @classmethod\n",
    "    def get_pie(cls):\n",
    "        print('Cls is', cls)\n",
    "        return cls.PI\n",
    "\n",
    "    \n",
    "print(Circle.get_pie())\n",
    "\n",
    "circle_object = Circle() # Since class method is accessed with class itself, we don't need to instantiate\n",
    "circle_object.get_pie()\n",
    "    "
   ]
  },
  {
   "cell_type": "markdown",
   "metadata": {},
   "source": [
    "#### 4.2 @staticmethod\n",
    "- only concern about parameters send to the functions not instances or attributes of the Class\n",
    "- One rule-of-thumb: ask yourself “does it make sense to call this method, even if no Obj has been constructed yet?” If so, it should definitely be static.\n",
    "- can be used as\n",
    "  -- call from class\n",
    "  -- call from instances\n",
    "  \n",
    "- syntax,\n",
    "  ```\n",
    "     @staticmethod\n",
    "          def func(args, ...)```"
   ]
  },
  {
   "cell_type": "code",
   "execution_count": 18,
   "metadata": {},
   "outputs": [
    {
     "name": "stdout",
     "output_type": "stream",
     "text": [
      "8\n"
     ]
    },
    {
     "data": {
      "text/plain": [
       "8"
      ]
     },
     "execution_count": 18,
     "metadata": {},
     "output_type": "execute_result"
    }
   ],
   "source": [
    "class Circle(object):\n",
    "    PI = 3.14\n",
    "    @staticmethod\n",
    "    def get_area(radius):\n",
    "        return 2 * radius ** 2\n",
    "\n",
    "    \n",
    "print(Circle.get_area(2))\n",
    "\n",
    "circle_object = Circle() \n",
    "circle_object.get_area(2)\n",
    "    "
   ]
  },
  {
   "cell_type": "markdown",
   "metadata": {},
   "source": [
    "#### When do you use static method?\n",
    " - Utility functions for your class\n",
    " "
   ]
  },
  {
   "cell_type": "code",
   "execution_count": 22,
   "metadata": {},
   "outputs": [
    {
     "name": "stdout",
     "output_type": "stream",
     "text": [
      "15-12-2016\n",
      "13-12-2015\n"
     ]
    }
   ],
   "source": [
    "# format_date method is static because it will not need other attributes of class\n",
    "\n",
    "class BirthDate:\n",
    "    def __init__(self, date):\n",
    "        self.date = date\n",
    "        \n",
    "    def get_date(self):\n",
    "        return self.date\n",
    "\n",
    "    @staticmethod\n",
    "    def format_date(date):\n",
    "        return date.replace(\"/\", \"-\")\n",
    "\n",
    "date_obj = BirthDate(\"15-12-2016\")\n",
    "date_str = \"15/12/2016\"\n",
    "# without instance\n",
    "converted_date = BirthDate.format_date(date_str)\n",
    "new_obj = BirthDate(converted_date)\n",
    "print(new_obj.date)\n",
    "\n",
    "# # with instance\n",
    "# new_str = \"13/12/2015\"\n",
    "# new_obj2 = BirthDate(new_str)\n",
    "# new_obj2.date = new_obj.format_date(new_str)\n",
    "# print (new_obj2.date)\n"
   ]
  },
  {
   "cell_type": "code",
   "execution_count": null,
   "metadata": {
    "collapsed": true
   },
   "outputs": [],
   "source": []
  }
 ],
 "metadata": {
  "kernelspec": {
   "display_name": "Python 3",
   "language": "python",
   "name": "python3"
  },
  "language_info": {
   "codemirror_mode": {
    "name": "ipython",
    "version": 3
   },
   "file_extension": ".py",
   "mimetype": "text/x-python",
   "name": "python",
   "nbconvert_exporter": "python",
   "pygments_lexer": "ipython3",
   "version": "3.5.2"
  }
 },
 "nbformat": 4,
 "nbformat_minor": 2
}
