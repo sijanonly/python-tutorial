{
 "cells": [
  {
   "cell_type": "markdown",
   "metadata": {},
   "source": [
    "### 1. DEFINING CLASS"
   ]
  },
  {
   "cell_type": "code",
   "execution_count": 2,
   "metadata": {},
   "outputs": [
    {
     "name": "stdout",
     "output_type": "stream",
     "text": [
      "Jane\n",
      "jane.doe@example.com\n",
      "25\n"
     ]
    }
   ],
   "source": [
    "import datetime # we will use this for date objects\n",
    "\n",
    "class Person:\n",
    "\n",
    "    def __init__(self, name, surname, birthdate,email):\n",
    "        self.name = name\n",
    "        self.surname = surname\n",
    "        self.birthdate = birthdate\n",
    "        self.email = email\n",
    "\n",
    "    def get_age(self):\n",
    "        today = datetime.date.today()\n",
    "        age = today.year - self.birthdate.year\n",
    "\n",
    "        if today < datetime.date(today.year, self.birthdate.month, self.birthdate.day):\n",
    "            age -= 1\n",
    "\n",
    "        return age\n",
    "\n",
    "person = Person(\n",
    "    \"Jane\",\n",
    "    \"Doe\",\n",
    "    datetime.date(1992, 3, 12), # year, month, day\n",
    "    \"jane.doe@example.com\"\n",
    ")\n",
    "\n",
    "print(person.name)\n",
    "print(person.email)\n",
    "print(person.get_age())"
   ]
  },
  {
   "cell_type": "markdown",
   "metadata": {},
   "source": [
    "### NOTE\n",
    " - When you call a method with an object/instance, the method expects the first parameter as the object itself.. "
   ]
  },
  {
   "cell_type": "markdown",
   "metadata": {},
   "source": [
    "### 2.Instance Attributes, and Class Attributes"
   ]
  },
  {
   "cell_type": "code",
   "execution_count": 4,
   "metadata": {
    "collapsed": true
   },
   "outputs": [],
   "source": [
    "class Post:\n",
    "    # TITLES is class attribute\n",
    "    TITLES = ('Dr.', 'Er.')\n",
    "\n",
    "    def __init__(self, title, name, surname):\n",
    "        if title not in self.TITLES:\n",
    "            raise ValueError(\"%s is not a valid title.\" % title)\n",
    "        # there are instance attribute\n",
    "        self.title = title\n",
    "        self.name = name\n",
    "        self.surname = surname"
   ]
  },
  {
   "cell_type": "markdown",
   "metadata": {},
   "source": [
    "### NOTE\n",
    " - You can use class attributes to define constants for that particular class\n",
    " - You can access the class attributes in any class methods using the object (self).\n",
    " - If you want to access class attribute without instance, you can do : (Post.TITLES)"
   ]
  },
  {
   "cell_type": "markdown",
   "metadata": {},
   "source": [
    "### 3. Aware of Mutable types"
   ]
  },
  {
   "cell_type": "code",
   "execution_count": 6,
   "metadata": {},
   "outputs": [
    {
     "name": "stdout",
     "output_type": "stream",
     "text": [
      "['mikki']\n",
      "['mikki']\n"
     ]
    }
   ],
   "source": [
    "class Class:\n",
    "    students = []\n",
    "\n",
    "    def add_students(self, pet):\n",
    "        self.students.append(pet)\n",
    "\n",
    "a = Class()\n",
    "b = Class()\n",
    "\n",
    "a.add_students(\"mikki\")\n",
    "print(a.students)\n",
    "print(b.students) # oops!"
   ]
  },
  {
   "cell_type": "code",
   "execution_count": 7,
   "metadata": {},
   "outputs": [
    {
     "name": "stdout",
     "output_type": "stream",
     "text": [
      "['mikki']\n",
      "[]\n"
     ]
    }
   ],
   "source": [
    "class Class:\n",
    "    \n",
    "    def __init__(self):\n",
    "        self.students = []\n",
    "\n",
    "    def add_students(self, pet):\n",
    "        self.students.append(pet)\n",
    "\n",
    "a = Class()\n",
    "b = Class()\n",
    "\n",
    "a.add_students(\"mikki\")\n",
    "print(a.students)\n",
    "print(b.students) # YES!"
   ]
  },
  {
   "cell_type": "markdown",
   "metadata": {},
   "source": [
    "### 4. Class Decorators"
   ]
  },
  {
   "cell_type": "markdown",
   "metadata": {
    "collapsed": true
   },
   "source": [
    "#### 4.1 @classmethod\n",
    " - There might be a situation where we can execute any tasks related to class using constants or other class attributes, without creating class instances\n",
    " - class methods don't bound to class objects rather to a class itself."
   ]
  },
  {
   "cell_type": "code",
   "execution_count": 14,
   "metadata": {},
   "outputs": [
    {
     "name": "stdout",
     "output_type": "stream",
     "text": [
      "Cls is <class '__main__.Circle'>\n",
      "3.14\n",
      "Cls is <class '__main__.Circle'>\n",
      "3.14\n",
      "Cls is <class '__main__.Circle'>\n"
     ]
    },
    {
     "data": {
      "text/plain": [
       "3.14"
      ]
     },
     "execution_count": 14,
     "metadata": {},
     "output_type": "execute_result"
    }
   ],
   "source": [
    "class Circle(object):\n",
    "    PI = 3.14\n",
    "    @classmethod\n",
    "    def get_pie(cls):\n",
    "        print('Cls is', cls)\n",
    "        return cls.PI\n",
    "\n",
    "    \n",
    "print(Circle.get_pie())\n",
    "\n",
    "# OR\n",
    "\n",
    "print(Circle().get_pie())\n",
    "\n",
    "circle_object = Circle() # Since class method is accessed with class itself, we don't need to instantiate\n",
    "circle_object.get_pie()\n",
    "    "
   ]
  },
  {
   "cell_type": "markdown",
   "metadata": {},
   "source": [
    "#### 4.2 @staticmethod\n",
    "- only concern about parameters send to the functions not instances or attributes of the Class\n",
    "- One rule-of-thumb: ask yourself “does it make sense to call this method, even if no Obj has been constructed yet?” If so, it should definitely be static.\n",
    "- can be used as\n",
    "  -- call from class\n",
    "  -- call from instances\n",
    "  \n",
    "- syntax,\n",
    "  ```\n",
    "     @staticmethod\n",
    "          def func(args, ...)```"
   ]
  },
  {
   "cell_type": "code",
   "execution_count": 18,
   "metadata": {},
   "outputs": [
    {
     "name": "stdout",
     "output_type": "stream",
     "text": [
      "8\n"
     ]
    },
    {
     "data": {
      "text/plain": [
       "8"
      ]
     },
     "execution_count": 18,
     "metadata": {},
     "output_type": "execute_result"
    }
   ],
   "source": [
    "class Circle(object):\n",
    "    PI = 3.14\n",
    "    @staticmethod\n",
    "    def get_area(radius):\n",
    "        return 2 * radius ** 2\n",
    "\n",
    "    \n",
    "print(Circle.get_area(2))\n",
    "\n",
    "circle_object = Circle() \n",
    "circle_object.get_area(2)\n",
    "    "
   ]
  },
  {
   "cell_type": "markdown",
   "metadata": {},
   "source": [
    "#### When do you use static method?\n",
    " - Utility functions for your class\n",
    " "
   ]
  },
  {
   "cell_type": "code",
   "execution_count": 22,
   "metadata": {},
   "outputs": [
    {
     "name": "stdout",
     "output_type": "stream",
     "text": [
      "15-12-2016\n",
      "13-12-2015\n"
     ]
    }
   ],
   "source": [
    "# format_date method is static because it will not need other attributes of class\n",
    "\n",
    "class BirthDate:\n",
    "    def __init__(self, date):\n",
    "        self.date = date\n",
    "        \n",
    "    def get_date(self):\n",
    "        return self.date\n",
    "\n",
    "    @staticmethod\n",
    "    def format_date(date):\n",
    "        return date.replace(\"/\", \"-\")\n",
    "\n",
    "date_obj = BirthDate(\"15-12-2016\")\n",
    "date_str = \"15/12/2016\"\n",
    "# without instance\n",
    "converted_date = BirthDate.format_date(date_str)\n",
    "new_obj = BirthDate(converted_date)\n",
    "print(new_obj.date)\n",
    "\n",
    "# # with instance\n",
    "# new_str = \"13/12/2015\"\n",
    "# new_obj2 = BirthDate(new_str)\n",
    "# new_obj2.date = new_obj.format_date(new_str)\n",
    "# print (new_obj2.date)\n"
   ]
  },
  {
   "cell_type": "markdown",
   "metadata": {
    "collapsed": true
   },
   "source": [
    "#### 4.3 @property\n",
    " - creating object property dynamically using other properties.\n",
    " - Other languages encouraged to have getters and setters for the class attributes and don't encourage to access those attributes directly (only use setters and getters)\n",
    " - In python, simple object attributes can be accessed directly (acceptable)"
   ]
  },
  {
   "cell_type": "code",
   "execution_count": 1,
   "metadata": {},
   "outputs": [
    {
     "name": "stdout",
     "output_type": "stream",
     "text": [
      "Mark Tumberbacc\n"
     ]
    }
   ],
   "source": [
    "class Person:\n",
    "    def __init__(self, first_name, last_name):\n",
    "        self.first_name = first_name\n",
    "        self.last_name = last_name\n",
    "\n",
    "    @property\n",
    "    def fullname(self):\n",
    "        return \"%s %s\" % (self.first_name, self.last_name)\n",
    "\n",
    "jane = Person(\"Mark\", \"Tumberbacc\")\n",
    "print(jane.fullname) # no brackets!"
   ]
  },
  {
   "cell_type": "markdown",
   "metadata": {},
   "source": [
    "### EXAMPLE - 1"
   ]
  },
  {
   "cell_type": "code",
   "execution_count": 15,
   "metadata": {
    "collapsed": true
   },
   "outputs": [],
   "source": [
    "class Numbers:\n",
    "    MULTIPLIER = 3.5\n",
    "\n",
    "    def __init__(self, x, y):\n",
    "        self.x = x\n",
    "        self.y = y\n",
    "\n",
    "    def add(self):\n",
    "        return self.x + self.y\n",
    "\n",
    "    @classmethod\n",
    "    def multiply(cls, a):\n",
    "        return cls.MULTIPLIER * a\n",
    "\n",
    "    @staticmethod\n",
    "    def subtract(b, c):\n",
    "        return b - c\n",
    "\n",
    "    @property\n",
    "    def value(self):\n",
    "        return (self.x, self.y)\n"
   ]
  },
  {
   "cell_type": "code",
   "execution_count": 17,
   "metadata": {
    "collapsed": true
   },
   "outputs": [],
   "source": [
    "a = Numbers(2,3)"
   ]
  },
  {
   "cell_type": "code",
   "execution_count": 18,
   "metadata": {},
   "outputs": [
    {
     "data": {
      "text/plain": [
       "5"
      ]
     },
     "execution_count": 18,
     "metadata": {},
     "output_type": "execute_result"
    }
   ],
   "source": [
    "a.add()"
   ]
  },
  {
   "cell_type": "code",
   "execution_count": 19,
   "metadata": {
    "scrolled": true
   },
   "outputs": [
    {
     "data": {
      "text/plain": [
       "14.0"
      ]
     },
     "execution_count": 19,
     "metadata": {},
     "output_type": "execute_result"
    }
   ],
   "source": [
    "a.multiply(4)"
   ]
  },
  {
   "cell_type": "code",
   "execution_count": 20,
   "metadata": {
    "scrolled": true
   },
   "outputs": [
    {
     "data": {
      "text/plain": [
       "-1"
      ]
     },
     "execution_count": 20,
     "metadata": {},
     "output_type": "execute_result"
    }
   ],
   "source": [
    "a.subtract(3,4)"
   ]
  },
  {
   "cell_type": "code",
   "execution_count": 21,
   "metadata": {
    "scrolled": true
   },
   "outputs": [
    {
     "data": {
      "text/plain": [
       "(2, 3)"
      ]
     },
     "execution_count": 21,
     "metadata": {},
     "output_type": "execute_result"
    }
   ],
   "source": [
    "a.value"
   ]
  },
  {
   "cell_type": "markdown",
   "metadata": {},
   "source": [
    "#### 4.4 OOP Around Python\n",
    "\n",
    "  - When you saved a data in a class, then that data should only be accessed through a public interface, i.e the methods of the class. (ENCAPSULATION)\n",
    "  - In some languages (JAVA, C++), we can define access premissions on attributes, and considered illegal for them to be accessed from outside methods of that class.\n",
    "  - In Java writing setters and getters for each and every attributes is considered a good practice.\n",
    "  - In python, the is no any enforcement regarding encapsulation rather it is a convention. Property will be private if you defined it with underscore.\n",
    "    ```(__score = None)```\n",
    "  - In python, you can use direct set/get for simply attributes and only use getters and setters method for those attributes which needs some calcuation.\n",
    "  - Relations between two classes can be maintained by ```composition``` and ```inheritance```"
   ]
  },
  {
   "cell_type": "markdown",
   "metadata": {},
   "source": [
    "#### 4.4.1 COMPOSITION\n",
    "\n",
    "   - establishing 'has-a' a relation between two classes\n",
    "   - Example - Application has-a Vehicle"
   ]
  },
  {
   "cell_type": "code",
   "execution_count": 31,
   "metadata": {},
   "outputs": [
    {
     "data": {
      "text/plain": [
       "<__main__.Application at 0x7f2c740a3358>"
      ]
     },
     "execution_count": 31,
     "metadata": {},
     "output_type": "execute_result"
    }
   ],
   "source": [
    "class Vehicle:\n",
    "    def __init__(self, vehicle_id, other):\n",
    "        self.vehicle_id = vehicle_id\n",
    "        self.other = other\n",
    "\n",
    "class Application:\n",
    "    def __init__(self, app_id, other):\n",
    "        self.app_id = app_id\n",
    "        self.other = other\n",
    "        self.vehicles = []\n",
    "    \n",
    "    def __str__(self):\n",
    "        return \"%s %s %s\" %(self.app_id, self.other, [vehicle.vehicle_id for vehicle in self.vehicles])\n",
    "\n",
    "    def add_vehicle(self, vehicle_id, other):\n",
    "        self.vehicles.append(Vehicle(vehicle_id, other))\n",
    "        return self.vehicles[-1]\n",
    "\n",
    "app_object = Application('111', '2015')\n",
    "app_object.add_vehicle('123', 'BMW')\n",
    "app_object"
   ]
  },
  {
   "cell_type": "code",
   "execution_count": 30,
   "metadata": {},
   "outputs": [
    {
     "data": {
      "text/plain": [
       "\"111 2015 ['123']\""
      ]
     },
     "execution_count": 30,
     "metadata": {},
     "output_type": "execute_result"
    }
   ],
   "source": [
    "str(app_object)"
   ]
  },
  {
   "cell_type": "markdown",
   "metadata": {
    "collapsed": true
   },
   "source": [
    "### 4.4.2 INHERITANCE\n",
    "   - arrangement of class from more general scope to more specific scopes\n",
    "   - establishing ```is-a``` relationships between classes \n",
    "   - data(attributes) and the behavior (methods) of a parent class will be derived to a \"child\" class"
   ]
  },
  {
   "cell_type": "code",
   "execution_count": 10,
   "metadata": {},
   "outputs": [],
   "source": [
    "class Car(object):\n",
    "    \"\"\"  Car represents Car objects in a Company\n",
    "     \n",
    "          :param make: The make of car\n",
    "          :type make: str\n",
    "          :param model: The model of car\n",
    "          :type model: str\n",
    "          :return:\n",
    "          :rtype:\n",
    "    \"\"\"\n",
    "    ORIGINAL_PRICE = {\n",
    "        'HONDA': 20000000,\n",
    "        'FORD': 30000000,\n",
    "        'TOYOTA': 25000000\n",
    "    }\n",
    "    def __init__(self,make, model):\n",
    "        \"\"\"Return a new Car object.\"\"\"\n",
    "     \n",
    "        self.make = make\n",
    "        self.model = model\n",
    "        \n",
    "    def get_original_price(cls, model):\n",
    "        \"\"\"Return the original price of the car based on the model\"\"\"\n",
    "        return cls.ORIGINAL_PRICE[model]\n",
    "        \n",
    "        \n",
    "\n",
    "    def price(self):\n",
    "        \"\"\"Return the price of the car (float value).\"\"\"\n",
    "        print(self.model)\n",
    "        return self.get_original_price(self.model) + 5000"
   ]
  },
  {
   "cell_type": "code",
   "execution_count": 16,
   "metadata": {},
   "outputs": [
    {
     "ename": "KeyError",
     "evalue": "'model'",
     "output_type": "error",
     "traceback": [
      "\u001b[0;31m---------------------------------------------------------------------------\u001b[0m",
      "\u001b[0;31mKeyError\u001b[0m                                  Traceback (most recent call last)",
      "\u001b[0;32m<ipython-input-16-ba3cab170e26>\u001b[0m in \u001b[0;36m<module>\u001b[0;34m()\u001b[0m\n\u001b[1;32m      1\u001b[0m \u001b[0mcar_object\u001b[0m \u001b[0;34m=\u001b[0m \u001b[0mCar\u001b[0m\u001b[0;34m(\u001b[0m\u001b[0;34m'MAKE1'\u001b[0m\u001b[0;34m,\u001b[0m \u001b[0;34m'HONDA'\u001b[0m\u001b[0;34m)\u001b[0m\u001b[0;34m\u001b[0m\u001b[0m\n\u001b[1;32m      2\u001b[0m \u001b[0mcar_object\u001b[0m\u001b[0;34m.\u001b[0m\u001b[0mmodel\u001b[0m\u001b[0;34m\u001b[0m\u001b[0m\n\u001b[0;32m----> 3\u001b[0;31m \u001b[0mcar_object\u001b[0m\u001b[0;34m.\u001b[0m\u001b[0mprice\u001b[0m\u001b[0;34m(\u001b[0m\u001b[0;34m)\u001b[0m\u001b[0;34m\u001b[0m\u001b[0m\n\u001b[0m",
      "\u001b[0;32m<ipython-input-10-fa3772866f20>\u001b[0m in \u001b[0;36mprice\u001b[0;34m(self)\u001b[0m\n\u001b[1;32m     29\u001b[0m         \u001b[0;34m\"\"\"Return the price of the car (float value).\"\"\"\u001b[0m\u001b[0;34m\u001b[0m\u001b[0m\n\u001b[1;32m     30\u001b[0m \u001b[0;34m\u001b[0m\u001b[0m\n\u001b[0;32m---> 31\u001b[0;31m         \u001b[0;32mreturn\u001b[0m \u001b[0mself\u001b[0m\u001b[0;34m.\u001b[0m\u001b[0mget_original_price\u001b[0m\u001b[0;34m(\u001b[0m\u001b[0mself\u001b[0m\u001b[0;34m.\u001b[0m\u001b[0mmodel\u001b[0m\u001b[0;34m)\u001b[0m \u001b[0;34m+\u001b[0m \u001b[0;36m5000\u001b[0m\u001b[0;34m\u001b[0m\u001b[0m\n\u001b[0m",
      "\u001b[0;32m<ipython-input-10-fa3772866f20>\u001b[0m in \u001b[0;36mget_original_price\u001b[0;34m(cls, model)\u001b[0m\n\u001b[1;32m     22\u001b[0m     \u001b[0;32mdef\u001b[0m \u001b[0mget_original_price\u001b[0m\u001b[0;34m(\u001b[0m\u001b[0mcls\u001b[0m\u001b[0;34m,\u001b[0m \u001b[0mmodel\u001b[0m\u001b[0;34m)\u001b[0m\u001b[0;34m:\u001b[0m\u001b[0;34m\u001b[0m\u001b[0m\n\u001b[1;32m     23\u001b[0m         \u001b[0;34m\"\"\"Return the original price of the car based on the model\"\"\"\u001b[0m\u001b[0;34m\u001b[0m\u001b[0m\n\u001b[0;32m---> 24\u001b[0;31m         \u001b[0;32mreturn\u001b[0m \u001b[0mcls\u001b[0m\u001b[0;34m.\u001b[0m\u001b[0mORIGINAL_PRICE\u001b[0m\u001b[0;34m[\u001b[0m\u001b[0;34m'model'\u001b[0m\u001b[0;34m]\u001b[0m\u001b[0;34m\u001b[0m\u001b[0m\n\u001b[0m\u001b[1;32m     25\u001b[0m \u001b[0;34m\u001b[0m\u001b[0m\n\u001b[1;32m     26\u001b[0m \u001b[0;34m\u001b[0m\u001b[0m\n",
      "\u001b[0;31mKeyError\u001b[0m: 'model'"
     ]
    }
   ],
   "source": [
    "car_object = Car('MAKE1', 'HONDA')\n",
    "car_object.model\n",
    "car_object.price()"
   ]
  },
  {
   "cell_type": "code",
   "execution_count": null,
   "metadata": {
    "collapsed": true
   },
   "outputs": [],
   "source": []
  }
 ],
 "metadata": {
  "kernelspec": {
   "display_name": "Python 3",
   "language": "python",
   "name": "python3"
  },
  "language_info": {
   "codemirror_mode": {
    "name": "ipython",
    "version": 3
   },
   "file_extension": ".py",
   "mimetype": "text/x-python",
   "name": "python",
   "nbconvert_exporter": "python",
   "pygments_lexer": "ipython3",
   "version": "3.5.2"
  }
 },
 "nbformat": 4,
 "nbformat_minor": 2
}
