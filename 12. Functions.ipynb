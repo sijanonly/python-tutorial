{
 "cells": [
  {
   "cell_type": "markdown",
   "metadata": {},
   "source": [
    "### 1. FUNCTION\n",
    "\n",
    " - sequence of code to complete a certain tasks\n",
    " - python treat function as an object\n",
    " - In statically typed languages, there can exists multiple functions with same name (the signature can de different as per number of parameters, returntypes, parameter types)\n",
    " - In python, there exist only one function in a give scope"
   ]
  },
  {
   "cell_type": "code",
   "execution_count": 2,
   "metadata": {},
   "outputs": [
    {
     "name": "stdout",
     "output_type": "stream",
     "text": [
      "Hi there, Welcome\n"
     ]
    }
   ],
   "source": [
    "def print_welcome_msg():\n",
    "    print('Hi there, Welcome')\n",
    "    \n",
    "print_welcome_msg()"
   ]
  },
  {
   "cell_type": "code",
   "execution_count": 4,
   "metadata": {},
   "outputs": [
    {
     "name": "stdout",
     "output_type": "stream",
     "text": [
      "Hi there, Welcome\n"
     ]
    }
   ],
   "source": [
    "# assigning function as an object\n",
    "msg_func = print_welcome_msg\n",
    "msg_func()"
   ]
  },
  {
   "cell_type": "markdown",
   "metadata": {},
   "source": [
    "#### 1.1 FUNCTION RETURN VALUES"
   ]
  },
  {
   "cell_type": "code",
   "execution_count": 6,
   "metadata": {},
   "outputs": [
    {
     "name": "stdout",
     "output_type": "stream",
     "text": [
      "(7, 12)\n"
     ]
    }
   ],
   "source": [
    "# return multiple values\n",
    "\n",
    "def sum_and_product(a,b):\n",
    "    return a+b, a*b\n",
    "\n",
    "print(sum_and_product(3,4))"
   ]
  },
  {
   "cell_type": "markdown",
   "metadata": {},
   "source": [
    "#### 1.2 FUNCTION STACKS\n",
    "\n",
    "  - store function information in ` ```call stack``` `\n",
    "  - all information related to a function is added to stack frame\n",
    "  - when executed, stack frame will be removed from stack\n",
    "  "
   ]
  },
  {
   "cell_type": "markdown",
   "metadata": {},
   "source": [
    "#### 1.3 PARAMETERS"
   ]
  },
  {
   "cell_type": "code",
   "execution_count": 17,
   "metadata": {},
   "outputs": [
    {
     "name": "stdout",
     "output_type": "stream",
     "text": [
      "Hello   Mr thakur!\n",
      "Hello   nikki!\n",
      "Good morning,  Mrs magar!\n"
     ]
    }
   ],
   "source": [
    "# optional parameters definition\n",
    "\n",
    "def welcome_guest(title, first_name, last_name, formal=True, day_time=None):\n",
    "    msg = ''\n",
    "    if formal:\n",
    "        msg += \"  %s %s!\" % (title, last_name)\n",
    "    else:\n",
    "        msg += \"  %s!\" % first_name\n",
    "    \n",
    "    if day_time:\n",
    "        msg = 'Good ' + day_time +\",\" + msg\n",
    "    else:\n",
    "        msg = 'Hello ' + msg\n",
    "        \n",
    "    return msg\n",
    "\n",
    "print(welcome_guest(\"Mr\", \"ricki\", \"thakur\"))\n",
    "print(welcome_guest(\"Mrs\", \"nikki\", \"lakur\", False))\n",
    "print(welcome_guest(\"Mrs\", \"Sappu\", \"magar\", True, \"morning\"))"
   ]
  },
  {
   "cell_type": "code",
   "execution_count": 20,
   "metadata": {},
   "outputs": [
    {
     "name": "stdout",
     "output_type": "stream",
     "text": [
      "Good evening,  Mr Shresth!\n",
      "Good evening,  Mr Shresth!\n"
     ]
    }
   ],
   "source": [
    "# you want to send only second optional parameter\n",
    "print(welcome_guest(title=\"Mr\", first_name=\"Hari\", last_name=\"Shresth\",day_time=\"evening\"))\n",
    "print(welcome_guest(\"Mr\", \"Hari\", \"Shresth\",day_time=\"evening\"))"
   ]
  },
  {
   "cell_type": "markdown",
   "metadata": {},
   "source": [
    "#### 1.4 MUTABLE PARAMETER"
   ]
  },
  {
   "cell_type": "code",
   "execution_count": 26,
   "metadata": {},
   "outputs": [
    {
     "name": "stdout",
     "output_type": "stream",
     "text": [
      "['bipen', 'sipen']\n",
      "['bipen', 'sipen']\n"
     ]
    }
   ],
   "source": [
    "def student_list(stu, students=[]):\n",
    "    students.append(stu)\n",
    "    return students\n",
    "\n",
    "first_list = student_list(\"bipen\")\n",
    "second_list = student_list(\"sipen\")\n",
    "\n",
    "print(first_list)\n",
    "print(second_list)"
   ]
  },
  {
   "cell_type": "code",
   "execution_count": 27,
   "metadata": {},
   "outputs": [
    {
     "name": "stdout",
     "output_type": "stream",
     "text": [
      "['bipen']\n",
      "['sipen']\n"
     ]
    }
   ],
   "source": [
    "def student_list(stu, students=None):\n",
    "    if not students:\n",
    "        students = []\n",
    "    students.append(stu)\n",
    "    return students\n",
    "\n",
    "first_list = student_list(\"bipen\")\n",
    "second_list = student_list(\"sipen\")\n",
    "\n",
    "print(first_list)\n",
    "print(second_list)"
   ]
  },
  {
   "cell_type": "markdown",
   "metadata": {},
   "source": [
    "#### 1.5 args and  kwargs\n",
    " - sending variable list arguments to functions\n",
    " - args -> tuple by convention\n",
    " - kwargs -> dictionary by convention"
   ]
  },
  {
   "cell_type": "code",
   "execution_count": 28,
   "metadata": {},
   "outputs": [
    {
     "name": "stdout",
     "output_type": "stream",
     "text": [
      "a\n",
      "b\n",
      "c\n"
     ]
    }
   ],
   "source": [
    "def args_data(*args):\n",
    "    for arg in args:\n",
    "        print(arg)\n",
    "\n",
    "def kwargs_data(**kwargs):\n",
    "    for k, v in kwargs.items():\n",
    "        print(\"%s: %s\" % (k, v))\n",
    "        \n",
    "args_data('a', 'b', 'c')"
   ]
  },
  {
   "cell_type": "code",
   "execution_count": 29,
   "metadata": {},
   "outputs": [
    {
     "name": "stdout",
     "output_type": "stream",
     "text": [
      "first_name: Kim\n",
      "last_name: Sim\n"
     ]
    }
   ],
   "source": [
    "kwargs_data(first_name=\"Kim\", last_name=\"Sim\")"
   ]
  },
  {
   "cell_type": "code",
   "execution_count": 36,
   "metadata": {},
   "outputs": [
    {
     "name": "stdout",
     "output_type": "stream",
     "text": [
      "sijan\n",
      "bhandari\n",
      "M\n",
      "leapfrog\n"
     ]
    }
   ],
   "source": [
    "# how to send data\n",
    "person = ('sijan', 'bhandari', 'M', 'leapfrog')\n",
    "args_data(*person)\n"
   ]
  },
  {
   "cell_type": "code",
   "execution_count": 31,
   "metadata": {},
   "outputs": [
    {
     "name": "stdout",
     "output_type": "stream",
     "text": [
      "sex: M\n",
      "company: leapfrog\n",
      "first_name: sijan\n",
      "last_name: bhandari\n"
     ]
    }
   ],
   "source": [
    "person = {}\n",
    "person['first_name'] = 'sijan'\n",
    "person['last_name'] = 'bhandari'\n",
    "person['sex'] = 'M'\n",
    "person['company'] = 'leapfrog'\n",
    "\n",
    "kwargs_data(**person)"
   ]
  },
  {
   "cell_type": "code",
   "execution_count": 41,
   "metadata": {},
   "outputs": [
    {
     "name": "stdout",
     "output_type": "stream",
     "text": [
      "Good evening,  Samir!\n",
      "Good evening,  Samir!\n"
     ]
    }
   ],
   "source": [
    "# sending kwargs \n",
    "greeting_data_dict = {\n",
    "    \"title\": \"Mr\",\n",
    "    \"first_name\": \"Samir\",\n",
    "    \"last_name\": \"Basnet\",\n",
    "    \"formal\": False,\n",
    "    \"day_time\": \"evening\",\n",
    "}\n",
    "\n",
    "print(welcome_guest(**greeting_data))\n",
    "\n",
    "# sending args\n",
    "greeting_data_tuple = (\"Mr\", \"Samir\", \"Basnet\", False, 'evening')\n",
    "print(welcome_guest(*greeting_data_tuple))"
   ]
  },
  {
   "cell_type": "code",
   "execution_count": 2,
   "metadata": {},
   "outputs": [
    {
     "name": "stdout",
     "output_type": "stream",
     "text": [
      "formal arg: 1\n",
      "another arg: two\n",
      "another arg: 3\n"
     ]
    }
   ],
   "source": [
    "def test_var_args(farg, *args):\n",
    "    print (\"formal arg:\", farg)\n",
    "    for arg in args:\n",
    "        print (\"another arg:\", arg)\n",
    "\n",
    "test_var_args(1, \"two\", 3)\n",
    "\n"
   ]
  },
  {
   "cell_type": "code",
   "execution_count": 3,
   "metadata": {},
   "outputs": [
    {
     "name": "stdout",
     "output_type": "stream",
     "text": [
      "formal arg: 1\n",
      "another keyword arg: myarg2: two\n",
      "another keyword arg: myarg3: 3\n"
     ]
    }
   ],
   "source": [
    "\n",
    "def test_var_kwargs(farg, **kwargs):\n",
    "    print (\"formal arg:\", farg)\n",
    "    for key in kwargs:\n",
    "        print (\"another keyword arg: %s: %s\" % (key, kwargs[key]))\n",
    "\n",
    "test_var_kwargs(farg=1, myarg2=\"two\", myarg3=3)\n"
   ]
  },
  {
   "cell_type": "code",
   "execution_count": 5,
   "metadata": {},
   "outputs": [
    {
     "name": "stdout",
     "output_type": "stream",
     "text": [
      "arg1: 1\n",
      "arg2: two\n",
      "arg3: 3\n"
     ]
    }
   ],
   "source": [
    "\n",
    "def test_var_args_call(arg1, arg2, arg3):\n",
    "    print (\"arg1:\", arg1)\n",
    "    print (\"arg2:\", arg2)\n",
    "    print (\"arg3:\", arg3)\n",
    "\n",
    "args = (\"two\", 3)\n",
    "test_var_args_call(1, *args)\n"
   ]
  },
  {
   "cell_type": "code",
   "execution_count": null,
   "metadata": {
    "collapsed": true
   },
   "outputs": [],
   "source": []
  }
 ],
 "metadata": {
  "kernelspec": {
   "display_name": "Python 3",
   "language": "python",
   "name": "python3"
  },
  "language_info": {
   "codemirror_mode": {
    "name": "ipython",
    "version": 3
   },
   "file_extension": ".py",
   "mimetype": "text/x-python",
   "name": "python",
   "nbconvert_exporter": "python",
   "pygments_lexer": "ipython3",
   "version": "3.5.2"
  }
 },
 "nbformat": 4,
 "nbformat_minor": 2
}
