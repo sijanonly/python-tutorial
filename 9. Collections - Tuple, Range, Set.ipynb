{
 "cells": [
  {
   "cell_type": "markdown",
   "metadata": {},
   "source": [
    "### 1. TUPLE\n",
    "\n",
    " - immutable\n",
    " - defines by putting a comma-separated list of values inside round brackets (( and )):"
   ]
  },
  {
   "cell_type": "code",
   "execution_count": 5,
   "metadata": {},
   "outputs": [
    {
     "name": "stdout",
     "output_type": "stream",
     "text": [
      "first\n",
      "('second', 'third')\n",
      "1\n",
      "2\n"
     ]
    },
    {
     "ename": "AttributeError",
     "evalue": "'tuple' object has no attribute 'append'",
     "output_type": "error",
     "traceback": [
      "\u001b[0;31m---------------------------------------------------------------------------\u001b[0m",
      "\u001b[0;31mAttributeError\u001b[0m                            Traceback (most recent call last)",
      "\u001b[0;32m<ipython-input-5-bb0c60e997ba>\u001b[0m in \u001b[0;36m<module>\u001b[0;34m()\u001b[0m\n\u001b[1;32m     15\u001b[0m \u001b[0;34m\u001b[0m\u001b[0m\n\u001b[1;32m     16\u001b[0m \u001b[0;31m# ...ERROR :  THIS IS NOT ALLOWED\u001b[0m\u001b[0;34m\u001b[0m\u001b[0;34m\u001b[0m\u001b[0m\n\u001b[0;32m---> 17\u001b[0;31m \u001b[0mlevels\u001b[0m\u001b[0;34m.\u001b[0m\u001b[0mappend\u001b[0m\u001b[0;34m(\u001b[0m\u001b[0;34m'fourth'\u001b[0m\u001b[0;34m)\u001b[0m\u001b[0;34m\u001b[0m\u001b[0m\n\u001b[0m\u001b[1;32m     18\u001b[0m \u001b[0mlevels\u001b[0m\u001b[0;34m[\u001b[0m\u001b[0;36m1\u001b[0m\u001b[0;34m]\u001b[0m \u001b[0;34m=\u001b[0m \u001b[0;34m'fifth'\u001b[0m\u001b[0;34m\u001b[0m\u001b[0m\n",
      "\u001b[0;31mAttributeError\u001b[0m: 'tuple' object has no attribute 'append'"
     ]
    }
   ],
   "source": [
    "levels = ('first', 'second', 'third')\n",
    "\n",
    "# defining empty tuple\n",
    "my_tuple = ()\n",
    "\n",
    "# accessing elements\n",
    "print(levels[0])\n",
    "\n",
    "# slicing and creatting sub-tuples\n",
    "print(levels[1:]) # note that our slice will be a new tuple, not a list\n",
    "\n",
    "# count and index \n",
    "print (levels.count('first'))\n",
    "print(levels.index('third'))\n",
    "\n",
    "# ...ERROR :  THIS IS NOT ALLOWED\n",
    "levels.append('fourth')\n",
    "levels[1] = 'fifth'"
   ]
  },
  {
   "cell_type": "markdown",
   "metadata": {},
   "source": [
    "#### What are use of TUPLEs?"
   ]
  },
  {
   "cell_type": "markdown",
   "metadata": {},
   "source": [
    "- If you don't want to modify the values throughout your program\n",
    "\n",
    "- For example, you can save your weekdays in tuple"
   ]
  },
  {
   "cell_type": "markdown",
   "metadata": {},
   "source": [
    "### Single Element Tuple"
   ]
  },
  {
   "cell_type": "code",
   "execution_count": 8,
   "metadata": {},
   "outputs": [
    {
     "name": "stdout",
     "output_type": "stream",
     "text": [
      "33 <class 'int'>\n",
      "(33,) <class 'tuple'>\n"
     ]
    }
   ],
   "source": [
    "# () only interpreted as expression while manipulating precedence\n",
    "a = (33)\n",
    "print(a, type(a))\n",
    "\n",
    "# if you need to define single element tuple, you need to have ',' at the end.\n",
    "b = (33,)\n",
    "\n",
    "print(b, type(b))"
   ]
  },
  {
   "cell_type": "markdown",
   "metadata": {},
   "source": [
    "### 2. Range - generators"
   ]
  },
  {
   "cell_type": "markdown",
   "metadata": {},
   "source": [
    "Creating Immutable sequences"
   ]
  },
  {
   "cell_type": "code",
   "execution_count": 12,
   "metadata": {},
   "outputs": [
    {
     "name": "stdout",
     "output_type": "stream",
     "text": [
      "range(0, 5)\n"
     ]
    }
   ],
   "source": [
    "# '5' is taken as UPPER bound\n",
    "\n",
    "data = range(5)\n",
    "print(data)\n"
   ]
  },
  {
   "cell_type": "code",
   "execution_count": 11,
   "metadata": {},
   "outputs": [
    {
     "name": "stdout",
     "output_type": "stream",
     "text": [
      "0\n",
      "1\n",
      "2\n",
      "3\n",
      "4\n"
     ]
    }
   ],
   "source": [
    "for each_data in data:\n",
    "    print(each_data)"
   ]
  },
  {
   "cell_type": "code",
   "execution_count": 13,
   "metadata": {},
   "outputs": [
    {
     "name": "stdout",
     "output_type": "stream",
     "text": [
      "1\n",
      "2\n",
      "3\n",
      "4\n",
      "5\n",
      "6\n",
      "7\n",
      "8\n",
      "9\n"
     ]
    }
   ],
   "source": [
    "# '1' as LOWER bound and '10' as UPPER bound\n",
    "\n",
    "data2 = range(1,10)\n",
    "for each_data in data2:\n",
    "    print(each_data)"
   ]
  },
  {
   "cell_type": "code",
   "execution_count": 16,
   "metadata": {},
   "outputs": [
    {
     "name": "stdout",
     "output_type": "stream",
     "text": [
      "1\n",
      "3\n",
      "5\n",
      "7\n",
      "9\n",
      "11\n",
      "13\n"
     ]
    }
   ],
   "source": [
    "# third parameter as a step-size\n",
    "\n",
    "data3 = range(1,15,2)\n",
    "for each_data in data3:\n",
    "    print(each_data)"
   ]
  },
  {
   "cell_type": "markdown",
   "metadata": {},
   "source": [
    "### 3. SET\n",
    "\n",
    "- collection of unique elements"
   ]
  },
  {
   "cell_type": "code",
   "execution_count": 17,
   "metadata": {},
   "outputs": [
    {
     "name": "stdout",
     "output_type": "stream",
     "text": [
      "{'mon', 'sun', 'thu', 'wed', 'tue'}\n"
     ]
    }
   ],
   "source": [
    "days = {'sun', 'mon', 'tue', 'wed', 'thu', 'thu'}\n",
    "print(days) # the set will only contain one thu"
   ]
  },
  {
   "cell_type": "markdown",
   "metadata": {},
   "source": [
    "#### 3.1 SET OPERATIONS"
   ]
  },
  {
   "cell_type": "code",
   "execution_count": 27,
   "metadata": {},
   "outputs": [
    {
     "name": "stdout",
     "output_type": "stream",
     "text": [
      "{8, 34, 2, 12}\n",
      "{34, 2, 35, 6, 8, 9, 12, 78, 21, 56}\n",
      "{9, 21, 6}\n",
      "{34, 35, 2, 8, 56, 12, 78}\n"
     ]
    }
   ],
   "source": [
    "set_1 = {2,6,8,9,12,21,34}\n",
    "set_2 = {6,9,21,35,56,78}\n",
    "\n",
    "# subtraction\n",
    "print(set_1 - set_2)\n",
    "\n",
    "# union: \n",
    "print(set_1 | set_2)\n",
    "\n",
    "# intersection\n",
    "inter = (set_1 & set_2)\n",
    "print (inter)\n",
    "\n",
    "# numbers which are in set_1 or set_2 not both\n",
    "print(set_1 ^ set_2)\n"
   ]
  },
  {
   "cell_type": "markdown",
   "metadata": {},
   "source": [
    "#### 3.2 SET METHODS\n",
    "  - union\n",
    "  - intersection\n",
    "  - difference\n",
    "  - issubset\n",
    "  - and # Adds item to the set\n",
    "  - remove \n",
    "  - pop # Removes an arbitrary element from the set\n",
    "  - clear"
   ]
  },
  {
   "cell_type": "code",
   "execution_count": 2,
   "metadata": {},
   "outputs": [
    {
     "data": {
      "text/plain": [
       "{2, 6, 8, 9, 12, 21, 34, 35, 56, 78}"
      ]
     },
     "execution_count": 2,
     "metadata": {},
     "output_type": "execute_result"
    }
   ],
   "source": [
    "# union\n",
    "\n",
    "set_1.union(set_2)"
   ]
  },
  {
   "cell_type": "code",
   "execution_count": 3,
   "metadata": {},
   "outputs": [
    {
     "data": {
      "text/plain": [
       "{6, 9, 21}"
      ]
     },
     "execution_count": 3,
     "metadata": {},
     "output_type": "execute_result"
    }
   ],
   "source": [
    "# Intersection\n",
    "\n",
    "set_1.intersection(set_2)"
   ]
  },
  {
   "cell_type": "code",
   "execution_count": 28,
   "metadata": {},
   "outputs": [],
   "source": [
    "import timeit\n",
    "\n",
    "def intersection_operator():\n",
    "    return (set_1 & set_2)\n",
    "\n",
    "def intersection_method():\n",
    "    return set_1.intersection(set_2)\n",
    "\n"
   ]
  },
  {
   "cell_type": "code",
   "execution_count": 29,
   "metadata": {},
   "outputs": [
    {
     "data": {
      "text/plain": [
       "0.3541080340000917"
      ]
     },
     "execution_count": 29,
     "metadata": {},
     "output_type": "execute_result"
    }
   ],
   "source": [
    "timeit.timeit(intersection_operator)"
   ]
  },
  {
   "cell_type": "code",
   "execution_count": 30,
   "metadata": {},
   "outputs": [
    {
     "data": {
      "text/plain": [
       "0.4404282059999787"
      ]
     },
     "execution_count": 30,
     "metadata": {},
     "output_type": "execute_result"
    }
   ],
   "source": [
    "timeit.timeit(intersection_method)"
   ]
  }
 ],
 "metadata": {
  "kernelspec": {
   "display_name": "Python 3",
   "language": "python",
   "name": "python3"
  },
  "language_info": {
   "codemirror_mode": {
    "name": "ipython",
    "version": 3
   },
   "file_extension": ".py",
   "mimetype": "text/x-python",
   "name": "python",
   "nbconvert_exporter": "python",
   "pygments_lexer": "ipython3",
   "version": "3.5.2"
  }
 },
 "nbformat": 4,
 "nbformat_minor": 2
}
