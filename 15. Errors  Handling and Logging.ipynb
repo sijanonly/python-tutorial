{
 "cells": [
  {
   "cell_type": "markdown",
   "metadata": {},
   "source": [
    "### 1. SYNTAX ERRORS\n",
    "\n",
    " - misspelled keywords\n",
    " - wrong indentation\n",
    " - empty block in function or class definition"
   ]
  },
  {
   "cell_type": "markdown",
   "metadata": {},
   "source": [
    "### 2. RUNTIME ERRORS\n",
    "   -- Can be detected only when a particular line of code is executed\n",
    " \n",
    "  - incompatible operations (operations between int and str..)\n",
    "  - division by zero\n",
    "  - accessing identifier without predefined scopes\n",
    " "
   ]
  },
  {
   "cell_type": "markdown",
   "metadata": {},
   "source": [
    "### 3. LOGICAL ERRORS\n",
    "    \n",
    "  - Wrong implementation of logic or algorithms"
   ]
  },
  {
   "cell_type": "markdown",
   "metadata": {},
   "source": [
    "### 4. EXCEPTION HANDLING with ```try``` and ```except```"
   ]
  },
  {
   "cell_type": "code",
   "execution_count": 1,
   "metadata": {},
   "outputs": [
    {
     "name": "stdout",
     "output_type": "stream",
     "text": [
      "Please enter a number: 34\n",
      "you entered 34.\n"
     ]
    }
   ],
   "source": [
    "# EXAMPLE - 1\n",
    "try:\n",
    "    num = int(input(\"Please enter a number: \"))\n",
    "    print(\"you entered %d.\" % num)\n",
    "except ValueError:\n",
    "    print(\"Hey, that wasn't a number!\")"
   ]
  },
  {
   "cell_type": "code",
   "execution_count": null,
   "metadata": {
    "collapsed": true
   },
   "outputs": [],
   "source": [
    "# EXAMPLE - 2\n",
    "try:\n",
    "    dividend = int(input(\"Please enter the dividend: \"))\n",
    "    divisor = int(input(\"Please enter the divisor: \"))\n",
    "    print(\"%d / %d = %f\" % (dividend, divisor, dividend/divisor))\n",
    "except(ValueError, ZeroDivisionError) as e:\n",
    "    print(\"Oops, something went wrong! {}\".format(e))"
   ]
  },
  {
   "cell_type": "markdown",
   "metadata": {
    "collapsed": true
   },
   "source": [
    "### 5. ELSE and FINALLY\n",
    " \n",
    "  - If there is not any exception at ``` TRY ``` clause, the ```ELSE``` clause will be executed.\n",
    "  - If the logic/code in TRY block needs some clean-up, then use ELSE clause\n",
    "  - If you want some logic to executed even if any erros occure in your try/except logic or not, then you better use 'FINALLY' clause. So FINALLY will be executed at the end of try-except block no matter any events. ( Even if there are no error or raised error or error is handled or not handled.\n",
    "\n"
   ]
  },
  {
   "cell_type": "code",
   "execution_count": 6,
   "metadata": {},
   "outputs": [
    {
     "name": "stdout",
     "output_type": "stream",
     "text": [
      "Please enter a number: 23\n",
      "You entered 23.\n"
     ]
    }
   ],
   "source": [
    "# If we put extra login inside TRY clause, those extra logic may raise other errors\n",
    "# put only statement inside TRY which may raise exception NOT other logic to proceed that statement\n",
    "\n",
    "try:\n",
    "    num = int(input(\"Please enter a number: \"))\n",
    "except ValueError:\n",
    "    print(\"Hey, NOT A NUMBER!\")\n",
    "else:\n",
    "    print(\"You entered %d.\" % num)"
   ]
  },
  {
   "cell_type": "code",
   "execution_count": 4,
   "metadata": {},
   "outputs": [
    {
     "name": "stdout",
     "output_type": "stream",
     "text": [
      "Please enter a number: w\n",
      "Hey, NOT A NUMBER!\n"
     ]
    }
   ],
   "source": [
    "# same as above (BUT THE ABOVE IMPLEMENTATION IS THE BETTER PRACTICE)\n",
    "try:\n",
    "    num = int(input(\"Please enter a number: \"))\n",
    "    print(\"you entered %d.\" % num)\n",
    "except ValueError:\n",
    "    print(\"Hey, NOT A NUMBER!\")"
   ]
  },
  {
   "cell_type": "code",
   "execution_count": 8,
   "metadata": {},
   "outputs": [
    {
     "name": "stdout",
     "output_type": "stream",
     "text": [
      "Please enter your age: 23\n",
      "you entered 23.\n",
      "I am executed anyhow!!!!\n"
     ]
    }
   ],
   "source": [
    "# FINALLY clause to execute some code irrespective of any other circumstances.\n",
    "try:\n",
    "    num = int(input(\"Please enter your age: \"))\n",
    "except ValueError:\n",
    "     print(\"Hey, NOT A NUMBER!\")\n",
    "else:\n",
    "    print(\"you entered %d.\" % num)\n",
    "finally:\n",
    "    print(\"I am executed anyhow!!!!\")"
   ]
  },
  {
   "cell_type": "markdown",
   "metadata": {},
   "source": [
    "### 6. RAISING EXCEPTIONS"
   ]
  },
  {
   "cell_type": "code",
   "execution_count": null,
   "metadata": {
    "collapsed": true
   },
   "outputs": [],
   "source": []
  },
  {
   "cell_type": "code",
   "execution_count": 11,
   "metadata": {},
   "outputs": [
    {
     "name": "stdout",
     "output_type": "stream",
     "text": [
      "Please enter number between 0 and 1011\n",
      "Hey, NOT A NUMBER! : 11 is not a valid range number!!!\n"
     ]
    }
   ],
   "source": [
    "try:\n",
    "    num = int(input(\"Please enter number between 0 and 10\"))\n",
    "    if num <= 0 or num >= 10 :\n",
    "        raise ValueError(\"%d is not a valid range number!!!\" % num)\n",
    "except ValueError as err:\n",
    "    print(\"Hey, NOT A NUMBER! : %s\" % err)\n",
    "else:\n",
    "    print(\"you entered %d.\" % num)"
   ]
  },
  {
   "cell_type": "code",
   "execution_count": 13,
   "metadata": {},
   "outputs": [
    {
     "name": "stdout",
     "output_type": "stream",
     "text": [
      "Please enter your age: -9\n",
      "You entered incorrect age input: -9 is not a valid age. Age must be positive or zero.\n"
     ]
    }
   ],
   "source": [
    "try:\n",
    "    age = int(input(\"Please enter your age: \"))\n",
    "    if age < 0:\n",
    "        raise ValueError(\"%d is not a valid age. Age must be positive or zero.\" % age)\n",
    "except ValueError as err:\n",
    "    print(\"You entered incorrect age input: %s\" % err)\n",
    "else:\n",
    "    print(\"I see that you are %d years old.\" % age)\n",
    "    \n",
    "    "
   ]
  },
  {
   "cell_type": "code",
   "execution_count": null,
   "metadata": {
    "collapsed": true
   },
   "outputs": [],
   "source": [
    "# There may be the scenario, where you want to partially handle exceptions in your current execution (function)\n",
    "# and also wanted to respond something in the code which the \n",
    "# but also want to respond to it in the code which called this function\n",
    "\n",
    "try:\n",
    "    age = int(input(\"Please enter your age: \"))\n",
    "except ValueError as err:\n",
    "    print(\"You entered incorrect age input: %s\" % err)\n",
    "    raise err"
   ]
  },
  {
   "cell_type": "markdown",
   "metadata": {
    "collapsed": true
   },
   "source": [
    "###  NOTE\n",
    "\n",
    "  - Raise allows to propagate with its original traceback"
   ]
  },
  {
   "cell_type": "markdown",
   "metadata": {},
   "source": [
    "### RIGHT WAY TO DEAL WITH ERROR - go through the comments(story)"
   ]
  },
  {
   "cell_type": "code",
   "execution_count": 6,
   "metadata": {},
   "outputs": [
    {
     "ename": "FileNotFoundError",
     "evalue": "[Errno 2] No such file or directory: 'test.txt'",
     "output_type": "error",
     "traceback": [
      "\u001b[0;31m---------------------------------------------------------------------------\u001b[0m",
      "\u001b[0;31mFileNotFoundError\u001b[0m                         Traceback (most recent call last)",
      "\u001b[0;32m<ipython-input-6-dcc9ed220ae5>\u001b[0m in \u001b[0;36m<module>\u001b[0;34m()\u001b[0m\n\u001b[1;32m      1\u001b[0m \u001b[0;31m# suppose you are trying to read a file from your machine\u001b[0m\u001b[0;34m\u001b[0m\u001b[0;34m\u001b[0m\u001b[0m\n\u001b[1;32m      2\u001b[0m \u001b[0;34m\u001b[0m\u001b[0m\n\u001b[0;32m----> 3\u001b[0;31m \u001b[0mfile\u001b[0m \u001b[0;34m=\u001b[0m \u001b[0mopen\u001b[0m\u001b[0;34m(\u001b[0m\u001b[0;34m'test.txt'\u001b[0m\u001b[0;34m)\u001b[0m\u001b[0;34m\u001b[0m\u001b[0m\n\u001b[0m",
      "\u001b[0;31mFileNotFoundError\u001b[0m: [Errno 2] No such file or directory: 'test.txt'"
     ]
    }
   ],
   "source": [
    "# suppose you are trying to read a file from your machine\n",
    "\n",
    "file = open('test.txt')"
   ]
  },
  {
   "cell_type": "code",
   "execution_count": 8,
   "metadata": {},
   "outputs": [
    {
     "name": "stdout",
     "output_type": "stream",
     "text": [
      "oops !!! file not found\n"
     ]
    }
   ],
   "source": [
    "# this error can't be readable by the normal user or your customer\n",
    "\n",
    "try:\n",
    "    file = open('test.txt')\n",
    "except Exception:\n",
    "    print('oops !!! file not found')"
   ]
  },
  {
   "cell_type": "code",
   "execution_count": 9,
   "metadata": {},
   "outputs": [
    {
     "name": "stdout",
     "output_type": "stream",
     "text": [
      "oops !!! file not found\n"
     ]
    }
   ],
   "source": [
    "# suppose you embed some more logic inside try block\n",
    "# the code is same as above but this time THE FILE EXISTs in our local machine\n",
    "\n",
    "try:\n",
    "    file = open('requirements.txt')\n",
    "    new_var = test\n",
    "except Exception:\n",
    "    print('oops !!! file not found')"
   ]
  },
  {
   "cell_type": "code",
   "execution_count": 11,
   "metadata": {},
   "outputs": [
    {
     "ename": "NameError",
     "evalue": "name 'test' is not defined",
     "output_type": "error",
     "traceback": [
      "\u001b[0;31m---------------------------------------------------------------------------\u001b[0m",
      "\u001b[0;31mNameError\u001b[0m                                 Traceback (most recent call last)",
      "\u001b[0;32m<ipython-input-11-2231616ae33a>\u001b[0m in \u001b[0;36m<module>\u001b[0;34m()\u001b[0m\n\u001b[1;32m      4\u001b[0m \u001b[0;32mtry\u001b[0m\u001b[0;34m:\u001b[0m\u001b[0;34m\u001b[0m\u001b[0m\n\u001b[1;32m      5\u001b[0m     \u001b[0mfile\u001b[0m \u001b[0;34m=\u001b[0m \u001b[0mopen\u001b[0m\u001b[0;34m(\u001b[0m\u001b[0;34m'requirements.txt'\u001b[0m\u001b[0;34m)\u001b[0m\u001b[0;34m\u001b[0m\u001b[0m\n\u001b[0;32m----> 6\u001b[0;31m     \u001b[0mnew_var\u001b[0m \u001b[0;34m=\u001b[0m \u001b[0mtest\u001b[0m\u001b[0;34m\u001b[0m\u001b[0m\n\u001b[0m\u001b[1;32m      7\u001b[0m \u001b[0;32mexcept\u001b[0m \u001b[0mFileNotFoundError\u001b[0m\u001b[0;34m:\u001b[0m\u001b[0;34m\u001b[0m\u001b[0m\n\u001b[1;32m      8\u001b[0m     \u001b[0mprint\u001b[0m\u001b[0;34m(\u001b[0m\u001b[0;34m'oops !!! file not found'\u001b[0m\u001b[0;34m)\u001b[0m\u001b[0;34m\u001b[0m\u001b[0m\n",
      "\u001b[0;31mNameError\u001b[0m: name 'test' is not defined"
     ]
    }
   ],
   "source": [
    "# Above, although error is due to variable not found, the except block is running <- something is not right\n",
    "# let's handle particular error that may occur due to FILE NOT FOUND\n",
    "\n",
    "try:\n",
    "    file = open('requirements.txt')\n",
    "    new_var = test\n",
    "except FileNotFoundError:\n",
    "    print('oops !!! file not found')\n",
    "    \n",
    "# now, we found that the error is not due to file not found but due to the variable"
   ]
  },
  {
   "cell_type": "code",
   "execution_count": 13,
   "metadata": {},
   "outputs": [
    {
     "name": "stdout",
     "output_type": "stream",
     "text": [
      "something is wrong in your code!!\n"
     ]
    }
   ],
   "source": [
    "# let's create new block to catch the error due to variable\n",
    "\n",
    "try:\n",
    "    file = open('requirements.txt')\n",
    "    new_var = test\n",
    "except FileNotFoundError: # Specific handling\n",
    "    print('oops !!! file not found')\n",
    "except Exception: # generic handling\n",
    "    print('something is wrong in your code!!')"
   ]
  },
  {
   "cell_type": "code",
   "execution_count": 17,
   "metadata": {},
   "outputs": [
    {
     "name": "stdout",
     "output_type": "stream",
     "text": [
      "name 'test' is not defined\n"
     ]
    }
   ],
   "source": [
    "# still the message above can't be debugged\n",
    "\n",
    "try:\n",
    "    file = open('requirements.txt')\n",
    "    new_var = test\n",
    "except FileNotFoundError as e: # Specific handling\n",
    "    print(e)\n",
    "except Exception as e: # generic handling\n",
    "    print(e)"
   ]
  },
  {
   "cell_type": "code",
   "execution_count": 8,
   "metadata": {},
   "outputs": [
    {
     "name": "stdout",
     "output_type": "stream",
     "text": [
      "['appdirs==1.4.3\\n', 'backports-abc==0.5\\n', 'bleach==2.0.0\\n', 'decorator==4.0.11\\n', 'entrypoints==0.2.2\\n', 'html5lib==0.999999999\\n', 'ipykernel==4.6.1\\n', 'ipython==5.3.0\\n', 'ipython-genutils==0.2.0\\n', 'ipywidgets==6.0.0\\n', 'Jinja2==2.9.6\\n', 'jsonschema==2.6.0\\n', 'jupyter==1.0.0\\n', 'jupyter-client==5.0.1\\n', 'jupyter-console==5.1.0\\n', 'jupyter-core==4.3.0\\n', 'MarkupSafe==1.0\\n', 'mistune==0.7.4\\n', 'nbconvert==5.1.1\\n', 'nbformat==4.3.0\\n', 'notebook==5.0.0\\n', 'packaging==16.8\\n', 'pandocfilters==1.4.1\\n', 'pexpect==4.2.1\\n', 'pickleshare==0.7.4\\n', 'prompt-toolkit==1.0.14\\n', 'ptyprocess==0.5.1\\n', 'Pygments==2.2.0\\n', 'pyparsing==2.2.0\\n', 'python-dateutil==2.6.0\\n', 'pyzmq==16.0.2\\n', 'qtconsole==4.3.0\\n', 'simplegeneric==0.8.1\\n', 'six==1.10.0\\n', 'terminado==0.6\\n', 'testpath==0.3\\n', 'tornado==4.5\\n', 'traitlets==4.3.2\\n', 'wcwidth==0.1.7\\n', 'webencodings==0.5.1\\n', 'widgetsnbextension==2.0.0\\n']\n",
      "I will be run anyhow\n"
     ]
    }
   ],
   "source": [
    "# extra logic after successful execution of TRY\n",
    "# finally will be run anyhow!!! (EXAMPLE - CLOSE DOWN DATABASE CONNECTION) - something that should be done\n",
    "# even whether or not error occurs in your code\n",
    "\n",
    "try:\n",
    "    file = open('requirements.txt')\n",
    "except FileNotFoundError as e: # Specific handling\n",
    "    print(e)\n",
    "except Exception as e: # generic handling\n",
    "    print(e)\n",
    "else:\n",
    "    lines = file.readlines()\n",
    "    print(lines)\n",
    "    \n",
    "finally:\n",
    "    file.close()\n",
    "    print('I will be run anyhow')\n"
   ]
  },
  {
   "cell_type": "code",
   "execution_count": 6,
   "metadata": {
    "collapsed": true
   },
   "outputs": [],
   "source": [
    "# exception handling template\n",
    "try:\n",
    "   # do something\n",
    "   pass\n",
    "\n",
    "except ValueError:\n",
    "   # handle ValueError exception\n",
    "   pass\n",
    "\n",
    "except (TypeError, ZeroDivisionError):\n",
    "   # handle multiple exceptions\n",
    "   # TypeError and ZeroDivisionError\n",
    "    pass\n",
    "\n",
    "except:\n",
    "   # handle all other exceptions\n",
    "   pass"
   ]
  },
  {
   "cell_type": "markdown",
   "metadata": {},
   "source": [
    "### 7. LOGGING ERRORS\n",
    "\n",
    " ####  logging module\n",
    "\n",
    " - CRITICAL – Serios error in your program\n",
    " - ERROR – Less than critical\n",
    " - WARNING – not an error but warning for improvements\n",
    " - INFO – information for success or actions or evens\n",
    " - DEBUG – info for debugging purposes"
   ]
  },
  {
   "cell_type": "code",
   "execution_count": 14,
   "metadata": {
    "collapsed": true
   },
   "outputs": [],
   "source": [
    "import logging\n",
    "\n",
    "# initialize logging with our file and setting default level to ERROR\n",
    "logging.basicConfig(filename='test.log', level=logging.ERROR)\n",
    "\n",
    "logging.error(\"The file doesn't not exists\")\n",
    "logging.critical(\"Memory is full\")\n",
    "\n",
    "# but these ones won't\n",
    "logging.warning(\"The file size has 15 MB limit\")\n",
    "logging.info(\"The program enters to new_func\")\n",
    "logging.debug(\"The phone number column is of size 15 char only. 20 is given\")"
   ]
  },
  {
   "cell_type": "code",
   "execution_count": null,
   "metadata": {
    "collapsed": true
   },
   "outputs": [],
   "source": []
  }
 ],
 "metadata": {
  "kernelspec": {
   "display_name": "Python 3",
   "language": "python",
   "name": "python3"
  },
  "language_info": {
   "codemirror_mode": {
    "name": "ipython",
    "version": 3
   },
   "file_extension": ".py",
   "mimetype": "text/x-python",
   "name": "python",
   "nbconvert_exporter": "python",
   "pygments_lexer": "ipython3",
   "version": "3.5.2"
  }
 },
 "nbformat": 4,
 "nbformat_minor": 2
}
