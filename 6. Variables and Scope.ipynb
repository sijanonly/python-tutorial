{
 "cells": [
  {
   "cell_type": "markdown",
   "metadata": {},
   "source": [
    "### 1. Global And Local Variables"
   ]
  },
  {
   "cell_type": "markdown",
   "metadata": {},
   "source": [
    "we simply assign a value to a label without any concern about the data types.\n",
    "\n",
    "When a variable is defined in the main body of any python file, it is taken as a ```GLOBAL``` variable. It will be visible/accessible throughout the file and even inside other file which imports the file.\n"
   ]
  },
  {
   "cell_type": "code",
   "execution_count": 3,
   "metadata": {},
   "outputs": [
    {
     "name": "stdout",
     "output_type": "stream",
     "text": [
      "7\n",
      "3\n",
      "0\n",
      "1\n"
     ]
    },
    {
     "ename": "NameError",
     "evalue": "name 'var3' is not defined",
     "output_type": "error",
     "traceback": [
      "\u001b[0;31m---------------------------------------------------------------------------\u001b[0m",
      "\u001b[0;31mNameError\u001b[0m                                 Traceback (most recent call last)",
      "\u001b[0;32m<ipython-input-3-14b093b7a434>\u001b[0m in \u001b[0;36m<module>\u001b[0;34m()\u001b[0m\n\u001b[1;32m     20\u001b[0m \u001b[0;34m\u001b[0m\u001b[0m\n\u001b[1;32m     21\u001b[0m \u001b[0;31m# var3 and var4 don't exist anymore -- these statements will give us name errors!\u001b[0m\u001b[0;34m\u001b[0m\u001b[0;34m\u001b[0m\u001b[0m\n\u001b[0;32m---> 22\u001b[0;31m \u001b[0mprint\u001b[0m\u001b[0;34m(\u001b[0m\u001b[0mvar3\u001b[0m\u001b[0;34m)\u001b[0m\u001b[0;34m\u001b[0m\u001b[0m\n\u001b[0m\u001b[1;32m     23\u001b[0m \u001b[0mprint\u001b[0m\u001b[0;34m(\u001b[0m\u001b[0mvar4\u001b[0m\u001b[0;34m)\u001b[0m\u001b[0;34m\u001b[0m\u001b[0m\n",
      "\u001b[0;31mNameError\u001b[0m: name 'var3' is not defined"
     ]
    }
   ],
   "source": [
    "# var1 is a global variable\n",
    "var1 = 0\n",
    "\n",
    "if var1 == 0:\n",
    "    # This is still a global variable\n",
    "    var2 = 1\n",
    "\n",
    "def test_function(var3):\n",
    "    # var4 is a local variable\n",
    "    var4 = 3\n",
    "    print(var3)\n",
    "    print(var4)\n",
    "\n",
    "# Now we call the function, passing the value 7 as the first and only parameter\n",
    "test_function(7)\n",
    "\n",
    "# var1 and var2 still exist\n",
    "print(var1)\n",
    "print(var2)\n",
    "\n",
    "# var3 and var4 don't exist anymore -- these statements will give us name errors!\n",
    "print(var3)\n",
    "print(var4)"
   ]
  },
  {
   "cell_type": "markdown",
   "metadata": {},
   "source": [
    "### 2. More on Global Variables"
   ]
  },
  {
   "cell_type": "markdown",
   "metadata": {},
   "source": [
    "#### Example - 1"
   ]
  },
  {
   "cell_type": "code",
   "execution_count": 5,
   "metadata": {},
   "outputs": [
    {
     "name": "stdout",
     "output_type": "stream",
     "text": [
      "0\n"
     ]
    }
   ],
   "source": [
    "a = 0\n",
    "\n",
    "def test_function():\n",
    "    print(a)\n",
    "\n",
    "# when the function is called, the print will take global variable 'a'\n",
    "test_function()"
   ]
  },
  {
   "cell_type": "markdown",
   "metadata": {},
   "source": [
    "#### Example - 2"
   ]
  },
  {
   "cell_type": "code",
   "execution_count": 7,
   "metadata": {},
   "outputs": [
    {
     "name": "stdout",
     "output_type": "stream",
     "text": [
      "3\n",
      "0\n"
     ]
    }
   ],
   "source": [
    "a = 0\n",
    "\n",
    "def test_function():\n",
    "    a = 3\n",
    "    print(a)\n",
    "\n",
    "# the function when called print the local variable 'a'\n",
    "test_function()\n",
    "\n",
    "# it will take the global variable a\n",
    "print(a)"
   ]
  },
  {
   "cell_type": "markdown",
   "metadata": {},
   "source": [
    "### NOTE\n",
    "- the assignment inside the function simply create a new local variable 'a' without modifying the global variable 'a'. The lifetime of the local variable 'a' is only inside function."
   ]
  },
  {
   "cell_type": "markdown",
   "metadata": {},
   "source": [
    "#### Example - 3"
   ]
  },
  {
   "cell_type": "code",
   "execution_count": 8,
   "metadata": {},
   "outputs": [
    {
     "name": "stdout",
     "output_type": "stream",
     "text": [
      "3\n",
      "3\n"
     ]
    }
   ],
   "source": [
    "a = 0\n",
    "\n",
    "def test_function():\n",
    "    global a\n",
    "    a = 3\n",
    "    print(a)\n",
    "\n",
    "test_function()\n",
    "\n",
    "print(a)"
   ]
  },
  {
   "cell_type": "markdown",
   "metadata": {},
   "source": [
    "### NOTE\n",
    "-  Accessing global variables inside functions is taking as a bad practice and even worse if we try to modify them.\n",
    "-  If you need that variable, simply pass the variable in the function you created!"
   ]
  },
  {
   "cell_type": "markdown",
   "metadata": {},
   "source": [
    "### 3. Constants"
   ]
  },
  {
   "cell_type": "markdown",
   "metadata": {},
   "source": [
    "Other languages have convention to set constants, which can't be modified later in the program. But, Python doesn't have such strict rule over constants. But, widely used convention is using all caps and underscore to identify them."
   ]
  },
  {
   "cell_type": "code",
   "execution_count": 9,
   "metadata": {
    "collapsed": true
   },
   "outputs": [],
   "source": [
    "# These variables are \"constants\" by convention:\n",
    "FULL_MARKS = 100\n",
    "\n",
    "# Nothing is actually stopping us from redefining them...\n",
    "FULL_MARKS = 200"
   ]
  },
  {
   "cell_type": "markdown",
   "metadata": {},
   "source": [
    "### 4. Type Conversion\n",
    "\n",
    "Two types: implicit and explicit conversions."
   ]
  },
  {
   "cell_type": "markdown",
   "metadata": {},
   "source": [
    "#### 4.1 Implicit Conversion"
   ]
  },
  {
   "cell_type": "markdown",
   "metadata": {},
   "source": [
    " If you have integers and floating-point operation in any expression, python will automatically convert integers to floating-point before evaluation. "
   ]
  },
  {
   "cell_type": "code",
   "execution_count": 12,
   "metadata": {},
   "outputs": [
    {
     "data": {
      "text/plain": [
       "25.0"
      ]
     },
     "execution_count": 12,
     "metadata": {},
     "output_type": "execute_result"
    }
   ],
   "source": [
    "# in this example 2 will be converted to float before multiplication\n",
    "result = 12.5 * 2\n",
    "result"
   ]
  },
  {
   "cell_type": "code",
   "execution_count": 13,
   "metadata": {
    "collapsed": true
   },
   "outputs": [],
   "source": [
    "result = 8.5 + 7 // 3 - 2.5\n",
    "\n",
    "# // has the highest precedence\n",
    "# 8.5 + 2 - 2.5\n",
    "# The addition and subtraction are at the same level of precedence, so they are evaluated left-to-right\n",
    "# First 2 is converted to the floating-point number 2.0\n",
    "# 10.5 - 2.5"
   ]
  },
  {
   "cell_type": "markdown",
   "metadata": {},
   "source": [
    "#### 4.2 Explicit conversion"
   ]
  },
  {
   "cell_type": "code",
   "execution_count": 3,
   "metadata": {},
   "outputs": [
    {
     "name": "stdout",
     "output_type": "stream",
     "text": [
      "51\n",
      "52\n",
      "51\n"
     ]
    }
   ],
   "source": [
    "# explicitly converting float to int\n",
    "i = int(51.834)\n",
    "print(i)\n",
    "\n",
    "# math module in python provides functions : ceil and floor\n",
    "import math\n",
    "\n",
    "# ceil returns the closest integer greater than or equal to the number - round up\n",
    "var = math.ceil(51.834)\n",
    "print(var)\n",
    "\n",
    "# floor returns the closest integer less than or equal to the number - round down\n",
    "var = math.floor(51.834)\n",
    "print (var)\n"
   ]
  },
  {
   "cell_type": "markdown",
   "metadata": {},
   "source": [
    "#### 4.3 String Conversion"
   ]
  },
  {
   "cell_type": "markdown",
   "metadata": {},
   "source": [
    "### NOTE\n",
    "-  print function automatically convert given data (single number or any value) to string."
   ]
  },
  {
   "cell_type": "code",
   "execution_count": 4,
   "metadata": {},
   "outputs": [
    {
     "name": "stdout",
     "output_type": "stream",
     "text": [
      "51\n",
      "26.7\n",
      "test\n"
     ]
    },
    {
     "ename": "TypeError",
     "evalue": "Can't convert 'int' object to str implicitly",
     "output_type": "error",
     "traceback": [
      "\u001b[0;31m---------------------------------------------------------------------------\u001b[0m",
      "\u001b[0;31mTypeError\u001b[0m                                 Traceback (most recent call last)",
      "\u001b[0;32m<ipython-input-4-d945b56f1d6b>\u001b[0m in \u001b[0;36m<module>\u001b[0;34m()\u001b[0m\n\u001b[1;32m      5\u001b[0m \u001b[0;34m\u001b[0m\u001b[0m\n\u001b[1;32m      6\u001b[0m \u001b[0;31m# But, when you send combinatino of int and string, it will raise error\u001b[0m\u001b[0;34m\u001b[0m\u001b[0;34m\u001b[0m\u001b[0m\n\u001b[0;32m----> 7\u001b[0;31m \u001b[0mprint\u001b[0m\u001b[0;34m(\u001b[0m\u001b[0;34m\"3\"\u001b[0m \u001b[0;34m+\u001b[0m \u001b[0;36m4\u001b[0m\u001b[0;34m)\u001b[0m\u001b[0;34m\u001b[0m\u001b[0m\n\u001b[0m",
      "\u001b[0;31mTypeError\u001b[0m: Can't convert 'int' object to str implicitly"
     ]
    }
   ],
   "source": [
    "# passing int or float or string is fine with print\n",
    "print(51)\n",
    "print(26.7)\n",
    "print ('test')\n",
    "\n",
    "# But, when you send combinatino of int and string, it will raise error\n",
    "print(\"3\" + 4)"
   ]
  },
  {
   "cell_type": "code",
   "execution_count": 5,
   "metadata": {},
   "outputs": [
    {
     "name": "stdout",
     "output_type": "stream",
     "text": [
      "34\n",
      "34\n",
      "7\n"
     ]
    }
   ],
   "source": [
    "# if you need string then you better do this\n",
    "print(\"3%d\" % 4) # concatenate \"3\" and \"4\" to get \"34\"\n",
    "\n",
    "# or this\n",
    "\n",
    "print(\"3\" + str(4))\n",
    "\n",
    "# if you need integer value then\n",
    "print(int(\"3\") + 4) # add 3 and 4 to get 7"
   ]
  },
  {
   "cell_type": "markdown",
   "metadata": {},
   "source": [
    "### Boolean Type"
   ]
  },
  {
   "cell_type": "code",
   "execution_count": 7,
   "metadata": {},
   "outputs": [
    {
     "name": "stdout",
     "output_type": "stream",
     "text": [
      "[] evaluate to False\n",
      "['a value'] evaluate to True\n",
      " evaluate to False\n",
      "A string evaluate to True\n",
      "True evaluate to True\n",
      "False evaluate to False\n",
      "0 evaluate to False\n",
      "None evaluate to False\n",
      "0.0 evaluate to False\n",
      "1 evaluate to True\n"
     ]
    }
   ],
   "source": [
    "data = [[],['a value'],'','A string', True, False,0, None, 0.0, 1]\n",
    "\n",
    "for each_data in data:\n",
    "    print('%s evaluate to %s'%(each_data, bool(each_data)))\n",
    "\n",
    "# print (bool([]))\n",
    "# print (bool(['a value']))\n",
    "# print (bool(''))\n",
    "# print (bool('A string'))\n",
    "# print (bool(True))  # ;-)\n",
    "# print (bool(False))\n",
    "# print (bool(0))\n",
    "# print (bool(None))\n",
    "# print (bool(0.0))\n",
    "# print (bool(1))"
   ]
  },
  {
   "cell_type": "markdown",
   "metadata": {},
   "source": [
    "### NOTE\n",
    "- non-zero numbers are True values and zero is False\n",
    "- the empty string is treated as False, but any other string is True (even '0' and 'False' as string)"
   ]
  },
  {
   "cell_type": "code",
   "execution_count": null,
   "metadata": {
    "collapsed": true
   },
   "outputs": [],
   "source": []
  }
 ],
 "metadata": {
  "kernelspec": {
   "display_name": "Python 3",
   "language": "python",
   "name": "python3"
  },
  "language_info": {
   "codemirror_mode": {
    "name": "ipython",
    "version": 3
   },
   "file_extension": ".py",
   "mimetype": "text/x-python",
   "name": "python",
   "nbconvert_exporter": "python",
   "pygments_lexer": "ipython3",
   "version": "3.5.2"
  }
 },
 "nbformat": 4,
 "nbformat_minor": 2
}
