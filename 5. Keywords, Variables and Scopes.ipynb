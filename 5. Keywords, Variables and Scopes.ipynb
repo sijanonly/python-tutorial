{
 "cells": [
  {
   "cell_type": "markdown",
   "metadata": {
    "collapsed": true
   },
   "source": [
    "### List of Keywords"
   ]
  },
  {
   "cell_type": "markdown",
   "metadata": {},
   "source": [
    "           False      class      finally    is         return\n",
    "           None       continue   for        lambda     try\n",
    "           True       def        from       nonlocal   while\n",
    "           and        del        global     not        with\n",
    "           as         elif       if         or         yield\n",
    "           assert     else       import     pass\n",
    "           break      except     in         raise\n"
   ]
  },
  {
   "cell_type": "markdown",
   "metadata": {},
   "source": [
    "### Integer Operations"
   ]
  },
  {
   "cell_type": "code",
   "execution_count": 8,
   "metadata": {},
   "outputs": [
    {
     "data": {
      "text/html": [
       "<table><tr><td>Operation</td><td>Symbol</td><td>Example</td><td>Result</td></tr><tr><td>Division</td><td>//</td><td>24 // 12</td><td>2</td></tr><tr><td>Modulus (remainder)</td><td>%</td><td>28 % 10</td><td>8</td></tr><tr><td>Exponent (power)</td><td>**</td><td>2**10</td><td>1024</td></tr></table>"
      ],
      "text/plain": [
       "<IPython.core.display.HTML object>"
      ]
     },
     "metadata": {},
     "output_type": "display_data"
    }
   ],
   "source": [
    " from IPython.display import HTML, display\n",
    "\n",
    " data = [['Operation', 'Symbol', 'Example', 'Result'],\n",
    "         ['Division' ,'//', '24 // 12', 2],\n",
    "         ['Modulus (remainder)','%', '28 % 10',8],\n",
    "         ['Exponent (power)', '**', '2**10',1024]\n",
    "         ]\n",
    "\n",
    " display(HTML(\n",
    "    '<table><tr>{}</tr></table>'.format(\n",
    "        '</tr><tr>'.join(\n",
    "            '<td>{}</td>'.format('</td><td>'.join(str(_) for _ in row)) for row in data)\n",
    "        )\n",
    " ))"
   ]
  },
  {
   "cell_type": "markdown",
   "metadata": {},
   "source": [
    "### NOTE\n",
    "1. <font color='green'> In Python 3, / always performs floating-point division and // always performs integer division – even if the dividend and divisor are floats!</font>\n",
    "\n",
    "2. <font color='green'>Some other languages (e.g. C, Java) has limits for size of integers to be stored (2**8, 2**16, 2**32 and 2**64). Python has no fixed limit and store larger numbers if there is enough memory and processing power available on the machine.</font>"
   ]
  },
  {
   "cell_type": "markdown",
   "metadata": {},
   "source": [
    "#### Python is strongly Typed"
   ]
  },
  {
   "cell_type": "code",
   "execution_count": 11,
   "metadata": {},
   "outputs": [
    {
     "ename": "TypeError",
     "evalue": "Can't convert 'int' object to str implicitly",
     "output_type": "error",
     "traceback": [
      "\u001b[0;31m---------------------------------------------------------------------------\u001b[0m",
      "\u001b[0;31mTypeError\u001b[0m                                 Traceback (most recent call last)",
      "\u001b[0;32m<ipython-input-11-a84fe0b11f39>\u001b[0m in \u001b[0;36m<module>\u001b[0;34m()\u001b[0m\n\u001b[1;32m      1\u001b[0m \u001b[0;31m# we can't combine integer and string\u001b[0m\u001b[0;34m\u001b[0m\u001b[0;34m\u001b[0m\u001b[0m\n\u001b[1;32m      2\u001b[0m \u001b[0;34m\u001b[0m\u001b[0m\n\u001b[0;32m----> 3\u001b[0;31m \u001b[0mprint\u001b[0m\u001b[0;34m(\u001b[0m\u001b[0;34m\"total number \"\u001b[0m \u001b[0;34m+\u001b[0m \u001b[0;36m3\u001b[0m\u001b[0;34m)\u001b[0m\u001b[0;34m\u001b[0m\u001b[0m\n\u001b[0m",
      "\u001b[0;31mTypeError\u001b[0m: Can't convert 'int' object to str implicitly"
     ]
    }
   ],
   "source": [
    "# we can't combine integer and string\n",
    "\n",
    "print(\"total number \" + 3)"
   ]
  },
  {
   "cell_type": "code",
   "execution_count": 15,
   "metadata": {},
   "outputs": [
    {
     "name": "stdout",
     "output_type": "stream",
     "text": [
      "total number 30\n",
      "total number 30\n"
     ]
    }
   ],
   "source": [
    "# Use str() method to convert anything to string.\n",
    "\n",
    "print(\"total number \" + str(30))\n",
    "\n",
    "# String formatting for integer using %d.\n",
    "\n",
    "print(\"total number %d\" % 30)"
   ]
  },
  {
   "cell_type": "code",
   "execution_count": null,
   "metadata": {
    "collapsed": true
   },
   "outputs": [],
   "source": []
  }
 ],
 "metadata": {
  "kernelspec": {
   "display_name": "Python 3",
   "language": "python",
   "name": "python3"
  },
  "language_info": {
   "codemirror_mode": {
    "name": "ipython",
    "version": 3
   },
   "file_extension": ".py",
   "mimetype": "text/x-python",
   "name": "python",
   "nbconvert_exporter": "python",
   "pygments_lexer": "ipython3",
   "version": "3.5.2"
  }
 },
 "nbformat": 4,
 "nbformat_minor": 2
}
