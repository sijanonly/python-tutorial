{
 "cells": [
  {
   "cell_type": "markdown",
   "metadata": {},
   "source": [
    "### Jupter Notebook"
   ]
  },
  {
   "cell_type": "markdown",
   "metadata": {},
   "source": [
    "\n",
    "Jupter Notebook is an app which provides interface for interactive computing.\n",
    "We can present computer code along with rich text elements (paragraph, equations, figures etc).\n"
   ]
  },
  {
   "cell_type": "markdown",
   "metadata": {},
   "source": [
    "#### 1. Installing Jupyter Notebook"
   ]
  },
  {
   "cell_type": "markdown",
   "metadata": {},
   "source": [
    "\n",
    "Activate your virtual environment you would like to install Jupyter Notebook into. \n",
    "   \n",
    "     cd ~/environments \n",
    "     source my_env/bin/activate "
   ]
  },
  {
   "cell_type": "markdown",
   "metadata": {},
   "source": [
    "\n",
    "Let's ensure the latest version of pip in our computer by upgrading it.\n",
    "\n",
    "     pip install --upgrade pip\n"
   ]
  },
  {
   "cell_type": "markdown",
   "metadata": {},
   "source": [
    "Finally, install jupyter with command:\n",
    "\n",
    "     pip install jupyter\n"
   ]
  },
  {
   "cell_type": "markdown",
   "metadata": {},
   "source": [
    "#### 2. Running Jupyter Notebook"
   ]
  },
  {
   "cell_type": "markdown",
   "metadata": {},
   "source": [
    "\n",
    "Jupter notebook provides you a command to run it from your machine.Simply run following in your terminal:\n",
    "\n",
    "     jupyter notebook\n"
   ]
  },
  {
   "cell_type": "markdown",
   "metadata": {},
   "source": [
    "\n",
    "The command will open up Jupyter Notebook web application in your default browser. If not, you can go to following url in your browser: \n",
    "\n",
    "     localhost:8888\n",
    "\n",
    "\n",
    "You can stop the running notebook by pressing ```CTRL + C``` and typing ```Y``` when prompted.\n",
    "\n"
   ]
  },
  {
   "cell_type": "markdown",
   "metadata": {},
   "source": [
    "#### 3. Using Jupyter Notebook"
   ]
  },
  {
   "cell_type": "markdown",
   "metadata": {},
   "source": [
    "Create a new notebook file by selecting New > Python 3 from the top right pull-down menu:\n",
    "\n",
    "\n",
    "\n",
    "\n",
    "![create notebook file](images/start.png)"
   ]
  },
  {
   "cell_type": "markdown",
   "metadata": {},
   "source": [
    "\n",
    "We can split our the jupyter notebook cells for code and the documentation. For documentaion, we can use MARKDOWN.\n",
    "Go to navigation bar and select 'Markdown' from dropdown\n",
    "\n",
    "![title](images/markdown.png)"
   ]
  },
  {
   "cell_type": "markdown",
   "metadata": {},
   "source": [
    "#### 4. Sample Program"
   ]
  },
  {
   "cell_type": "markdown",
   "metadata": {},
   "source": [
    "<font color=\"blue\">Quadratic Equation </font>\n",
    "\n",
    "$ y = a * x^2 + b * x +c $\n",
    "\n",
    "where $x = 2, a = 1, b = 3, c = 4$"
   ]
  },
  {
   "cell_type": "code",
   "execution_count": 5,
   "metadata": {},
   "outputs": [
    {
     "name": "stdout",
     "output_type": "stream",
     "text": [
      "14\n"
     ]
    }
   ],
   "source": [
    "x,a,b,c = 2,1,3,4 #unpacking\n",
    "\n",
    "y = a * x ** 2 + b * x + c\n",
    "print (y)"
   ]
  },
  {
   "cell_type": "code",
   "execution_count": null,
   "metadata": {
    "collapsed": true
   },
   "outputs": [],
   "source": []
  }
 ],
 "metadata": {
  "kernelspec": {
   "display_name": "Python 3",
   "language": "python",
   "name": "python3"
  },
  "language_info": {
   "codemirror_mode": {
    "name": "ipython",
    "version": 3
   },
   "file_extension": ".py",
   "mimetype": "text/x-python",
   "name": "python",
   "nbconvert_exporter": "python",
   "pygments_lexer": "ipython3",
   "version": "3.5.2"
  }
 },
 "nbformat": 4,
 "nbformat_minor": 2
}
