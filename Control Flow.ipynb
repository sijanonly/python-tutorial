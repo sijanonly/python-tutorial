{
 "cells": [
  {
   "cell_type": "markdown",
   "metadata": {},
   "source": [
    "### 1. if - statement"
   ]
  },
  {
   "cell_type": "markdown",
   "metadata": {},
   "source": [
    "```\n",
    "if condition:\n",
    "    body\n",
    "    \n",
    "```"
   ]
  },
  {
   "cell_type": "code",
   "execution_count": 3,
   "metadata": {},
   "outputs": [
    {
     "name": "stdout",
     "output_type": "stream",
     "text": [
      "what is your age buddy?23\n",
      "You are man!\n"
     ]
    }
   ],
   "source": [
    "age = int(input('what is your age buddy?'))\n",
    "if age < 18:\n",
    "    print(\"Cannot have a beer!!!\")\n",
    "else:\n",
    "    print(\"You are a man!\")"
   ]
  },
  {
   "cell_type": "code",
   "execution_count": 6,
   "metadata": {},
   "outputs": [
    {
     "data": {
      "text/html": [
       "<table><tr><td>Operator</td><td>Description</td><td>Example</td></tr><tr><td>==</td><td>equal to</td><td>if (value == 18)</td></tr><tr><td>!=</td><td>not equal</td><td>to if (score != 100)</td></tr><tr><td>></td><td>greater than</td><td>if (count > 50)</td></tr><tr><td><</td><td>less than</td><td>if (price < 25)</td></tr><tr><td>>=</td><td>greater than or equal to</td><td>if (score >= 50)</td></tr><tr><td><=</td><td>less than or equal to</td><td>if (number <= 30)</td></tr></table>"
      ],
      "text/plain": [
       "<IPython.core.display.HTML object>"
      ]
     },
     "metadata": {},
     "output_type": "display_data"
    }
   ],
   "source": [
    "from IPython.display import HTML, display\n",
    "\n",
    "data = [['Operator', 'Description', 'Example'],\n",
    "         ['==', 'equal to', 'if (value == 18)'],\n",
    "         ['!=', 'not equal' ,'to if (score != 100)'],\n",
    "         ['>' , 'greater than', 'if (count > 50)'],\n",
    "         ['<', 'less than', 'if (price < 25)'],\n",
    "         ['>=', 'greater than or equal to', 'if (score >= 50)'],\n",
    "         ['<=', 'less than or equal to', 'if (number <= 30)']\n",
    "         ]\n",
    "\n",
    "display(HTML(\n",
    "    '<table><tr>{}</tr></table>'.format(\n",
    "        '</tr><tr>'.join(\n",
    "            '<td>{}</td>'.format('</td><td>'.join(str(_) for _ in row)) for row in data)\n",
    "        )\n",
    " ))"
   ]
  },
  {
   "cell_type": "code",
   "execution_count": null,
   "metadata": {
    "collapsed": true
   },
   "outputs": [],
   "source": []
  }
 ],
 "metadata": {
  "kernelspec": {
   "display_name": "Python 3",
   "language": "python",
   "name": "python3"
  },
  "language_info": {
   "codemirror_mode": {
    "name": "ipython",
    "version": 3
   },
   "file_extension": ".py",
   "mimetype": "text/x-python",
   "name": "python",
   "nbconvert_exporter": "python",
   "pygments_lexer": "ipython3",
   "version": "3.5.2"
  }
 },
 "nbformat": 4,
 "nbformat_minor": 2
}
