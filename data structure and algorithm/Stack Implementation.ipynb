{
 "cells": [
  {
   "cell_type": "markdown",
   "metadata": {},
   "source": [
    "#### ASSUMPTION : We will be using list class and assume that the right end of the list is 'top' of our 'stack'"
   ]
  },
  {
   "cell_type": "code",
   "execution_count": 1,
   "metadata": {
    "collapsed": true
   },
   "outputs": [],
   "source": [
    "\"\"\"This is an implementation of stack abstract data type.\n",
    "Stack is based on LIFO principle. i.e The element/item which is inserted\n",
    "at last is the one eligible to move out first.\n",
    ".. moduleauthor: Sijan Bhandari <sijanonly@gmail.com>\n",
    "\"\"\"\n",
    "\n",
    "\n",
    "class Stack():\n",
    "    \"\"\"This is a class which represents a stack.\n",
    "\n",
    "    Attributes:\n",
    "        elements (list): All items for stack will be stored in elements.\n",
    "    \"\"\"\n",
    "    def __init__(self):\n",
    "        \"\"\"Constructor of the Stack Class.\n",
    "        \"\"\"\n",
    "        self.elements = []\n",
    "\n",
    "    def isEmpty(self):\n",
    "        \"\"\"Checks if the stack is empty or not.\n",
    "\n",
    "        Returns:\n",
    "            bool: If the size of the stack is zero,\n",
    "            the stack will of length zero.\n",
    "        \"\"\"\n",
    "        return self.size() == 0\n",
    "\n",
    "    def size(self):\n",
    "        \"\"\"Returns the size of the stack.\n",
    "\n",
    "        Returns:\n",
    "            int: The total count of the elements in the stack.\n",
    "        \"\"\"\n",
    "        return len(self.elements)\n",
    "\n",
    "    def push(self, elm):\n",
    "        \"\"\"Inserts a new element to stack.\n",
    "\n",
    "        Args:\n",
    "            elm (ANY): Stack can save any type of elements.\n",
    "        \"\"\"\n",
    "        self.elements.append(elm)\n",
    "\n",
    "    def pop(self):\n",
    "        \"\"\"Fetch out the recent/last inserted element from stack.\n",
    "           Also, the element will be removed from the stack.\n",
    "\n",
    "        Returns:\n",
    "            ANY: The outermost item of the stack.\n",
    "        \"\"\"\n",
    "        return self.elements.pop()\n",
    "\n",
    "    def peek(self):\n",
    "        \"\"\"Same as pop operation but the element is remain unchanged.\n",
    "\n",
    "        Returns:\n",
    "            ANY: The outermost item of the stack.\n",
    "        \"\"\"\n",
    "        return self.elements[self.size() - 1]\n"
   ]
  },
  {
   "cell_type": "code",
   "execution_count": 32,
   "metadata": {
    "collapsed": true
   },
   "outputs": [],
   "source": [
    "stack = Stack()"
   ]
  },
  {
   "cell_type": "code",
   "execution_count": 33,
   "metadata": {},
   "outputs": [
    {
     "data": {
      "text/plain": [
       "True"
      ]
     },
     "execution_count": 33,
     "metadata": {},
     "output_type": "execute_result"
    }
   ],
   "source": [
    "stack.isEmpty()\n"
   ]
  },
  {
   "cell_type": "code",
   "execution_count": 35,
   "metadata": {
    "collapsed": true
   },
   "outputs": [],
   "source": [
    "stack.push(2)"
   ]
  },
  {
   "cell_type": "code",
   "execution_count": 36,
   "metadata": {},
   "outputs": [
    {
     "data": {
      "text/plain": [
       "False"
      ]
     },
     "execution_count": 36,
     "metadata": {},
     "output_type": "execute_result"
    }
   ],
   "source": [
    "stack.isEmpty()"
   ]
  },
  {
   "cell_type": "code",
   "execution_count": 37,
   "metadata": {},
   "outputs": [
    {
     "data": {
      "text/plain": [
       "2"
      ]
     },
     "execution_count": 37,
     "metadata": {},
     "output_type": "execute_result"
    }
   ],
   "source": [
    "stack.size()"
   ]
  },
  {
   "cell_type": "code",
   "execution_count": 38,
   "metadata": {},
   "outputs": [
    {
     "data": {
      "text/plain": [
       "2"
      ]
     },
     "execution_count": 38,
     "metadata": {},
     "output_type": "execute_result"
    }
   ],
   "source": [
    "stack.peek()"
   ]
  },
  {
   "cell_type": "code",
   "execution_count": 39,
   "metadata": {},
   "outputs": [
    {
     "data": {
      "text/plain": [
       "2"
      ]
     },
     "execution_count": 39,
     "metadata": {},
     "output_type": "execute_result"
    }
   ],
   "source": [
    "stack.size()"
   ]
  },
  {
   "cell_type": "code",
   "execution_count": 40,
   "metadata": {
    "collapsed": true
   },
   "outputs": [],
   "source": [
    "stack.push(4)"
   ]
  },
  {
   "cell_type": "code",
   "execution_count": 41,
   "metadata": {},
   "outputs": [
    {
     "data": {
      "text/plain": [
       "[2, 2, 4]"
      ]
     },
     "execution_count": 41,
     "metadata": {},
     "output_type": "execute_result"
    }
   ],
   "source": [
    "stack.elements"
   ]
  },
  {
   "cell_type": "code",
   "execution_count": null,
   "metadata": {
    "collapsed": true
   },
   "outputs": [],
   "source": []
  },
  {
   "cell_type": "markdown",
   "metadata": {},
   "source": [
    "### Implementations"
   ]
  },
  {
   "cell_type": "markdown",
   "metadata": {},
   "source": [
    "#### 1. Reverse String  characters with STACK implementation."
   ]
  },
  {
   "cell_type": "code",
   "execution_count": 32,
   "metadata": {
    "collapsed": true
   },
   "outputs": [],
   "source": [
    "def reverseString(word):\n",
    "    \"\"\"Reverse the order of characters from any given string.\n",
    "\n",
    "    Args:\n",
    "        word (string): The word to be reversed.\n",
    "\n",
    "    Returns:\n",
    "        string: The reversed word/string of the given string.\n",
    "    \"\"\"\n",
    "    stack_rev = Stack()\n",
    "    for each_item in word:\n",
    "        stack_rev.push(each_item)\n",
    "    reverse_string = ''\n",
    "    while not stack_rev.isEmpty():\n",
    "        reverse_string += stack_rev.pop()\n",
    "\n",
    "    return reverse_string"
   ]
  },
  {
   "cell_type": "code",
   "execution_count": 33,
   "metadata": {},
   "outputs": [
    {
     "data": {
      "text/plain": [
       "'najis'"
      ]
     },
     "execution_count": 33,
     "metadata": {},
     "output_type": "execute_result"
    }
   ],
   "source": [
    "reverseString('sijan')"
   ]
  },
  {
   "cell_type": "markdown",
   "metadata": {
    "collapsed": true
   },
   "source": [
    "#### 2. Check Balanced parentheses  of a mathematical expression (checking only for small parentheses)"
   ]
  },
  {
   "cell_type": "code",
   "execution_count": 37,
   "metadata": {
    "collapsed": true
   },
   "outputs": [],
   "source": [
    "def checkBalancedSmallBraces(expression):\n",
    "    \"\"\"Check whether a mathematical expression is balanced or not.\n",
    "\n",
    "    Args:\n",
    "        expression (string): The string to be checked.\n",
    "\n",
    "    Returns:\n",
    "        bool: If the expression is balanced,\n",
    "        it will return True otherwise False.\n",
    "    \"\"\"\n",
    "    i = 0\n",
    "    stack_paren = Stack()\n",
    "    balanced = True\n",
    "    while i < len(expression):\n",
    "        if expression[i] == '(':\n",
    "            stack_paren.push(expression[i])\n",
    "        else:\n",
    "            if stack_paren.isEmpty():\n",
    "                balanced = False\n",
    "            else:\n",
    "                stack_paren.pop()\n",
    "\n",
    "        i = i + 1\n",
    "    if stack_paren.isEmpty() and balanced:\n",
    "        return True\n",
    "    else:\n",
    "        return False\n"
   ]
  },
  {
   "cell_type": "code",
   "execution_count": 38,
   "metadata": {},
   "outputs": [
    {
     "data": {
      "text/plain": [
       "True"
      ]
     },
     "execution_count": 38,
     "metadata": {},
     "output_type": "execute_result"
    }
   ],
   "source": [
    "checkBalancedSmallBraces('()')"
   ]
  },
  {
   "cell_type": "code",
   "execution_count": 39,
   "metadata": {},
   "outputs": [
    {
     "data": {
      "text/plain": [
       "False"
      ]
     },
     "execution_count": 39,
     "metadata": {},
     "output_type": "execute_result"
    }
   ],
   "source": [
    "checkBalancedSmallBraces('(((())))))')"
   ]
  },
  {
   "cell_type": "markdown",
   "metadata": {},
   "source": [
    "#### 3.  Check Balanced parentheses of a mathematical expression (checking for all symbols '({[' "
   ]
  },
  {
   "cell_type": "code",
   "execution_count": 47,
   "metadata": {
    "collapsed": true
   },
   "outputs": [],
   "source": [
    "\n",
    "\n",
    "def matchSymbol(open_sym, close_sym):\n",
    "    \"\"\"Check if the open symbol and close symbol are of same kind.\n",
    "\n",
    "    Args:\n",
    "        open_sym (string): Opening mathematical expression\n",
    "        close_sym (string): Closing mathematical expression\n",
    "\n",
    "    Returns:\n",
    "        bool: If the open_sym and close_sym are similar kind,\n",
    "        it will return True otherwise False.\n",
    "    \"\"\"\n",
    "    open_expression = '({['\n",
    "    close_expression = ']})'\n",
    "    return open_expression.index(open_sym) == close_expression.index(close_sym)\n",
    "\n",
    "\n",
    "def checkBalancedSymbols(expression):\n",
    "    \"\"\"Check if the given expression is balanced mathematical expression or not.\n",
    "\n",
    "    Args:\n",
    "        expression (string): Expression to be checked.\n",
    "\n",
    "    Returns:\n",
    "        bool: If the given mathematical expression is balanced,\n",
    "        it will return True otherwise False.\n",
    "    \"\"\"\n",
    "    i = 0\n",
    "    balanced = True\n",
    "    stack_symbol = Stack()\n",
    "    for elm in expression:\n",
    "        if elm in '({[':\n",
    "            stack_symbol.push(elm)\n",
    "        else:\n",
    "            if stack_symbol.isEmpty():\n",
    "                balanced = False\n",
    "            else:\n",
    "                open_symbol = stack_symbol.pop()\n",
    "                close_symbol = elm\n",
    "                if matchSymbol(open_symbol, close_symbol):\n",
    "                    balanced = True\n",
    "    if stack_symbol.isEmpty() and balanced:\n",
    "        return True\n",
    "    else:\n",
    "        return False\n"
   ]
  },
  {
   "cell_type": "code",
   "execution_count": 48,
   "metadata": {},
   "outputs": [
    {
     "data": {
      "text/plain": [
       "True"
      ]
     },
     "execution_count": 48,
     "metadata": {},
     "output_type": "execute_result"
    }
   ],
   "source": [
    "checkBalancedSymbols('({{[]}})')"
   ]
  },
  {
   "cell_type": "code",
   "execution_count": 49,
   "metadata": {},
   "outputs": [
    {
     "data": {
      "text/plain": [
       "False"
      ]
     },
     "execution_count": 49,
     "metadata": {},
     "output_type": "execute_result"
    }
   ],
   "source": [
    "checkBalancedSymbols('[{]')"
   ]
  },
  {
   "cell_type": "markdown",
   "metadata": {
    "collapsed": true
   },
   "source": [
    "#### 4. Convert Decimal to binary numbers"
   ]
  },
  {
   "cell_type": "code",
   "execution_count": 4,
   "metadata": {
    "collapsed": true
   },
   "outputs": [],
   "source": [
    "def decimalToBinary(decimal_number):\n",
    "    \"\"\"Convert given decimal number to binary number.\n",
    "\n",
    "       Here, we use remainder operator to store the rem. to our stack.\n",
    "       And, at the same time the given decimal number is being\n",
    "       reduced to half since '2' act as a base value for\n",
    "       binary conversion.\n",
    "       '//' is being used to performs integer division.\n",
    "\n",
    "    Args:\n",
    "        decimal_number (int): Decimal number to be converted to binary\n",
    "\n",
    "    Returns:\n",
    "        str: Binary representation of given decimal number.\n",
    "    \"\"\"\n",
    "    binary_string = \"\"\n",
    "    stack_bin = Stack()\n",
    "    while decimal_number:\n",
    "        remainder = decimal_number % 2\n",
    "        stack_bin.push(remainder)\n",
    "        decimal_number = decimal_number // 2\n",
    "    while not stack_bin.isEmpty():\n",
    "        binary_string += str(stack_bin.pop())\n",
    "    return binary_string\n"
   ]
  },
  {
   "cell_type": "code",
   "execution_count": 5,
   "metadata": {},
   "outputs": [
    {
     "data": {
      "text/plain": [
       "'100'"
      ]
     },
     "execution_count": 5,
     "metadata": {},
     "output_type": "execute_result"
    }
   ],
   "source": [
    "decimalToBinary(4)"
   ]
  },
  {
   "cell_type": "code",
   "execution_count": 6,
   "metadata": {},
   "outputs": [
    {
     "data": {
      "text/plain": [
       "'1101111'"
      ]
     },
     "execution_count": 6,
     "metadata": {},
     "output_type": "execute_result"
    }
   ],
   "source": [
    "decimalToBinary(111)"
   ]
  },
  {
   "cell_type": "code",
   "execution_count": 24,
   "metadata": {},
   "outputs": [],
   "source": [
    "%matplotlib inline\n",
    "from matplotlib import pyplot\n",
    "\n",
    "import random\n",
    "import timeit\n",
    "from functools import partial\n",
    "def plot_time_complexity(fn, min_value, max_value, size, no_of_tests):\n",
    "    \"\"\"\n",
    "    Plotting time complexity based on given function.\n",
    "    \"\"\"\n",
    "    x = []\n",
    "    y = []\n",
    "\n",
    "    for i in random.sample(range(min_value, max_value),k=size):\n",
    "        N = i\n",
    "        timer = timeit.Timer(partial(fn, N))\n",
    "        t = timer.timeit(number=no_of_tests)\n",
    "        x.append(i)\n",
    "        y.append(t)\n",
    "    p1 = pyplot.plot(x, y, 'o', label = fn.__name__)\n",
    "    pyplot.legend(loc='upper left')\n",
    "    pyplot.xlabel('data size', fontsize=18)\n",
    "    pyplot.ylabel('execution time', fontsize=16)"
   ]
  },
  {
   "cell_type": "code",
   "execution_count": 25,
   "metadata": {},
   "outputs": [
    {
     "data": {
      "image/png": "[encoded data removed]",
      "text/plain": [
       "<matplotlib.figure.Figure at 0x7fa1ac1aa2e8>"
      ]
     },
     "metadata": {},
     "output_type": "display_data"
    }
   ],
   "source": [
    "plot_time_complexity(decimalToBinary, 10, 100000, 100, 1000)"
   ]
  },
  {
   "cell_type": "code",
   "execution_count": null,
   "metadata": {
    "collapsed": true
   },
   "outputs": [],
   "source": []
  }
 ],
 "metadata": {
  "kernelspec": {
   "display_name": "Python 3",
   "language": "python",
   "name": "python3"
  },
  "language_info": {
   "codemirror_mode": {
    "name": "ipython",
    "version": 3
   },
   "file_extension": ".py",
   "mimetype": "text/x-python",
   "name": "python",
   "nbconvert_exporter": "python",
   "pygments_lexer": "ipython3",
   "version": "3.5.2"
  }
 },
 "nbformat": 4,
 "nbformat_minor": 2
}
