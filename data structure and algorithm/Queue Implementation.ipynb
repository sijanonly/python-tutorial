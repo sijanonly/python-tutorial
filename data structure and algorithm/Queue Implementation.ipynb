{
 "cells": [
  {
   "cell_type": "markdown",
   "metadata": {},
   "source": [
    "### Queue Abstract Data Type\n",
    "   - Queue works as data structure where we add new items at one end ( 'rear' ) and remove from another end ( 'front' )\n",
    "   - This follow FIFO ( first in first out) flow."
   ]
  },
  {
   "cell_type": "code",
   "execution_count": 9,
   "metadata": {
    "collapsed": true
   },
   "outputs": [],
   "source": [
    "\"\"\"This is an implementation of queue abstract data type.\n",
    "Stack is based on FIFO principle. i.e The element/item which is inserted\n",
    "at first is the one eligible to move out first.\n",
    ".. moduleauthor: Sijan Bhandari <sijanonly@gmail.com>\n",
    "\"\"\"\n",
    "\n",
    "\n",
    "class Queue():\n",
    "    \"\"\"This is a class which represents a queue.\n",
    "\n",
    "    Attributes:\n",
    "        elements (list): All items for queue will be stored in elements.\n",
    "    \"\"\"\n",
    "    def __init__(self):\n",
    "        \"\"\"Constructor of the Queue Class.\n",
    "        \"\"\"\n",
    "        self.elements = []\n",
    "\n",
    "    def enqueue(self, elm):\n",
    "        \"\"\"Inserts new elm to the queue.\n",
    "\n",
    "        Args:\n",
    "            item (ANY): Element to be inserted.\n",
    "        \"\"\"\n",
    "        self.elements.insert(0, elm)\n",
    "\n",
    "    def dequeue(self):\n",
    "        \"\"\"Removes the first element from the queue.\n",
    "\n",
    "        Returns:\n",
    "            ANY: First element in the queue\n",
    "        \"\"\"\n",
    "        return self.elements.pop()\n",
    "\n",
    "    def isEmpty(self):\n",
    "        \"\"\"Checks if the queue is empty or not.\n",
    "\n",
    "        Returns:\n",
    "            bool: Returns True if the queue is empty otherwise returns False.\n",
    "        \"\"\"\n",
    "        return self.size() == 0\n",
    "\n",
    "    def size(self):\n",
    "        \"\"\"Checks the size of the queue.\n",
    "\n",
    "        Returns:\n",
    "            int: Total number of elements in the queue.\n",
    "        \"\"\"\n",
    "        return len(self.elements)\n"
   ]
  },
  {
   "cell_type": "code",
   "execution_count": 10,
   "metadata": {
    "collapsed": true
   },
   "outputs": [],
   "source": [
    "que = Queue()"
   ]
  },
  {
   "cell_type": "code",
   "execution_count": 11,
   "metadata": {
    "collapsed": true
   },
   "outputs": [],
   "source": [
    "que.enqueue(3)"
   ]
  },
  {
   "cell_type": "code",
   "execution_count": 12,
   "metadata": {
    "collapsed": true
   },
   "outputs": [],
   "source": [
    "que.enqueue(33)"
   ]
  },
  {
   "cell_type": "code",
   "execution_count": 13,
   "metadata": {},
   "outputs": [
    {
     "data": {
      "text/plain": [
       "2"
      ]
     },
     "execution_count": 13,
     "metadata": {},
     "output_type": "execute_result"
    }
   ],
   "source": [
    "que.size()"
   ]
  },
  {
   "cell_type": "code",
   "execution_count": 14,
   "metadata": {},
   "outputs": [
    {
     "data": {
      "text/plain": [
       "[33, 3]"
      ]
     },
     "execution_count": 14,
     "metadata": {},
     "output_type": "execute_result"
    }
   ],
   "source": [
    "que.elements"
   ]
  },
  {
   "cell_type": "code",
   "execution_count": 15,
   "metadata": {},
   "outputs": [
    {
     "data": {
      "text/plain": [
       "3"
      ]
     },
     "execution_count": 15,
     "metadata": {},
     "output_type": "execute_result"
    }
   ],
   "source": [
    "que.dequeue()"
   ]
  },
  {
   "cell_type": "code",
   "execution_count": 16,
   "metadata": {},
   "outputs": [
    {
     "data": {
      "text/plain": [
       "False"
      ]
     },
     "execution_count": 16,
     "metadata": {},
     "output_type": "execute_result"
    }
   ],
   "source": [
    "que.isEmpty()"
   ]
  },
  {
   "cell_type": "code",
   "execution_count": 17,
   "metadata": {},
   "outputs": [
    {
     "data": {
      "text/plain": [
       "33"
      ]
     },
     "execution_count": 17,
     "metadata": {},
     "output_type": "execute_result"
    }
   ],
   "source": [
    "que.dequeue()"
   ]
  },
  {
   "cell_type": "code",
   "execution_count": 19,
   "metadata": {},
   "outputs": [
    {
     "data": {
      "text/plain": [
       "True"
      ]
     },
     "execution_count": 19,
     "metadata": {},
     "output_type": "execute_result"
    }
   ],
   "source": [
    "que.isEmpty()"
   ]
  },
  {
   "cell_type": "code",
   "execution_count": null,
   "metadata": {
    "collapsed": true
   },
   "outputs": [],
   "source": []
  }
 ],
 "metadata": {
  "kernelspec": {
   "display_name": "Python 3",
   "language": "python",
   "name": "python3"
  },
  "language_info": {
   "codemirror_mode": {
    "name": "ipython",
    "version": 3
   },
   "file_extension": ".py",
   "mimetype": "text/x-python",
   "name": "python",
   "nbconvert_exporter": "python",
   "pygments_lexer": "ipython3",
   "version": "3.5.2"
  }
 },
 "nbformat": 4,
 "nbformat_minor": 2
}
