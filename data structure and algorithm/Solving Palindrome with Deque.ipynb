{
 "cells": [
  {
   "cell_type": "code",
   "execution_count": 1,
   "metadata": {
    "collapsed": true
   },
   "outputs": [],
   "source": [
    "\"\"\"This is an implementation of deque abstract data type.\n",
    "item can be inserted or removed from either end.\n",
    ".. moduleauthor: Sijan Bhandari <sijanonly@gmail.com>\n",
    "\"\"\"\n",
    "\n",
    "\n",
    "class Deque():\n",
    "    \"\"\"This is a class representing deque.\n",
    "\n",
    "    Attributes:\n",
    "        elements (list): Each item will be stored in elements.\n",
    "    \"\"\"\n",
    "    def __init__(self):\n",
    "        \"\"\"Summary\n",
    "        \"\"\"\n",
    "        self.elements = []\n",
    "\n",
    "    def addFront(self, elm):\n",
    "        \"\"\"Adds new element from front.\n",
    "\n",
    "        Args:\n",
    "            elm (ANY): Element to be inserted to deque from front.\n",
    "        \"\"\"\n",
    "        self.elements.append(elm)\n",
    "\n",
    "    def addRear(self, elm):\n",
    "        \"\"\"Adds new element from rear.\n",
    "\n",
    "        Args:\n",
    "            elm (ANY): Element to be inserted to deque from rear.\n",
    "        \"\"\"\n",
    "        self.elements.insert(0, elm)\n",
    "\n",
    "    def removeFront(self):\n",
    "        \"\"\"Removes element from rear\n",
    "        \"\"\"\n",
    "        return self.elements.pop()\n",
    "\n",
    "    def removeRear(self):\n",
    "        \"\"\"Summary\n",
    "        \"\"\"\n",
    "        return self.elements.pop(0)\n",
    "\n",
    "    def isEmpty(self):\n",
    "        \"\"\"Checks if deque is empty or not.\n",
    "\n",
    "        Returns:\n",
    "            bool: Returns true if deque is not empty otherwise returns false.\n",
    "        \"\"\"\n",
    "        return self.elements == []\n",
    "\n",
    "    def size(self):\n",
    "        \"\"\"Checks the size of the deque.\n",
    "\n",
    "        Returns:\n",
    "            int: Returns the total lenght of the elements.\n",
    "        \"\"\"\n",
    "        return len(self.elements)\n"
   ]
  },
  {
   "cell_type": "code",
   "execution_count": 10,
   "metadata": {
    "collapsed": true
   },
   "outputs": [],
   "source": [
    "def checkPalindrome(word):\n",
    "    \"\"\"Checks whether a word is palindrome or not.\n",
    "       Palindrome are those which reads same fron both sides of the word.\n",
    "         Ex : Madam, anna\n",
    "    Args:\n",
    "        word (string): Word to be checked.\n",
    "\n",
    "    Returns:\n",
    "        TYPE: Description\n",
    "    \"\"\"\n",
    "    deque_pal = Deque()\n",
    "    for char in word:\n",
    "        deque_pal.addRear(char)\n",
    "\n",
    "    is_palindrome = True\n",
    "\n",
    "    while deque_pal.size() > 1:\n",
    "        front_item = deque_pal.removeFront()\n",
    "        rear_item = deque_pal.removeRear()\n",
    "        if front_item != rear_item:\n",
    "            is_palindrome = False\n",
    "            break\n",
    "    return is_palindrome\n"
   ]
  },
  {
   "cell_type": "code",
   "execution_count": 11,
   "metadata": {},
   "outputs": [
    {
     "data": {
      "text/plain": [
       "True"
      ]
     },
     "execution_count": 11,
     "metadata": {},
     "output_type": "execute_result"
    }
   ],
   "source": [
    "checkPalindrome('madam')"
   ]
  },
  {
   "cell_type": "code",
   "execution_count": 12,
   "metadata": {},
   "outputs": [
    {
     "data": {
      "text/plain": [
       "False"
      ]
     },
     "execution_count": 12,
     "metadata": {},
     "output_type": "execute_result"
    }
   ],
   "source": [
    "checkPalindrome('testtest')"
   ]
  },
  {
   "cell_type": "code",
   "execution_count": 13,
   "metadata": {},
   "outputs": [
    {
     "data": {
      "text/plain": [
       "True"
      ]
     },
     "execution_count": 13,
     "metadata": {},
     "output_type": "execute_result"
    }
   ],
   "source": [
    "checkPalindrome('anna')"
   ]
  },
  {
   "cell_type": "code",
   "execution_count": null,
   "metadata": {
    "collapsed": true
   },
   "outputs": [],
   "source": []
  }
 ],
 "metadata": {
  "kernelspec": {
   "display_name": "Python 3",
   "language": "python",
   "name": "python3"
  },
  "language_info": {
   "codemirror_mode": {
    "name": "ipython",
    "version": 3
   },
   "file_extension": ".py",
   "mimetype": "text/x-python",
   "name": "python",
   "nbconvert_exporter": "python",
   "pygments_lexer": "ipython3",
   "version": "3.5.2"
  }
 },
 "nbformat": 4,
 "nbformat_minor": 2
}
