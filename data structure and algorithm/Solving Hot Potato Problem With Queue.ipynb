{
 "cells": [
  {
   "cell_type": "code",
   "execution_count": 1,
   "metadata": {
    "collapsed": true
   },
   "outputs": [],
   "source": [
    "\"\"\"This is an implementation of queue abstract data type.\n",
    "Stack is based on FIFO principle. i.e The element/item which is inserted\n",
    "at first is the one eligible to move out first.\n",
    ".. moduleauthor: Sijan Bhandari <sijanonly@gmail.com>\n",
    "\"\"\"\n",
    "\n",
    "\n",
    "class Queue():\n",
    "    \"\"\"This is a class which represents a queue.\n",
    "\n",
    "    Attributes:\n",
    "        elements (list): All items for queue will be stored in elements.\n",
    "    \"\"\"\n",
    "    def __init__(self):\n",
    "        \"\"\"Constructor of the Queue Class.\n",
    "        \"\"\"\n",
    "        self.elements = []\n",
    "\n",
    "    def enqueue(self, elm):\n",
    "        \"\"\"Inserts new elm to the queue.\n",
    "\n",
    "        Args:\n",
    "            item (ANY): Element to be inserted.\n",
    "        \"\"\"\n",
    "        self.elements.insert(0, elm)\n",
    "\n",
    "    def dequeue(self):\n",
    "        \"\"\"Removes the first element from the queue.\n",
    "\n",
    "        Returns:\n",
    "            ANY: First element in the queue\n",
    "        \"\"\"\n",
    "        return self.elements.pop()\n",
    "\n",
    "    def isEmpty(self):\n",
    "        \"\"\"Checks if the queue is empty or not.\n",
    "\n",
    "        Returns:\n",
    "            bool: Returns True if the queue is empty otherwise returns False.\n",
    "        \"\"\"\n",
    "        return self.size() == 0\n",
    "\n",
    "    def size(self):\n",
    "        \"\"\"Checks the size of the queue.\n",
    "\n",
    "        Returns:\n",
    "            int: Total number of elements in the queue.\n",
    "        \"\"\"\n",
    "        return len(self.elements)\n"
   ]
  },
  {
   "cell_type": "code",
   "execution_count": 1,
   "metadata": {
    "collapsed": true
   },
   "outputs": [],
   "source": [
    "def hotPotato(players, trigger):\n",
    "    \"\"\"Hot Potato game can be played with following steps;\n",
    "        - players will be seated in a cirlce.\n",
    "        - the first player will hold the hot potato for the first time.\n",
    "        - when game starts, the potato from first player\n",
    "          will go round to the players\n",
    "            - In case of queue, we simply dequeue\n",
    "               the first player and join as a last\n",
    "               player in the queue.\n",
    "            - when the count of step/rotation equals\n",
    "              the trigger point, player holding the potota will be removed\n",
    "                (the one at the front of the queue)\n",
    "        - when there only one player, he/she will win.\n",
    "\n",
    "    Args:\n",
    "        players (list): List of players playing hot potato.\n",
    "        trigger (int): It tiggers the stopping point.\n",
    "\n",
    "    Returns:\n",
    "        string: Winner of the game.\n",
    "    \"\"\"\n",
    "    queue = Queue()\n",
    "\n",
    "    for player in players:\n",
    "        queue.enqueue(player)\n",
    "    while queue.size() != 1:\n",
    "        step = 1\n",
    "        while step <= trigger:\n",
    "            first_player = queue.dequeue()\n",
    "            queue.enqueue(first_player)\n",
    "            step = step + 1\n",
    "        queue.dequeue()\n",
    "    return queue.dequeue()\n"
   ]
  },
  {
   "cell_type": "code",
   "execution_count": 48,
   "metadata": {},
   "outputs": [
    {
     "name": "stdout",
     "output_type": "stream",
     "text": [
      "queue size 6\n",
      "queue size 5\n",
      "queue size 4\n",
      "queue size 3\n",
      "queue size 2\n"
     ]
    },
    {
     "data": {
      "text/plain": [
       "'Sujit'"
      ]
     },
     "execution_count": 48,
     "metadata": {},
     "output_type": "execute_result"
    }
   ],
   "source": [
    "hotPotato([\"Sijan\",\"Roshan\",\"Sudip\",\"Subit\",\"Sujit\",\"Santosh\"],8)"
   ]
  },
  {
   "cell_type": "code",
   "execution_count": null,
   "metadata": {
    "collapsed": true
   },
   "outputs": [],
   "source": []
  },
  {
   "cell_type": "code",
   "execution_count": null,
   "metadata": {
    "collapsed": true
   },
   "outputs": [],
   "source": []
  },
  {
   "cell_type": "code",
   "execution_count": null,
   "metadata": {
    "collapsed": true
   },
   "outputs": [],
   "source": []
  }
 ],
 "metadata": {
  "kernelspec": {
   "display_name": "Python 3",
   "language": "python",
   "name": "python3"
  },
  "language_info": {
   "codemirror_mode": {
    "name": "ipython",
    "version": 3
   },
   "file_extension": ".py",
   "mimetype": "text/x-python",
   "name": "python",
   "nbconvert_exporter": "python",
   "pygments_lexer": "ipython3",
   "version": "3.5.2"
  }
 },
 "nbformat": 4,
 "nbformat_minor": 2
}
