{
 "cells": [
  {
   "cell_type": "markdown",
   "metadata": {},
   "source": [
    "### 1. GENERATORS\n",
    " - Generators are iterators where the values are generated at the time of need (lazy evaluation) (do not store all the values)\n",
    " "
   ]
  },
  {
   "cell_type": "code",
   "execution_count": 1,
   "metadata": {
    "collapsed": true
   },
   "outputs": [],
   "source": [
    "def get_list(n):\n",
    "    i = 0\n",
    "    my_list = []\n",
    "\n",
    "    while i < n:\n",
    "        my_list.append(i)\n",
    "        i += 1\n",
    "\n",
    "    return my_list"
   ]
  },
  {
   "cell_type": "code",
   "execution_count": 2,
   "metadata": {},
   "outputs": [
    {
     "name": "stdout",
     "output_type": "stream",
     "text": [
      "[0, 1, 2, 3]\n"
     ]
    }
   ],
   "source": [
    "print(get_list(4))"
   ]
  },
  {
   "cell_type": "code",
   "execution_count": 3,
   "metadata": {
    "collapsed": true
   },
   "outputs": [],
   "source": [
    "def my_gen(n):\n",
    "    i = 0\n",
    "\n",
    "    while i < n:\n",
    "        yield i\n",
    "        i += 1\n",
    "        "
   ]
  },
  {
   "cell_type": "code",
   "execution_count": 7,
   "metadata": {
    "collapsed": true
   },
   "outputs": [],
   "source": [
    "output = my_gen(4)"
   ]
  },
  {
   "cell_type": "code",
   "execution_count": 8,
   "metadata": {},
   "outputs": [
    {
     "name": "stdout",
     "output_type": "stream",
     "text": [
      "0\n",
      "1\n",
      "2\n",
      "3\n"
     ]
    }
   ],
   "source": [
    "for each in output:\n",
    "    print(each)"
   ]
  },
  {
   "cell_type": "markdown",
   "metadata": {},
   "source": [
    "####  YIELD\n",
    "When we iterate over our generator, the generator begins to execute the function until it finds yield.\n",
    "\n",
    "You cannot perform the iterator second time since generators can only be used once: they calculate 0, then forget about it and calculate 1, and end calculating 4, one by one.\n"
   ]
  },
  {
   "cell_type": "code",
   "execution_count": 10,
   "metadata": {
    "collapsed": true
   },
   "outputs": [],
   "source": [
    "for each in output:\n",
    "    print(each)"
   ]
  },
  {
   "cell_type": "code",
   "execution_count": 14,
   "metadata": {},
   "outputs": [
    {
     "data": {
      "text/plain": [
       "0"
      ]
     },
     "execution_count": 14,
     "metadata": {},
     "output_type": "execute_result"
    }
   ],
   "source": [
    "test_output = my_gen(4)\n",
    "next(test_output)\n"
   ]
  },
  {
   "cell_type": "code",
   "execution_count": 15,
   "metadata": {},
   "outputs": [
    {
     "data": {
      "text/plain": [
       "1"
      ]
     },
     "execution_count": 15,
     "metadata": {},
     "output_type": "execute_result"
    }
   ],
   "source": [
    "next(test_output)"
   ]
  },
  {
   "cell_type": "markdown",
   "metadata": {},
   "source": [
    "### NOTE\n",
    "When a function that is executing encounters the yield keyword, it suspends execution at that point, saves its context and returns to the caller along with any value in the expression_list; when the caller invokes next on the object, execution of the function continues till another yield"
   ]
  },
  {
   "cell_type": "markdown",
   "metadata": {},
   "source": [
    "### REAL WORLD EXAMPLE"
   ]
  },
  {
   "cell_type": "markdown",
   "metadata": {},
   "source": [
    "```\n",
    "    def read_big_file_in_chunks(file_object, chunk_size=1024):\n",
    "        \"\"\"Reading whole big file in chunks.\"\"\"\n",
    "        while True:\n",
    "            data = file_object.read(chunk_size)\n",
    "            if not data:\n",
    "                break\n",
    "            yield data\n",
    "\n",
    "\n",
    "    f = open('very_very_big_file.log')\n",
    "    for chunk in read_big_file_in_chunks(f):\n",
    "       process_data(chunck)\n",
    "```"
   ]
  },
  {
   "cell_type": "markdown",
   "metadata": {},
   "source": [
    "### 2. First Class Functions\n",
    "\n",
    "   - treating functions like other normal entities\n",
    "   - passing function as an argument, assigning to a variable, returning from a function"
   ]
  },
  {
   "cell_type": "code",
   "execution_count": 22,
   "metadata": {},
   "outputs": [
    {
     "name": "stdout",
     "output_type": "stream",
     "text": [
      "['Mr Kumar', 'Mrs Sabi']\n"
     ]
    }
   ],
   "source": [
    "# EXAMPLE\n",
    "\n",
    "def append_prefix(data):\n",
    "    if data[0] == 'male':\n",
    "        return 'Mr ' + data[1]\n",
    "    if data[0] == 'female':\n",
    "        return 'Mrs ' + data[1]\n",
    "\n",
    "    \n",
    "def map_function(func, my_list):\n",
    "    final_output = []\n",
    "    for each in my_list:\n",
    "        final_output.append(func(each))\n",
    "    return final_output\n",
    "\n",
    "output = map_function(append_prefix, [('male', 'Kumar'), ('female', 'Sabi')])\n",
    "print(output)\n",
    "        "
   ]
  },
  {
   "cell_type": "markdown",
   "metadata": {},
   "source": [
    "### 3. Closures\n"
   ]
  },
  {
   "cell_type": "code",
   "execution_count": 32,
   "metadata": {
    "collapsed": true
   },
   "outputs": [],
   "source": [
    "def greeting(prefix):\n",
    "    \n",
    "    def append_msg(msg):\n",
    "        print ('{0}{1}{2}'.format(prefix,' ', msg))\n",
    "    return append_msg ## returning without execution"
   ]
  },
  {
   "cell_type": "code",
   "execution_count": 35,
   "metadata": {},
   "outputs": [
    {
     "name": "stdout",
     "output_type": "stream",
     "text": [
      "<function greeting.<locals>.append_msg at 0x7f0c003cd488>\n",
      "append_msg\n",
      "Mr. Kumar\n",
      "Mr. Kabi\n"
     ]
    }
   ],
   "source": [
    "first = greeting('Mr.')\n",
    "\n",
    "print(first)\n",
    "print(first.__name__)\n",
    "\n",
    "# REMEMBER THE PARAMETER 'Mr.' even after outer function is executed already\n",
    "first('Kumar')\n",
    "first('Kabi')"
   ]
  },
  {
   "cell_type": "code",
   "execution_count": 30,
   "metadata": {},
   "outputs": [
    {
     "name": "stdout",
     "output_type": "stream",
     "text": [
      "Mrs. Kumari\n",
      "Mrs. Kabita\n"
     ]
    }
   ],
   "source": [
    "second = greeting('Mrs.')\n",
    "second('Kumari')\n",
    "second('Kabita')"
   ]
  },
  {
   "cell_type": "markdown",
   "metadata": {
    "collapsed": true
   },
   "source": [
    "### 4. DECORATORS\n",
    "\n",
    "There may be a scenario to perform any tasks before / after executing a function. This can be achieved through Decorators.\n",
    "\n",
    "#### a function decorator can be described more specifically:\n",
    "\n",
    " - A function that takes one argument (the function being decorated)\n",
    " - Returns the same function or a function with a similar signature\n",
    " \n"
   ]
  },
  {
   "cell_type": "markdown",
   "metadata": {},
   "source": [
    "### Illustration"
   ]
  },
  {
   "cell_type": "code",
   "execution_count": 12,
   "metadata": {},
   "outputs": [
    {
     "name": "stdout",
     "output_type": "stream",
     "text": [
      "I am executed before original function\n",
      "hey I am wrapped by decorator\n"
     ]
    }
   ],
   "source": [
    "# define a decorator \n",
    "def decorator_func(original_func):\n",
    "    def wrapper_func():\n",
    "        # without modifying original func, I can add more functionality\n",
    "        print (\"I am executed before original function\")\n",
    "        return original_func()\n",
    "    return wrapper_func\n",
    "\n",
    "# define your working function\n",
    "\n",
    "@decorator_func\n",
    "def my_func():\n",
    "    print('hey I am wrapped by decorator')\n",
    "\n",
    "    \n",
    "my_func()"
   ]
  },
  {
   "cell_type": "code",
   "execution_count": 17,
   "metadata": {},
   "outputs": [
    {
     "name": "stdout",
     "output_type": "stream",
     "text": [
      "I am executed before original function\n",
      "hey I am wrapped by decorator\n"
     ]
    }
   ],
   "source": [
    "# define a decorator \n",
    "def decorator_func(original_func):\n",
    "    def wrapper_func(*args, **kwargs):\n",
    "        # without modifying original func, I can add more functionality\n",
    "        print (\"I am executed before original function\")\n",
    "        return original_func(*args, **kwargs)\n",
    "    return wrapper_func\n",
    "\n",
    "# define your working function\n",
    "\n",
    "@decorator_func\n",
    "def my_func_para(param1, param2):\n",
    "    print('hey I am wrapped by decorator')\n",
    "\n",
    "    \n",
    "my_func_para('hey', 'buddy')"
   ]
  },
  {
   "cell_type": "markdown",
   "metadata": {},
   "source": [
    "####  EXAMPLE - 1"
   ]
  },
  {
   "cell_type": "code",
   "execution_count": 1,
   "metadata": {
    "collapsed": true
   },
   "outputs": [],
   "source": [
    "# define null decorator (doing nothing)\n",
    "def null_decorator(func):\n",
    "    return func"
   ]
  },
  {
   "cell_type": "code",
   "execution_count": 2,
   "metadata": {},
   "outputs": [
    {
     "data": {
      "text/plain": [
       "'Hello!'"
      ]
     },
     "execution_count": 2,
     "metadata": {},
     "output_type": "execute_result"
    }
   ],
   "source": [
    "def greet():\n",
    "    return 'Hello!'\n",
    "\n",
    "greet = null_decorator(greet)\n",
    "\n",
    "greet()\n"
   ]
  },
  {
   "cell_type": "code",
   "execution_count": 4,
   "metadata": {},
   "outputs": [
    {
     "data": {
      "text/plain": [
       "'Hello!'"
      ]
     },
     "execution_count": 4,
     "metadata": {},
     "output_type": "execute_result"
    }
   ],
   "source": [
    "\n",
    "\n",
    "# OR:\n",
    "\n",
    "@null_decorator\n",
    "def greet():\n",
    "    return 'Hello!'\n",
    "\n",
    "greet()\n"
   ]
  },
  {
   "cell_type": "markdown",
   "metadata": {},
   "source": [
    "#### NOTE:\n",
    " - Decorators Can Modify Behavior of a callable so that you don't need to channge your original sigature/archi. of your function."
   ]
  },
  {
   "cell_type": "code",
   "execution_count": 5,
   "metadata": {},
   "outputs": [
    {
     "name": "stdout",
     "output_type": "stream",
     "text": [
      "('Mr.Sijan', 'Male')\n"
     ]
    }
   ],
   "source": [
    "def add_prefix(func):\n",
    "    def wrapper():\n",
    "        original_result = func()\n",
    "        gender = original_result[1]\n",
    "        if gender.lower() == 'male':\n",
    "            modified_name = 'Mr.' + original_result[0]\n",
    "\n",
    "        modified_result = (modified_name, gender)\n",
    "        return modified_result\n",
    "    return wrapper\n",
    "\n",
    "\n",
    "\n",
    "@add_prefix\n",
    "def get_data():\n",
    "    return ('Sijan', 'Male')\n",
    "\n",
    "\n",
    "\n",
    "print(get_data())\n",
    "\n"
   ]
  },
  {
   "cell_type": "code",
   "execution_count": 6,
   "metadata": {
    "collapsed": true
   },
   "outputs": [],
   "source": [
    "def smart_divide(func):\n",
    "   def inner(a,b):\n",
    "      print(\"I am going to divide\",a,\"and\",b)\n",
    "      if b == 0:\n",
    "         print(\"Whoops! cannot divide\")\n",
    "         return\n",
    "\n",
    "      return func(a,b)\n",
    "   return inner\n",
    "\n",
    "@smart_divide\n",
    "def divide(a,b):\n",
    "    return a/b"
   ]
  },
  {
   "cell_type": "code",
   "execution_count": 7,
   "metadata": {},
   "outputs": [
    {
     "name": "stdout",
     "output_type": "stream",
     "text": [
      "I am going to divide 9 and 0\n",
      "Whoops! cannot divide\n"
     ]
    }
   ],
   "source": [
    "divide(9,0)"
   ]
  },
  {
   "cell_type": "markdown",
   "metadata": {
    "collapsed": true
   },
   "source": [
    "### EXAMPLE - 2"
   ]
  },
  {
   "cell_type": "code",
   "execution_count": 3,
   "metadata": {},
   "outputs": [
    {
     "name": "stdout",
     "output_type": "stream",
     "text": [
      "Entering call_func1\n",
      "inside func1()\n",
      "Exited call_func1\n",
      "Entering call_func2\n",
      "inside func2()\n",
      "Exited call_func2\n",
      "new_fun\n"
     ]
    }
   ],
   "source": [
    "# PythonDecorators/entry_exit_function.py\n",
    "def my_decorator(f):\n",
    "    def new_fun():\n",
    "        print(\"Entering\", f.__name__)\n",
    "        f()\n",
    "        print(\"Exited\", f.__name__)\n",
    "    return new_fun\n",
    "\n",
    "@my_decorator\n",
    "def call_func1():\n",
    "    print(\"inside func1()\")\n",
    "\n",
    "@my_decorator\n",
    "def call_func2():\n",
    "    print(\"inside func2()\")\n",
    "\n",
    "call_func1()\n",
    "call_func2()\n",
    "print(call_func1.__name__)"
   ]
  },
  {
   "cell_type": "markdown",
   "metadata": {},
   "source": [
    "### NOTE\n",
    "\n",
    " - new_fun() is defined within the body of my_decorator(), so it is created and returned when my_decorator() is called.\n",
    " - Note that new_fun() is a closure, because it captures the actual value of f.\n",
    " - print(call_func1.__name__) prints 'new_fun' because new_fun function has been substituted for the original function during decoration"
   ]
  },
  {
   "cell_type": "markdown",
   "metadata": {},
   "source": [
    "### EXAMPLE - 2"
   ]
  },
  {
   "cell_type": "code",
   "execution_count": 22,
   "metadata": {},
   "outputs": [
    {
     "name": "stdout",
     "output_type": "stream",
     "text": [
      "makebold called\n",
      "makeitalic called\n",
      "inside italic bold\n",
      "inside bold hello\n",
      "<i><b>Hello World</b></i>\n"
     ]
    }
   ],
   "source": [
    "def makebold(fn):\n",
    "    print('makebold called')\n",
    "    def bold():\n",
    "        print('inside bold', fn.__name__)\n",
    "       \n",
    "        return \"<b>%s</b>\" % fn()\n",
    "    return bold\n",
    "\n",
    "def makeitalic(fn):\n",
    "    print('makeitalic called')\n",
    "    def italized():\n",
    "        print('inside italic', fn.__name__)\n",
    "        \n",
    "        return \"<i>%s</i>\" %fn()\n",
    "    return italized\n",
    "\n",
    "@makeitalic\n",
    "@makebold\n",
    "def hello():\n",
    "    return \"Hello World\"\n",
    "\n",
    "print (hello())"
   ]
  },
  {
   "cell_type": "markdown",
   "metadata": {
    "collapsed": true
   },
   "source": [
    "### EXAMPLE - 3"
   ]
  },
  {
   "cell_type": "markdown",
   "metadata": {},
   "source": [
    "```\n",
    "@testtime\n",
    "@testlog\n",
    "def call_me():\n",
    "    print (\"Hello, world!\")```\n",
    "    \n",
    "    \n",
    "    \n",
    "    - create function object (say - helloObject ) and binds it to name 'call_me'\n",
    "    - passes helloObject to 'testlog' which will return new function object (say - helloObject2)\n",
    "    - interpreter binds the real name 'call_me' to this new hellObject2.\n",
    "    - helloObject2 is passed to 'testtime' and it will return new function object (say - hellObject3)\n",
    "    - again, interpreter binds orignal name to this new object\n",
    "    - IMPORTANT : we wrapped helloObject from call_me to helloObject2 from testlog and finally wrap this to helloObject3, and bound the original name 'call_me' to helloObject3. So when we call 'call_me', we are actually calling helloObject3."
   ]
  },
  {
   "cell_type": "code",
   "execution_count": null,
   "metadata": {
    "collapsed": true
   },
   "outputs": [],
   "source": [
    "def counter()"
   ]
  },
  {
   "cell_type": "code",
   "execution_count": null,
   "metadata": {
    "collapsed": true
   },
   "outputs": [],
   "source": []
  }
 ],
 "metadata": {
  "kernelspec": {
   "display_name": "Python 3",
   "language": "python",
   "name": "python3"
  },
  "language_info": {
   "codemirror_mode": {
    "name": "ipython",
    "version": 3
   },
   "file_extension": ".py",
   "mimetype": "text/x-python",
   "name": "python",
   "nbconvert_exporter": "python",
   "pygments_lexer": "ipython3",
   "version": "3.5.2"
  }
 },
 "nbformat": 4,
 "nbformat_minor": 2
}
