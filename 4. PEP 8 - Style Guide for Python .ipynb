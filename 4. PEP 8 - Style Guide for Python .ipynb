{
 "cells": [
  {
   "cell_type": "markdown",
   "metadata": {},
   "source": [
    "### PEP = Python Enhancement Proposal"
   ]
  },
  {
   "cell_type": "markdown",
   "metadata": {},
   "source": [
    "A PEP is a design document which provides information regarding python features, processes and environment"
   ]
  },
  {
   "cell_type": "markdown",
   "metadata": {},
   "source": [
    "#### Whitespace Rule"
   ]
  },
  {
   "cell_type": "markdown",
   "metadata": {},
   "source": [
    "\n",
    "\n",
    "\n",
    "   1. 4 spaces per indentation level.\n",
    "   2. Never mix tabs and spaces.\n",
    "   3. One blank line between functions\n",
    "   4. Two blank lines between classes.\n",
    "   5. Add a space after \",\" in dicts, lists, tuples, & argument lists, and after \":\" in dicts, but not before.\n",
    "   6. Put spaces around assignments & comparisons (except in argument lists).\n",
    "   7. No spaces just inside parentheses or just before argument lists.\n",
    "   8. No spaces while writting docstrings.\n"
   ]
  },
  {
   "cell_type": "code",
   "execution_count": 2,
   "metadata": {
    "collapsed": true
   },
   "outputs": [],
   "source": [
    "\n",
    "def my_func():\n",
    "    \"\"\"Return data...\"\"\"\n",
    "    a = {'key': 'value'}\n",
    "    b = [key, value]\n",
    "    return (a,b)\n",
    "\n"
   ]
  },
  {
   "cell_type": "markdown",
   "metadata": {},
   "source": [
    "#### Naming Rule"
   ]
  },
  {
   "cell_type": "markdown",
   "metadata": {},
   "source": [
    "\n",
    "   1. joined_lower for functions, methods, attributes\n",
    "\n",
    "   2. ALL_CAPS for constants\n",
    "\n",
    "   3. StudlyCaps for classes\n",
    "   \n",
    "   4. private class attributes and methods should start with an underscore."
   ]
  },
  {
   "cell_type": "markdown",
   "metadata": {
    "collapsed": true
   },
   "source": [
    "#### Comment Rule"
   ]
  },
  {
   "cell_type": "code",
   "execution_count": 3,
   "metadata": {},
   "outputs": [
    {
     "name": "stdout",
     "output_type": "stream",
     "text": [
      "Hello!\n"
     ]
    }
   ],
   "source": [
    "# This is a comment\n",
    "print(\"Hello!\")    # tells the computer to print \"Hello!\""
   ]
  },
  {
   "cell_type": "code",
   "execution_count": null,
   "metadata": {
    "collapsed": true
   },
   "outputs": [],
   "source": []
  }
 ],
 "metadata": {
  "kernelspec": {
   "display_name": "Python 3",
   "language": "python",
   "name": "python3"
  },
  "language_info": {
   "codemirror_mode": {
    "name": "ipython",
    "version": 3
   },
   "file_extension": ".py",
   "mimetype": "text/x-python",
   "name": "python",
   "nbconvert_exporter": "python",
   "pygments_lexer": "ipython3",
   "version": "3.5.2"
  }
 },
 "nbformat": 4,
 "nbformat_minor": 2
}
