{
 "cells": [
  {
   "cell_type": "markdown",
   "metadata": {},
   "source": [
    "### Deque Abstract Data Type\n",
    "\n",
    "   - Deque is also referred as double-ended queue data structure\n",
    "   - You can add or remove item from either ends. "
   ]
  },
  {
   "cell_type": "code",
   "execution_count": 1,
   "metadata": {
    "collapsed": true
   },
   "outputs": [],
   "source": [
    "\"\"\"This is an implementation of deque abstract data type.\n",
    "item can be inserted or removed from either end.\n",
    ".. moduleauthor: Sijan Bhandari <sijanonly@gmail.com>\n",
    "\"\"\"\n",
    "\n",
    "\n",
    "class Deque():\n",
    "    \"\"\"This is a class representing deque.\n",
    "\n",
    "    Attributes:\n",
    "        elements (list): Each item will be stored in elements.\n",
    "    \"\"\"\n",
    "    def __init__(self):\n",
    "        \"\"\"Summary\n",
    "        \"\"\"\n",
    "        self.elements = []\n",
    "\n",
    "    def addFront(self, elm):\n",
    "        \"\"\"Adds new element from front.\n",
    "\n",
    "        Args:\n",
    "            elm (ANY): Element to be inserted to deque from front.\n",
    "        \"\"\"\n",
    "        self.elements.append(elm)\n",
    "\n",
    "    def addRear(self, elm):\n",
    "        \"\"\"Adds new element from rear.\n",
    "\n",
    "        Args:\n",
    "            elm (ANY): Element to be inserted to deque from rear.\n",
    "        \"\"\"\n",
    "        self.elements.insert(0, elm)\n",
    "\n",
    "    def removeFront(self):\n",
    "        \"\"\"Removes element from rear\n",
    "        \"\"\"\n",
    "        return self.elements.pop()\n",
    "\n",
    "    def removeRear(self):\n",
    "        \"\"\"Summary\n",
    "        \"\"\"\n",
    "        return self.elements.pop(0)\n",
    "\n",
    "    def isEmpty(self):\n",
    "        \"\"\"Checks if deque is empty or not.\n",
    "\n",
    "        Returns:\n",
    "            bool: Returns true if deque is not empty otherwise returns false.\n",
    "        \"\"\"\n",
    "        return self.elements == []\n",
    "\n",
    "    def size(self):\n",
    "        \"\"\"Checks the size of the deque.\n",
    "\n",
    "        Returns:\n",
    "            int: Returns the total lenght of the elements.\n",
    "        \"\"\"\n",
    "        return len(self.elements)\n"
   ]
  },
  {
   "cell_type": "code",
   "execution_count": 2,
   "metadata": {
    "collapsed": true
   },
   "outputs": [],
   "source": [
    "deque = Deque()"
   ]
  },
  {
   "cell_type": "code",
   "execution_count": 4,
   "metadata": {},
   "outputs": [],
   "source": [
    "deque.addFront(1)"
   ]
  },
  {
   "cell_type": "code",
   "execution_count": 5,
   "metadata": {
    "collapsed": true
   },
   "outputs": [],
   "source": [
    "deque.addRear(3)"
   ]
  },
  {
   "cell_type": "code",
   "execution_count": 6,
   "metadata": {},
   "outputs": [
    {
     "data": {
      "text/plain": [
       "1"
      ]
     },
     "execution_count": 6,
     "metadata": {},
     "output_type": "execute_result"
    }
   ],
   "source": [
    "deque.removeFront()"
   ]
  },
  {
   "cell_type": "code",
   "execution_count": 7,
   "metadata": {},
   "outputs": [
    {
     "data": {
      "text/plain": [
       "3"
      ]
     },
     "execution_count": 7,
     "metadata": {},
     "output_type": "execute_result"
    }
   ],
   "source": [
    "deque.removeRear()"
   ]
  },
  {
   "cell_type": "code",
   "execution_count": null,
   "metadata": {
    "collapsed": true
   },
   "outputs": [],
   "source": []
  }
 ],
 "metadata": {
  "kernelspec": {
   "display_name": "Python 3",
   "language": "python",
   "name": "python3"
  },
  "language_info": {
   "codemirror_mode": {
    "name": "ipython",
    "version": 3
   },
   "file_extension": ".py",
   "mimetype": "text/x-python",
   "name": "python",
   "nbconvert_exporter": "python",
   "pygments_lexer": "ipython3",
   "version": "3.5.2"
  }
 },
 "nbformat": 4,
 "nbformat_minor": 2
}
