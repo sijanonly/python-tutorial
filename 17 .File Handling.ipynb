{
 "cells": [
  {
   "cell_type": "markdown",
   "metadata": {},
   "source": [
    "### 1. Opening file"
   ]
  },
  {
   "cell_type": "markdown",
   "metadata": {},
   "source": [
    "#####  creating file object (also called handler)\n",
    "```\n",
    "f = open(\"file.txt\")    # open file in current directory\n",
    "\n",
    "f = open(\"/home/file.txt\")  # specifying full path```"
   ]
  },
  {
   "cell_type": "markdown",
   "metadata": {},
   "source": [
    "### 2. FILE MODES"
   ]
  },
  {
   "cell_type": "markdown",
   "metadata": {},
   "source": [
    "```\n",
    "Mode    Description\n",
    "'r'     Open a file for reading. (default)\n",
    "'w'     Open a file for writing. Creates a new file if it does not exist or truncates the file if it exists.\n",
    "'x'     Open a file for exclusive creation. If the file already exists, the operation fails.\n",
    "'a' Open for appending at the end of the file without truncating it.Creates a new file if it does not exist.\n",
    "'t'     Open in text mode. (default)\n",
    "'b'     Open in binary mode.\n",
    "'+'     Open a file for updating (reading and writing)\n",
    "\n",
    "\n",
    "\n",
    "f = open(\"test.txt\")      # equivalent to 'r' or 'rt'\n",
    "\n",
    "f = open(\"test.txt\",'w')  # write in text mode\n",
    "\n",
    "f = open(\"img.bmp\",'r+b') # read and write in binary mode\n",
    "```"
   ]
  },
  {
   "cell_type": "markdown",
   "metadata": {},
   "source": [
    "### 3. ENCODING\n",
    "\n",
    "  - Encoding (Default) is based on your platform. It windows, 'cp1252' encoding is used and in linux 'utf-8'.\n",
    "  - So, while processing text file, it is recommended to specify the encoding\n",
    "  \n",
    "    ``` f = open(\"file.txt\",mode = 'r',encoding = 'utf-8') ```"
   ]
  },
  {
   "cell_type": "markdown",
   "metadata": {},
   "source": [
    "### 4. Closing File\n",
    "\n",
    "  - python has internal garbage collector which will be envoked for unreferenced objects, but closing file by ourselves is best practice\n",
    "  \n",
    "  ```   \n",
    "        f = open(\"file.txt\",encoding = 'utf-8')\n",
    "        # perform file operations\n",
    "        f.close()\n",
    "  ```"
   ]
  },
  {
   "cell_type": "code",
   "execution_count": 4,
   "metadata": {
    "collapsed": true
   },
   "outputs": [],
   "source": [
    "# Much safer way\n",
    "\n",
    "try:\n",
    "   f = open(\"requirements.txt\",encoding = 'utf-8')\n",
    "except Exception:\n",
    "    pass\n",
    "else:\n",
    "    # extra logic\n",
    "    pass\n",
    "finally:\n",
    "   f.close()"
   ]
  },
  {
   "cell_type": "code",
   "execution_count": 5,
   "metadata": {},
   "outputs": [
    {
     "name": "stdout",
     "output_type": "stream",
     "text": [
      "['appdirs==1.4.3\\n', 'backports-abc==0.5\\n', 'bleach==2.0.0\\n', 'decorator==4.0.11\\n', 'entrypoints==0.2.2\\n', 'html5lib==0.999999999\\n', 'ipykernel==4.6.1\\n', 'ipython==5.3.0\\n', 'ipython-genutils==0.2.0\\n', 'ipywidgets==6.0.0\\n', 'Jinja2==2.9.6\\n', 'jsonschema==2.6.0\\n', 'jupyter==1.0.0\\n', 'jupyter-client==5.0.1\\n', 'jupyter-console==5.1.0\\n', 'jupyter-core==4.3.0\\n', 'MarkupSafe==1.0\\n', 'mistune==0.7.4\\n', 'nbconvert==5.1.1\\n', 'nbformat==4.3.0\\n', 'notebook==5.0.0\\n', 'packaging==16.8\\n', 'pandocfilters==1.4.1\\n', 'pexpect==4.2.1\\n', 'pickleshare==0.7.4\\n', 'prompt-toolkit==1.0.14\\n', 'ptyprocess==0.5.1\\n', 'Pygments==2.2.0\\n', 'pyparsing==2.2.0\\n', 'python-dateutil==2.6.0\\n', 'pyzmq==16.0.2\\n', 'qtconsole==4.3.0\\n', 'simplegeneric==0.8.1\\n', 'six==1.10.0\\n', 'terminado==0.6\\n', 'testpath==0.3\\n', 'tornado==4.5\\n', 'traitlets==4.3.2\\n', 'wcwidth==0.1.7\\n', 'webencodings==0.5.1\\n', 'widgetsnbextension==2.0.0\\n']\n"
     ]
    }
   ],
   "source": [
    "# Best way\n",
    "# use WITH statment, which ensures the file is closed within the block.\n",
    "\n",
    "with open(\"requirements.txt\",encoding = 'utf-8') as f:\n",
    "    f = f.readlines()\n",
    "    print(f)"
   ]
  },
  {
   "cell_type": "code",
   "execution_count": null,
   "metadata": {
    "collapsed": true
   },
   "outputs": [],
   "source": []
  }
 ],
 "metadata": {
  "kernelspec": {
   "display_name": "Python 3",
   "language": "python",
   "name": "python3"
  },
  "language_info": {
   "codemirror_mode": {
    "name": "ipython",
    "version": 3
   },
   "file_extension": ".py",
   "mimetype": "text/x-python",
   "name": "python",
   "nbconvert_exporter": "python",
   "pygments_lexer": "ipython3",
   "version": "3.5.2"
  }
 },
 "nbformat": 4,
 "nbformat_minor": 2
}
