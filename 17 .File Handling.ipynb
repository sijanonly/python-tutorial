{
 "cells": [
  {
   "cell_type": "markdown",
   "metadata": {},
   "source": [
    "### 1. Opening file"
   ]
  },
  {
   "cell_type": "markdown",
   "metadata": {},
   "source": [
    "#####  creating file object (also called handler)\n",
    "```\n",
    "f = open(\"file.txt\")    # open file in current directory\n",
    "\n",
    "f = open(\"/home/file.txt\")  # specifying full path```"
   ]
  },
  {
   "cell_type": "markdown",
   "metadata": {},
   "source": [
    "### 2. File Modes"
   ]
  },
  {
   "cell_type": "markdown",
   "metadata": {},
   "source": [
    "```\n",
    "Mode    Description\n",
    "'r'     Open a file for reading. (default)\n",
    "'w'     Open a file for writing. Creates a new file if it does not exist or truncates the file if it exists.\n",
    "'x'     Open a file for exclusive creation. If the file already exists, the operation fails.\n",
    "'a' Open for appending at the end of the file without truncating it.Creates a new file if it does not exist.\n",
    "'t'     Open in text mode. (default)\n",
    "'b'     Open in binary mode.\n",
    "'+'     Open a file for updating (reading and writing)\n",
    "\n",
    "\n",
    "\n",
    "f = open(\"test.txt\")      # equivalent to 'r' or 'rt'\n",
    "\n",
    "f = open(\"test.txt\",'w')  # write in text mode\n",
    "\n",
    "f = open(\"img.bmp\",'r+b') # read and write in binary mode\n",
    "```"
   ]
  },
  {
   "cell_type": "markdown",
   "metadata": {},
   "source": [
    "### 3. Encoding\n",
    "\n",
    "  - Encoding (Default) is based on your platform. It windows, 'cp1252' encoding is used and in linux 'utf-8'.\n",
    "  - So, while processing text file, it is recommended to specify the encoding\n",
    "  \n",
    "    ``` f = open(\"file.txt\",mode = 'r',encoding = 'utf-8') ```"
   ]
  },
  {
   "cell_type": "markdown",
   "metadata": {},
   "source": [
    "### 4. Closing File\n",
    "\n",
    "  - python has internal garbage collector which will be envoked for unreferenced objects, but closing file by ourselves is best practice\n",
    "  \n",
    "  ```   \n",
    "        f = open(\"file.txt\",encoding = 'utf-8')\n",
    "        # perform file operations\n",
    "        f.close()\n",
    "  ```"
   ]
  },
  {
   "cell_type": "code",
   "execution_count": 4,
   "metadata": {
    "collapsed": true
   },
   "outputs": [],
   "source": [
    "# Much safer way\n",
    "\n",
    "try:\n",
    "   f = open(\"requirements.txt\",encoding = 'utf-8')\n",
    "except Exception:\n",
    "    pass\n",
    "else:\n",
    "    # extra logic\n",
    "    pass\n",
    "finally:\n",
    "   f.close()"
   ]
  },
  {
   "cell_type": "code",
   "execution_count": 5,
   "metadata": {},
   "outputs": [
    {
     "name": "stdout",
     "output_type": "stream",
     "text": [
      "['appdirs==1.4.3\\n', 'backports-abc==0.5\\n', 'bleach==2.0.0\\n', 'decorator==4.0.11\\n', 'entrypoints==0.2.2\\n', 'html5lib==0.999999999\\n', 'ipykernel==4.6.1\\n', 'ipython==5.3.0\\n', 'ipython-genutils==0.2.0\\n', 'ipywidgets==6.0.0\\n', 'Jinja2==2.9.6\\n', 'jsonschema==2.6.0\\n', 'jupyter==1.0.0\\n', 'jupyter-client==5.0.1\\n', 'jupyter-console==5.1.0\\n', 'jupyter-core==4.3.0\\n', 'MarkupSafe==1.0\\n', 'mistune==0.7.4\\n', 'nbconvert==5.1.1\\n', 'nbformat==4.3.0\\n', 'notebook==5.0.0\\n', 'packaging==16.8\\n', 'pandocfilters==1.4.1\\n', 'pexpect==4.2.1\\n', 'pickleshare==0.7.4\\n', 'prompt-toolkit==1.0.14\\n', 'ptyprocess==0.5.1\\n', 'Pygments==2.2.0\\n', 'pyparsing==2.2.0\\n', 'python-dateutil==2.6.0\\n', 'pyzmq==16.0.2\\n', 'qtconsole==4.3.0\\n', 'simplegeneric==0.8.1\\n', 'six==1.10.0\\n', 'terminado==0.6\\n', 'testpath==0.3\\n', 'tornado==4.5\\n', 'traitlets==4.3.2\\n', 'wcwidth==0.1.7\\n', 'webencodings==0.5.1\\n', 'widgetsnbextension==2.0.0\\n']\n"
     ]
    }
   ],
   "source": [
    "# Best way\n",
    "# use WITH statment, which ensures the file is closed within the block.\n",
    "\n",
    "with open(\"requirements.txt\",encoding = 'utf-8') as f:\n",
    "    f = f.readlines()\n",
    "    print(f)"
   ]
  },
  {
   "cell_type": "markdown",
   "metadata": {
    "collapsed": true
   },
   "source": [
    "### 5. Reading a File"
   ]
  },
  {
   "cell_type": "markdown",
   "metadata": {},
   "source": [
    "### 5.1 read()\n",
    "   - read whole file content as a string"
   ]
  },
  {
   "cell_type": "code",
   "execution_count": 1,
   "metadata": {},
   "outputs": [
    {
     "data": {
      "text/plain": [
       "'appdirs==1.4.3\\nbackports-abc==0.5\\nbleach==2.0.0\\ndecorator==4.0.11\\nentrypoints==0.2.2\\nhtml5lib==0.999999999\\nipykernel==4.6.1\\nipython==5.3.0\\nipython-genutils==0.2.0\\nipywidgets==6.0.0\\nJinja2==2.9.6\\njsonschema==2.6.0\\njupyter==1.0.0\\njupyter-client==5.0.1\\njupyter-console==5.1.0\\njupyter-core==4.3.0\\nMarkupSafe==1.0\\nmistune==0.7.4\\nnbconvert==5.1.1\\nnbformat==4.3.0\\nnotebook==5.0.0\\npackaging==16.8\\npandocfilters==1.4.1\\npexpect==4.2.1\\npickleshare==0.7.4\\nprompt-toolkit==1.0.14\\nptyprocess==0.5.1\\nPygments==2.2.0\\npyparsing==2.2.0\\npython-dateutil==2.6.0\\npyzmq==16.0.2\\nqtconsole==4.3.0\\nsimplegeneric==0.8.1\\nsix==1.10.0\\nterminado==0.6\\ntestpath==0.3\\ntornado==4.5\\ntraitlets==4.3.2\\nwcwidth==0.1.7\\nwebencodings==0.5.1\\nwidgetsnbextension==2.0.0\\n'"
      ]
     },
     "execution_count": 1,
     "metadata": {},
     "output_type": "execute_result"
    }
   ],
   "source": [
    "f = open('requirements.txt')\n",
    "f.read()"
   ]
  },
  {
   "cell_type": "markdown",
   "metadata": {},
   "source": [
    "### 5.2 readline()\n",
    " - read file line-by-line"
   ]
  },
  {
   "cell_type": "code",
   "execution_count": 5,
   "metadata": {},
   "outputs": [
    {
     "data": {
      "text/plain": [
       "'appdirs==1.4.3\\n'"
      ]
     },
     "execution_count": 5,
     "metadata": {},
     "output_type": "execute_result"
    }
   ],
   "source": [
    "f = open('requirements.txt')\n",
    "f.readline()"
   ]
  },
  {
   "cell_type": "code",
   "execution_count": 6,
   "metadata": {},
   "outputs": [
    {
     "data": {
      "text/plain": [
       "'backports-abc==0.5\\n'"
      ]
     },
     "execution_count": 6,
     "metadata": {},
     "output_type": "execute_result"
    }
   ],
   "source": [
    "f.readline()"
   ]
  },
  {
   "cell_type": "code",
   "execution_count": 8,
   "metadata": {
    "collapsed": true
   },
   "outputs": [],
   "source": [
    "f.readline()\n",
    "f.close()"
   ]
  },
  {
   "cell_type": "markdown",
   "metadata": {},
   "source": [
    "### 5.3 readlines()\n",
    "  - read content as a list of lines"
   ]
  },
  {
   "cell_type": "code",
   "execution_count": 9,
   "metadata": {},
   "outputs": [
    {
     "data": {
      "text/plain": [
       "['appdirs==1.4.3\\n',\n",
       " 'backports-abc==0.5\\n',\n",
       " 'bleach==2.0.0\\n',\n",
       " 'decorator==4.0.11\\n',\n",
       " 'entrypoints==0.2.2\\n',\n",
       " 'html5lib==0.999999999\\n',\n",
       " 'ipykernel==4.6.1\\n',\n",
       " 'ipython==5.3.0\\n',\n",
       " 'ipython-genutils==0.2.0\\n',\n",
       " 'ipywidgets==6.0.0\\n',\n",
       " 'Jinja2==2.9.6\\n',\n",
       " 'jsonschema==2.6.0\\n',\n",
       " 'jupyter==1.0.0\\n',\n",
       " 'jupyter-client==5.0.1\\n',\n",
       " 'jupyter-console==5.1.0\\n',\n",
       " 'jupyter-core==4.3.0\\n',\n",
       " 'MarkupSafe==1.0\\n',\n",
       " 'mistune==0.7.4\\n',\n",
       " 'nbconvert==5.1.1\\n',\n",
       " 'nbformat==4.3.0\\n',\n",
       " 'notebook==5.0.0\\n',\n",
       " 'packaging==16.8\\n',\n",
       " 'pandocfilters==1.4.1\\n',\n",
       " 'pexpect==4.2.1\\n',\n",
       " 'pickleshare==0.7.4\\n',\n",
       " 'prompt-toolkit==1.0.14\\n',\n",
       " 'ptyprocess==0.5.1\\n',\n",
       " 'Pygments==2.2.0\\n',\n",
       " 'pyparsing==2.2.0\\n',\n",
       " 'python-dateutil==2.6.0\\n',\n",
       " 'pyzmq==16.0.2\\n',\n",
       " 'qtconsole==4.3.0\\n',\n",
       " 'simplegeneric==0.8.1\\n',\n",
       " 'six==1.10.0\\n',\n",
       " 'terminado==0.6\\n',\n",
       " 'testpath==0.3\\n',\n",
       " 'tornado==4.5\\n',\n",
       " 'traitlets==4.3.2\\n',\n",
       " 'wcwidth==0.1.7\\n',\n",
       " 'webencodings==0.5.1\\n',\n",
       " 'widgetsnbextension==2.0.0\\n']"
      ]
     },
     "execution_count": 9,
     "metadata": {},
     "output_type": "execute_result"
    }
   ],
   "source": [
    "f = open('requirements.txt')\n",
    "f.readlines()"
   ]
  },
  {
   "cell_type": "markdown",
   "metadata": {},
   "source": [
    "### 6. Writing a File"
   ]
  },
  {
   "cell_type": "code",
   "execution_count": 10,
   "metadata": {
    "collapsed": true
   },
   "outputs": [],
   "source": [
    "members = open('members.txt','w')"
   ]
  },
  {
   "cell_type": "code",
   "execution_count": 11,
   "metadata": {},
   "outputs": [
    {
     "data": {
      "text/plain": [
       "5"
      ]
     },
     "execution_count": 11,
     "metadata": {},
     "output_type": "execute_result"
    }
   ],
   "source": [
    "members.write('Santa')"
   ]
  },
  {
   "cell_type": "code",
   "execution_count": 12,
   "metadata": {},
   "outputs": [
    {
     "data": {
      "text/plain": [
       "1"
      ]
     },
     "execution_count": 12,
     "metadata": {},
     "output_type": "execute_result"
    }
   ],
   "source": [
    "members.write('\\n')"
   ]
  },
  {
   "cell_type": "code",
   "execution_count": 13,
   "metadata": {},
   "outputs": [
    {
     "data": {
      "text/plain": [
       "5"
      ]
     },
     "execution_count": 13,
     "metadata": {},
     "output_type": "execute_result"
    }
   ],
   "source": [
    "members.write('Kante')"
   ]
  },
  {
   "cell_type": "code",
   "execution_count": 14,
   "metadata": {
    "collapsed": true
   },
   "outputs": [],
   "source": [
    "members.close()"
   ]
  },
  {
   "cell_type": "code",
   "execution_count": 15,
   "metadata": {
    "collapsed": true
   },
   "outputs": [],
   "source": [
    "members = open('members.txt','r')"
   ]
  },
  {
   "cell_type": "code",
   "execution_count": 16,
   "metadata": {},
   "outputs": [
    {
     "data": {
      "text/plain": [
       "'Santa\\nKante'"
      ]
     },
     "execution_count": 16,
     "metadata": {},
     "output_type": "execute_result"
    }
   ],
   "source": [
    "members.read()"
   ]
  },
  {
   "cell_type": "markdown",
   "metadata": {
    "collapsed": true
   },
   "source": [
    "### 7. Handling JSON \n",
    "\n",
    " - ```import json```\n",
    " - it parses json from a file or strings"
   ]
  },
  {
   "cell_type": "markdown",
   "metadata": {},
   "source": [
    "#### 7.1 JSON TO PYTHON"
   ]
  },
  {
   "cell_type": "code",
   "execution_count": 1,
   "metadata": {
    "collapsed": true
   },
   "outputs": [],
   "source": [
    "import json\n",
    "json_data = '{\"name\": \"Kim\", \"age\": 49}'\n",
    "json_to_python = json.loads(json_data)"
   ]
  },
  {
   "cell_type": "code",
   "execution_count": 5,
   "metadata": {},
   "outputs": [
    {
     "data": {
      "text/plain": [
       "{'age': 49, 'name': 'Kim'}"
      ]
     },
     "execution_count": 5,
     "metadata": {},
     "output_type": "execute_result"
    }
   ],
   "source": [
    "# the data is returned as a Python dictionary\n",
    "json_to_python"
   ]
  },
  {
   "cell_type": "code",
   "execution_count": 3,
   "metadata": {},
   "outputs": [
    {
     "data": {
      "text/plain": [
       "49"
      ]
     },
     "execution_count": 3,
     "metadata": {},
     "output_type": "execute_result"
    }
   ],
   "source": [
    "json_to_python['age']"
   ]
  },
  {
   "cell_type": "code",
   "execution_count": 4,
   "metadata": {},
   "outputs": [
    {
     "data": {
      "text/plain": [
       "dict"
      ]
     },
     "execution_count": 4,
     "metadata": {},
     "output_type": "execute_result"
    }
   ],
   "source": [
    "type(json_to_python)"
   ]
  },
  {
   "cell_type": "markdown",
   "metadata": {},
   "source": [
    "#### 7.2 PYTHON TO JSON"
   ]
  },
  {
   "cell_type": "code",
   "execution_count": 7,
   "metadata": {},
   "outputs": [],
   "source": [
    "python_dict = {'name':'Kim', 'age':34, 'company':'Leapfrog', 'is_married': False}\n",
    "dictionary_to_json = json.dumps(python_dict)"
   ]
  },
  {
   "cell_type": "code",
   "execution_count": 8,
   "metadata": {},
   "outputs": [
    {
     "data": {
      "text/plain": [
       "'{\"is_married\": false, \"age\": 34, \"company\": \"Leapfrog\", \"name\": \"Kim\"}'"
      ]
     },
     "execution_count": 8,
     "metadata": {},
     "output_type": "execute_result"
    }
   ],
   "source": [
    "dictionary_to_json"
   ]
  },
  {
   "cell_type": "code",
   "execution_count": 9,
   "metadata": {},
   "outputs": [
    {
     "data": {
      "text/plain": [
       "str"
      ]
     },
     "execution_count": 9,
     "metadata": {},
     "output_type": "execute_result"
    }
   ],
   "source": [
    "type(dictionary_to_json)"
   ]
  },
  {
   "cell_type": "code",
   "execution_count": 17,
   "metadata": {
    "collapsed": true
   },
   "outputs": [],
   "source": [
    "# read from file\n",
    "read_file = open('json_data.json')"
   ]
  },
  {
   "cell_type": "code",
   "execution_count": 18,
   "metadata": {},
   "outputs": [
    {
     "data": {
      "text/plain": [
       "['{\\n',\n",
       " '    \"class_name\" : \"Python Tutorial\",\\n',\n",
       " '    \"time\" : \"12:30 PM\",\\n',\n",
       " '    \"students\" : [\\'Bipen\\', \\'Bhuwan\\', \\'Madhav\\', \\'Naresh\\', \\'Pawan\\']\\n',\n",
       " '}']"
      ]
     },
     "execution_count": 18,
     "metadata": {},
     "output_type": "execute_result"
    }
   ],
   "source": [
    "read_file.readlines()"
   ]
  },
  {
   "cell_type": "code",
   "execution_count": 20,
   "metadata": {},
   "outputs": [
    {
     "data": {
      "text/plain": [
       "{'class_name': 'Python Tutorial',\n",
       " 'students': ['Bipen', 'Bhuwan', 'Madhav', 'Naresh', 'Pawan'],\n",
       " 'time': '12:30 PM'}"
      ]
     },
     "execution_count": 20,
     "metadata": {},
     "output_type": "execute_result"
    }
   ],
   "source": [
    "with open('json_data.json') as data_file:    \n",
    "    data = json.load(data_file)\n",
    "data"
   ]
  },
  {
   "cell_type": "code",
   "execution_count": 21,
   "metadata": {},
   "outputs": [
    {
     "data": {
      "text/plain": [
       "dict"
      ]
     },
     "execution_count": 21,
     "metadata": {},
     "output_type": "execute_result"
    }
   ],
   "source": [
    "type(data)"
   ]
  },
  {
   "cell_type": "markdown",
   "metadata": {},
   "source": [
    "### 8. Handling CSV\n",
    "\n",
    " - ```import csv```\n",
    " "
   ]
  },
  {
   "cell_type": "code",
   "execution_count": 22,
   "metadata": {
    "collapsed": true
   },
   "outputs": [],
   "source": [
    "import csv\n"
   ]
  },
  {
   "cell_type": "code",
   "execution_count": 23,
   "metadata": {},
   "outputs": [
    {
     "name": "stdout",
     "output_type": "stream",
     "text": [
      "['Tom', '25', 'Software Engineer']\n",
      "['Shyam, 23', 'Data Analyst']\n"
     ]
    }
   ],
   "source": [
    "# csv.reader() - each row read from the csv file is returned as a list of strings. \n",
    "with open(\"csv_data.csv\") as f:\n",
    "    rows = csv.reader(f)\n",
    "    for row in rows:\n",
    "        print (row)\n"
   ]
  },
  {
   "cell_type": "code",
   "execution_count": 31,
   "metadata": {},
   "outputs": [],
   "source": [
    "# csv.writer() - write each row to csv file\n",
    "\n",
    "with open('students.csv', 'w') as f:\n",
    "    w = csv.writer(f)\n",
    "    w.writerow(['id', 'name', 'semester'])\n",
    "    w.writerow(['2', 'Kumar', 'First year'])\n",
    "    w.writerow(['3', 'Kapil', 'Second year'])\n",
    "\n",
    "# bulk write\n",
    "f = open('students.csv', 'a')\n",
    "w = csv.writer(f)\n",
    "data = [['4', 'Sabita', 'First Year'], ['5', 'Ramila', 'Third Year']]\n",
    "w.writerows(data)\n",
    "f.close()"
   ]
  },
  {
   "cell_type": "markdown",
   "metadata": {},
   "source": [
    "### 8.1 DictReader and DictWriter\n",
    "- read/write data as dictionary"
   ]
  },
  {
   "cell_type": "code",
   "execution_count": 32,
   "metadata": {},
   "outputs": [
    {
     "data": {
      "text/plain": [
       "<csv.DictReader at 0x7f574c64bbe0>"
      ]
     },
     "execution_count": 32,
     "metadata": {},
     "output_type": "execute_result"
    }
   ],
   "source": [
    "data_dict = csv.DictReader(open('students.csv'))\n",
    "data_dict"
   ]
  },
  {
   "cell_type": "code",
   "execution_count": 33,
   "metadata": {},
   "outputs": [
    {
     "name": "stdout",
     "output_type": "stream",
     "text": [
      "{'semester': 'First year', 'id': '2', 'name': 'Kumar'}\n",
      "{'semester': 'Second year', 'id': '3', 'name': 'Kapil'}\n",
      "{'semester': 'First Year', 'id': '4', 'name': 'Sabita'}\n",
      "{'semester': 'Third Year', 'id': '5', 'name': 'Ramila'}\n"
     ]
    }
   ],
   "source": [
    "for data in data_dict:\n",
    "    print(data)"
   ]
  },
  {
   "cell_type": "code",
   "execution_count": null,
   "metadata": {},
   "outputs": [],
   "source": []
  },
  {
   "cell_type": "code",
   "execution_count": 41,
   "metadata": {},
   "outputs": [],
   "source": [
    "my_dict = {\"test\": 1, \"testing\": 2}\n",
    "\n",
    "with open('dictwriter.csv', 'w') as f:\n",
    "    w = csv.DictWriter(f, my_dict.keys())\n",
    "    w.writeheader()\n",
    "    w.writerow(my_dict)"
   ]
  },
  {
   "cell_type": "code",
   "execution_count": null,
   "metadata": {
    "collapsed": true
   },
   "outputs": [],
   "source": []
  }
 ],
 "metadata": {
  "kernelspec": {
   "display_name": "Python 3",
   "language": "python",
   "name": "python3"
  },
  "language_info": {
   "codemirror_mode": {
    "name": "ipython",
    "version": 3
   },
   "file_extension": ".py",
   "mimetype": "text/x-python",
   "name": "python",
   "nbconvert_exporter": "python",
   "pygments_lexer": "ipython3",
   "version": "3.5.2"
  }
 },
 "nbformat": 4,
 "nbformat_minor": 2
}
