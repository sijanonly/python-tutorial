{
 "cells": [
  {
   "cell_type": "markdown",
   "metadata": {},
   "source": [
    "### 1. DEFINING CLASS"
   ]
  },
  {
   "cell_type": "code",
   "execution_count": 2,
   "metadata": {},
   "outputs": [
    {
     "name": "stdout",
     "output_type": "stream",
     "text": [
      "Jane\n",
      "jane.doe@example.com\n",
      "25\n"
     ]
    }
   ],
   "source": [
    "import datetime # we will use this for date objects\n",
    "\n",
    "class Person:\n",
    "\n",
    "    def __init__(self, name, surname, birthdate,email):\n",
    "        self.name = name\n",
    "        self.surname = surname\n",
    "        self.birthdate = birthdate\n",
    "        self.email = email\n",
    "\n",
    "    def get_age(self):\n",
    "        today = datetime.date.today()\n",
    "        age = today.year - self.birthdate.year\n",
    "\n",
    "        if today < datetime.date(today.year, self.birthdate.month, self.birthdate.day):\n",
    "            age -= 1\n",
    "\n",
    "        return age\n",
    "\n",
    "person = Person(\n",
    "    \"Jane\",\n",
    "    \"Doe\",\n",
    "    datetime.date(1992, 3, 12), # year, month, day\n",
    "    \"jane.doe@example.com\"\n",
    ")\n",
    "\n",
    "print(person.name)\n",
    "print(person.email)\n",
    "print(person.get_age())"
   ]
  },
  {
   "cell_type": "markdown",
   "metadata": {},
   "source": [
    "### NOTE\n",
    " - When you call a method with an object/instance, the method expects the first parameter as the object itself.. "
   ]
  },
  {
   "cell_type": "markdown",
   "metadata": {},
   "source": [
    "### 2.Instance Attributes, and Class Attributes"
   ]
  },
  {
   "cell_type": "code",
   "execution_count": 4,
   "metadata": {
    "collapsed": true
   },
   "outputs": [],
   "source": [
    "class Post:\n",
    "    # TITLES is class attribute\n",
    "    TITLES = ('Dr.', 'Er.')\n",
    "\n",
    "    def __init__(self, title, name, surname):\n",
    "        if title not in self.TITLES:\n",
    "            raise ValueError(\"%s is not a valid title.\" % title)\n",
    "        # there are instance attribute\n",
    "        self.title = title\n",
    "        self.name = name\n",
    "        self.surname = surname"
   ]
  },
  {
   "cell_type": "markdown",
   "metadata": {},
   "source": [
    "### NOTE\n",
    " - You can use class attributes to define constants for that particular class\n",
    " - You can access the class attributes in any class methods using the object (self).\n",
    " - If you want to access class attribute without instance, you can do : (Post.TITLES)"
   ]
  },
  {
   "cell_type": "markdown",
   "metadata": {},
   "source": [
    "### 3.1 Aware of Mutable types"
   ]
  },
  {
   "cell_type": "code",
   "execution_count": 6,
   "metadata": {},
   "outputs": [
    {
     "name": "stdout",
     "output_type": "stream",
     "text": [
      "['mikki']\n",
      "['mikki']\n"
     ]
    }
   ],
   "source": [
    "class Class:\n",
    "    students = []\n",
    "\n",
    "    def add_students(self, pet):\n",
    "        self.students.append(pet)\n",
    "\n",
    "a = Class()\n",
    "b = Class()\n",
    "\n",
    "a.add_students(\"mikki\")\n",
    "print(a.students)\n",
    "print(b.students) # oops!"
   ]
  },
  {
   "cell_type": "code",
   "execution_count": 7,
   "metadata": {},
   "outputs": [
    {
     "name": "stdout",
     "output_type": "stream",
     "text": [
      "['mikki']\n",
      "[]\n"
     ]
    }
   ],
   "source": [
    "class Class:\n",
    "    \n",
    "    def __init__(self):\n",
    "        self.students = []\n",
    "\n",
    "    def add_students(self, pet):\n",
    "        self.students.append(pet)\n",
    "\n",
    "a = Class()\n",
    "b = Class()\n",
    "\n",
    "a.add_students(\"mikki\")\n",
    "print(a.students)\n",
    "print(b.students) # YES!"
   ]
  },
  {
   "cell_type": "markdown",
   "metadata": {},
   "source": [
    "### 3.2 UNDERSCORES in ATTRIBUTES\n",
    "\n",
    "   1. _single_leading_underscore: weak \"internal use\" indicator. E.g. from M import * does not import objects whose name starts with an underscore.\n",
    "   \n",
    "   2. two leading underscores __data, to define class-private instance "
   ]
  },
  {
   "cell_type": "code",
   "execution_count": 167,
   "metadata": {
    "collapsed": true
   },
   "outputs": [],
   "source": [
    " class MyClass():\n",
    "        def __init__(self):\n",
    "            self.superpublic = 'hi'\n",
    "            self._semiprivate = \", world!\"\n",
    "            self.__superprivate = \"Hello\"\n",
    "            "
   ]
  },
  {
   "cell_type": "code",
   "execution_count": 168,
   "metadata": {},
   "outputs": [
    {
     "data": {
      "text/plain": [
       "{'_MyClass__superprivate': 'Hello',\n",
       " '_semiprivate': ', world!',\n",
       " 'superpublic': 'hi'}"
      ]
     },
     "execution_count": 168,
     "metadata": {},
     "output_type": "execute_result"
    }
   ],
   "source": [
    "cls_obj = MyClass()\n",
    "cls_obj.__dict__"
   ]
  },
  {
   "cell_type": "code",
   "execution_count": 169,
   "metadata": {},
   "outputs": [
    {
     "data": {
      "text/plain": [
       "', world!'"
      ]
     },
     "execution_count": 169,
     "metadata": {},
     "output_type": "execute_result"
    }
   ],
   "source": [
    "cls_obj._semiprivate"
   ]
  },
  {
   "cell_type": "code",
   "execution_count": 170,
   "metadata": {},
   "outputs": [
    {
     "ename": "AttributeError",
     "evalue": "'MyClass' object has no attribute '__superprivate'",
     "output_type": "error",
     "traceback": [
      "\u001b[0;31m---------------------------------------------------------------------------\u001b[0m",
      "\u001b[0;31mAttributeError\u001b[0m                            Traceback (most recent call last)",
      "\u001b[0;32m<ipython-input-170-7c8cb3563749>\u001b[0m in \u001b[0;36m<module>\u001b[0;34m()\u001b[0m\n\u001b[0;32m----> 1\u001b[0;31m \u001b[0mcls_obj\u001b[0m\u001b[0;34m.\u001b[0m\u001b[0m__superprivate\u001b[0m\u001b[0;34m\u001b[0m\u001b[0m\n\u001b[0m",
      "\u001b[0;31mAttributeError\u001b[0m: 'MyClass' object has no attribute '__superprivate'"
     ]
    }
   ],
   "source": [
    "cls_obj.__superprivate"
   ]
  },
  {
   "cell_type": "markdown",
   "metadata": {},
   "source": [
    "### 4. Class Decorators"
   ]
  },
  {
   "cell_type": "markdown",
   "metadata": {
    "collapsed": true
   },
   "source": [
    "#### 4.1 @classmethod\n",
    " - There might be a situation where we can execute any tasks related to class using constants or other class attributes, without creating class instances\n",
    " - class methods don't bound to class objects rather to a class itself."
   ]
  },
  {
   "cell_type": "code",
   "execution_count": 14,
   "metadata": {},
   "outputs": [
    {
     "name": "stdout",
     "output_type": "stream",
     "text": [
      "Cls is <class '__main__.Circle'>\n",
      "3.14\n",
      "Cls is <class '__main__.Circle'>\n",
      "3.14\n",
      "Cls is <class '__main__.Circle'>\n"
     ]
    },
    {
     "data": {
      "text/plain": [
       "3.14"
      ]
     },
     "execution_count": 14,
     "metadata": {},
     "output_type": "execute_result"
    }
   ],
   "source": [
    "class Circle(object):\n",
    "    PI = 3.14\n",
    "    @classmethod\n",
    "    def get_pie(cls):\n",
    "        print('Cls is', cls)\n",
    "        return cls.PI\n",
    "\n",
    "    \n",
    "print(Circle.get_pie())\n",
    "\n",
    "# OR\n",
    "\n",
    "print(Circle().get_pie())\n",
    "\n",
    "circle_object = Circle() # Since class method is accessed with class itself, we don't need to instantiate\n",
    "circle_object.get_pie()\n",
    "    "
   ]
  },
  {
   "cell_type": "markdown",
   "metadata": {},
   "source": [
    "#### 4.2 @staticmethod\n",
    "- only concern about parameters send to the functions not instances or attributes of the Class\n",
    "- One rule-of-thumb: ask yourself “does it make sense to call this method, even if no Obj has been constructed yet?” If so, it should definitely be static.\n",
    "- can be used as\n",
    "  -- call from class\n",
    "  -- call from instances\n",
    "  \n",
    "- syntax,\n",
    "  ```\n",
    "     @staticmethod\n",
    "          def func(args, ...)```"
   ]
  },
  {
   "cell_type": "code",
   "execution_count": 18,
   "metadata": {},
   "outputs": [
    {
     "name": "stdout",
     "output_type": "stream",
     "text": [
      "8\n"
     ]
    },
    {
     "data": {
      "text/plain": [
       "8"
      ]
     },
     "execution_count": 18,
     "metadata": {},
     "output_type": "execute_result"
    }
   ],
   "source": [
    "class Circle(object):\n",
    "    PI = 3.14\n",
    "    @staticmethod\n",
    "    def get_area(radius):\n",
    "        return 2 * radius ** 2\n",
    "\n",
    "    \n",
    "print(Circle.get_area(2))\n",
    "\n",
    "circle_object = Circle() \n",
    "circle_object.get_area(2)\n",
    "    "
   ]
  },
  {
   "cell_type": "markdown",
   "metadata": {},
   "source": [
    "#### When do you use static method?\n",
    " - Utility functions for your class\n",
    " "
   ]
  },
  {
   "cell_type": "code",
   "execution_count": 22,
   "metadata": {},
   "outputs": [
    {
     "name": "stdout",
     "output_type": "stream",
     "text": [
      "15-12-2016\n",
      "13-12-2015\n"
     ]
    }
   ],
   "source": [
    "# format_date method is static because it will not need other attributes of class\n",
    "\n",
    "class BirthDate:\n",
    "    def __init__(self, date):\n",
    "        self.date = date\n",
    "        \n",
    "    def get_date(self):\n",
    "        return self.date\n",
    "\n",
    "    @staticmethod\n",
    "    def format_date(date):\n",
    "        return date.replace(\"/\", \"-\")\n",
    "\n",
    "date_obj = BirthDate(\"15-12-2016\")\n",
    "date_str = \"15/12/2016\"\n",
    "# without instance\n",
    "converted_date = BirthDate.format_date(date_str)\n",
    "new_obj = BirthDate(converted_date)\n",
    "print(new_obj.date)\n",
    "\n",
    "# # with instance\n",
    "# new_str = \"13/12/2015\"\n",
    "# new_obj2 = BirthDate(new_str)\n",
    "# new_obj2.date = new_obj.format_date(new_str)\n",
    "# print (new_obj2.date)\n"
   ]
  },
  {
   "cell_type": "markdown",
   "metadata": {
    "collapsed": true
   },
   "source": [
    "#### 4.3 @property\n",
    " - creating object property dynamically using other properties.\n",
    " - Other languages encouraged to have getters and setters for the class attributes and don't encourage to access those attributes directly (only use setters and getters)\n",
    " - In python, simple object attributes can be accessed directly (acceptable)\n",
    " - one of the purpose to use property is for validation and formatting."
   ]
  },
  {
   "cell_type": "markdown",
   "metadata": {},
   "source": [
    "#### 4.3.1 Property Illustration"
   ]
  },
  {
   "cell_type": "code",
   "execution_count": 76,
   "metadata": {
    "collapsed": true
   },
   "outputs": [],
   "source": [
    "class Circle:\n",
    "    def __init__(self, radius):\n",
    "        self.radius = radius\n",
    "    \n",
    "    @property\n",
    "    def diameter(self):\n",
    "        return 2 * self.radius"
   ]
  },
  {
   "cell_type": "code",
   "execution_count": 78,
   "metadata": {},
   "outputs": [
    {
     "data": {
      "text/plain": [
       "6"
      ]
     },
     "execution_count": 78,
     "metadata": {},
     "output_type": "execute_result"
    }
   ],
   "source": [
    "circle_obj = Circle(3)\n",
    "circle_obj.diameter"
   ]
  },
  {
   "cell_type": "code",
   "execution_count": 18,
   "metadata": {
    "collapsed": true
   },
   "outputs": [],
   "source": [
    "# attribute with '__' should not be publicly accessible\n",
    "\n",
    "class Animal:\n",
    "    def __init__(self, input_name):\n",
    "        self.__name = input_name\n",
    "    \n",
    "    @property\n",
    "    def name(self):\n",
    "        print('getter')\n",
    "        return self.__name\n",
    "    \n",
    "    @name.setter\n",
    "    def name(self, value):\n",
    "        print('setter')\n",
    "        self.__name = value\n",
    "        "
   ]
  },
  {
   "cell_type": "code",
   "execution_count": 19,
   "metadata": {
    "collapsed": true
   },
   "outputs": [],
   "source": [
    "animal_obj = Animal('DOG')"
   ]
  },
  {
   "cell_type": "code",
   "execution_count": 4,
   "metadata": {},
   "outputs": [
    {
     "name": "stdout",
     "output_type": "stream",
     "text": [
      "getter\n"
     ]
    },
    {
     "data": {
      "text/plain": [
       "'DOG'"
      ]
     },
     "execution_count": 4,
     "metadata": {},
     "output_type": "execute_result"
    }
   ],
   "source": [
    "animal_obj.name"
   ]
  },
  {
   "cell_type": "code",
   "execution_count": 12,
   "metadata": {},
   "outputs": [
    {
     "ename": "AttributeError",
     "evalue": "'Animal' object has no attribute '__name'",
     "output_type": "error",
     "traceback": [
      "\u001b[0;31m---------------------------------------------------------------------------\u001b[0m",
      "\u001b[0;31mAttributeError\u001b[0m                            Traceback (most recent call last)",
      "\u001b[0;32m<ipython-input-12-40f7a01c0ff8>\u001b[0m in \u001b[0;36m<module>\u001b[0;34m()\u001b[0m\n\u001b[0;32m----> 1\u001b[0;31m \u001b[0manimal_obj\u001b[0m\u001b[0;34m.\u001b[0m\u001b[0m__name\u001b[0m\u001b[0;34m\u001b[0m\u001b[0m\n\u001b[0m",
      "\u001b[0;31mAttributeError\u001b[0m: 'Animal' object has no attribute '__name'"
     ]
    }
   ],
   "source": [
    "animal_obj.__name"
   ]
  },
  {
   "cell_type": "code",
   "execution_count": 13,
   "metadata": {},
   "outputs": [
    {
     "data": {
      "text/plain": [
       "{'_Animal__name': 'DOG'}"
      ]
     },
     "execution_count": 13,
     "metadata": {},
     "output_type": "execute_result"
    }
   ],
   "source": [
    "animal_obj.__dict__"
   ]
  },
  {
   "cell_type": "code",
   "execution_count": 14,
   "metadata": {},
   "outputs": [
    {
     "name": "stdout",
     "output_type": "stream",
     "text": [
      "setter\n"
     ]
    }
   ],
   "source": [
    "animal_obj.name = 'CAT'"
   ]
  },
  {
   "cell_type": "code",
   "execution_count": 182,
   "metadata": {
    "collapsed": true
   },
   "outputs": [],
   "source": [
    "class SomeClass:\n",
    "    def __init__( self, somevalue ):\n",
    "        self.__my_value= somevalue\n",
    "    def get_value( self ):\n",
    "        return self.__my_value\n",
    "    def set_value( self, somevalue ):\n",
    "        self.__my_value= somevalue\n",
    "    my_value = property( get_value, set_value )"
   ]
  },
  {
   "cell_type": "code",
   "execution_count": null,
   "metadata": {
    "collapsed": true
   },
   "outputs": [],
   "source": []
  },
  {
   "cell_type": "code",
   "execution_count": 183,
   "metadata": {
    "collapsed": true
   },
   "outputs": [],
   "source": [
    "some_obj = SomeClass('DATA')"
   ]
  },
  {
   "cell_type": "code",
   "execution_count": 184,
   "metadata": {},
   "outputs": [
    {
     "ename": "AttributeError",
     "evalue": "'SomeClass' object has no attribute '__my_value'",
     "output_type": "error",
     "traceback": [
      "\u001b[0;31m---------------------------------------------------------------------------\u001b[0m",
      "\u001b[0;31mAttributeError\u001b[0m                            Traceback (most recent call last)",
      "\u001b[0;32m<ipython-input-184-5fefb38f0842>\u001b[0m in \u001b[0;36m<module>\u001b[0;34m()\u001b[0m\n\u001b[0;32m----> 1\u001b[0;31m \u001b[0msome_obj\u001b[0m\u001b[0;34m.\u001b[0m\u001b[0m__my_value\u001b[0m\u001b[0;34m\u001b[0m\u001b[0m\n\u001b[0m",
      "\u001b[0;31mAttributeError\u001b[0m: 'SomeClass' object has no attribute '__my_value'"
     ]
    }
   ],
   "source": [
    "some_obj.__my_value\n"
   ]
  },
  {
   "cell_type": "code",
   "execution_count": 185,
   "metadata": {},
   "outputs": [
    {
     "data": {
      "text/plain": [
       "'DATA'"
      ]
     },
     "execution_count": 185,
     "metadata": {},
     "output_type": "execute_result"
    }
   ],
   "source": [
    "some_obj.my_value"
   ]
  },
  {
   "cell_type": "code",
   "execution_count": null,
   "metadata": {
    "collapsed": true
   },
   "outputs": [],
   "source": []
  },
  {
   "cell_type": "code",
   "execution_count": 4,
   "metadata": {
    "collapsed": true
   },
   "outputs": [],
   "source": [
    "# we have a class 'Temperature', suppose by convention it only store temp. in Celsius\n",
    "# we need something that return Fahrenheit value as well\n",
    "# One way to implement is to have method as follows:\n",
    "class Temperature:\n",
    "    def __init__(self, temp = 0):\n",
    "        self.temp = temp\n",
    "\n",
    "    def get_fahrenheit(self):\n",
    "        return (self.temp * 1.8) + 32"
   ]
  },
  {
   "cell_type": "code",
   "execution_count": 8,
   "metadata": {
    "collapsed": true
   },
   "outputs": [],
   "source": [
    "temp_obj = Temperature(32)"
   ]
  },
  {
   "cell_type": "code",
   "execution_count": 9,
   "metadata": {},
   "outputs": [
    {
     "data": {
      "text/plain": [
       "89.6"
      ]
     },
     "execution_count": 9,
     "metadata": {},
     "output_type": "execute_result"
    }
   ],
   "source": [
    "temp_obj.get_fahrenheit()"
   ]
  },
  {
   "cell_type": "code",
   "execution_count": 12,
   "metadata": {},
   "outputs": [
    {
     "name": "stdout",
     "output_type": "stream",
     "text": [
      "{'temp': 32}\n"
     ]
    },
    {
     "data": {
      "text/plain": [
       "32"
      ]
     },
     "execution_count": 12,
     "metadata": {},
     "output_type": "execute_result"
    }
   ],
   "source": [
    "# Python interpreter search the attributes as follows:\n",
    "print(temp_obj.__dict__)\n",
    "temp_obj.__dict__['temp']"
   ]
  },
  {
   "cell_type": "code",
   "execution_count": 28,
   "metadata": {
    "collapsed": true
   },
   "outputs": [],
   "source": [
    "# suppose we need to assure that min. value of celsius is -273 during object construction,\n",
    "# we can achieve that by using getters and setters\n",
    "# here we define private attribute _temp and set the value\n",
    "# only use getters and setters method for those attributes which needs some calcuation.\n",
    "\n",
    "class Temperature:\n",
    "    def __init__(self, temp = 0):\n",
    "#         self.__temp = temp\n",
    "        self.set_temperature(temp)\n",
    "\n",
    "    def get_fahrenheit(self):\n",
    "        return (self.get_temperature() * 1.8) + 32\n",
    "\n",
    "    def get_temperature(self):\n",
    "        return self._temp\n",
    "\n",
    "    def set_temperature(self, value):\n",
    "        if value < -273:\n",
    "            raise ValueError(\"Temperature below -273 is not possible\")\n",
    "        self._temp = value"
   ]
  },
  {
   "cell_type": "code",
   "execution_count": 29,
   "metadata": {},
   "outputs": [
    {
     "name": "stdout",
     "output_type": "stream",
     "text": [
      "-38\n",
      "-38\n"
     ]
    }
   ],
   "source": [
    "# print(Temperature.__dict__)\n",
    "temp_obj1 = Temperature(-38)\n",
    "# temp_obj1.__temp\n",
    "print(temp_obj1.get_temperature())\n",
    "print(temp_obj1._temp) # NOT favorable use get_temperature() instead."
   ]
  },
  {
   "cell_type": "code",
   "execution_count": 7,
   "metadata": {},
   "outputs": [],
   "source": [
    "# Pythonic WAY\n",
    "# Now, whenever you try to assign value to 'temp' or object is created, __init__() method gets called. \n",
    "# init method has  self.temp = temp, which automatically invoke set_temperature()\n",
    "\n",
    "class testDec(object):                                                                                                                                            \n",
    "\n",
    "    def __init__(self, value):\n",
    "        print ('We are in __init__')\n",
    "        self.x = value # Will call the setter. Note just x here\n",
    "        #self._x = value # Will not call the setter\n",
    "\n",
    "    @property\n",
    "    def x(self):\n",
    "        print ('called getter')\n",
    "        return self._x # Note the _x here\n",
    "\n",
    "    @x.setter\n",
    "    def x(self, value): \n",
    "        print ('called setter')\n",
    "        self._x = value # Note the _x here\n",
    "\n",
    "\n"
   ]
  },
  {
   "cell_type": "code",
   "execution_count": 4,
   "metadata": {},
   "outputs": [
    {
     "name": "stdout",
     "output_type": "stream",
     "text": [
      "We are in __init__\n",
      "called setter\n",
      "called getter\n",
      "17\n"
     ]
    }
   ],
   "source": [
    "\n",
    "t = testDec(17)\n",
    "print (t.x)\n"
   ]
  },
  {
   "cell_type": "code",
   "execution_count": null,
   "metadata": {
    "collapsed": true
   },
   "outputs": [],
   "source": []
  },
  {
   "cell_type": "markdown",
   "metadata": {},
   "source": [
    "### NOTE:\n",
    " - Therefore, temp_obj.temp in interpreted as  temp_obj.__dict__['temp']."
   ]
  },
  {
   "cell_type": "code",
   "execution_count": null,
   "metadata": {
    "collapsed": true
   },
   "outputs": [],
   "source": []
  },
  {
   "cell_type": "code",
   "execution_count": 1,
   "metadata": {},
   "outputs": [
    {
     "name": "stdout",
     "output_type": "stream",
     "text": [
      "Mark Tumberbacc\n"
     ]
    }
   ],
   "source": [
    "class Person:\n",
    "    def __init__(self, first_name, last_name):\n",
    "        self.first_name = first_name\n",
    "        self.last_name = last_name\n",
    "\n",
    "    @property\n",
    "    def fullname(self):\n",
    "        return \"%s %s\" % (self.first_name, self.last_name)\n",
    "\n",
    "jane = Person(\"Mark\", \"Tumberbacc\")\n",
    "print(jane.fullname) # no brackets!"
   ]
  },
  {
   "cell_type": "markdown",
   "metadata": {},
   "source": [
    "### EXAMPLE - 1"
   ]
  },
  {
   "cell_type": "code",
   "execution_count": 125,
   "metadata": {
    "collapsed": true
   },
   "outputs": [],
   "source": [
    "class Numbers:\n",
    "    MULTIPLIER = 3.5\n",
    "\n",
    "    def __init__(self, x, y):\n",
    "        self.x = x\n",
    "        self.y = y\n",
    "#         self.sum = None\n",
    "        \n",
    "\n",
    "    def add(self):\n",
    "        return self.x + self.y\n",
    "\n",
    "    @classmethod\n",
    "    def multiply(cls, a):\n",
    "        return cls.MULTIPLIER * a\n",
    "\n",
    "    @staticmethod\n",
    "    def subtract(b, c):\n",
    "        return b - c\n",
    "\n",
    "    @property\n",
    "    def value(self):\n",
    "        return (self.x, self.y)\n",
    "    \n",
    "    @property\n",
    "    def sum(self):\n",
    "        return self.x + self.y\n",
    "   \n"
   ]
  },
  {
   "cell_type": "code",
   "execution_count": 129,
   "metadata": {
    "collapsed": true
   },
   "outputs": [],
   "source": [
    "a = Numbers(2,3)"
   ]
  },
  {
   "cell_type": "code",
   "execution_count": 124,
   "metadata": {},
   "outputs": [
    {
     "data": {
      "text/plain": [
       "5"
      ]
     },
     "execution_count": 124,
     "metadata": {},
     "output_type": "execute_result"
    }
   ],
   "source": [
    "a.add()"
   ]
  },
  {
   "cell_type": "code",
   "execution_count": 19,
   "metadata": {
    "scrolled": true
   },
   "outputs": [
    {
     "data": {
      "text/plain": [
       "14.0"
      ]
     },
     "execution_count": 19,
     "metadata": {},
     "output_type": "execute_result"
    }
   ],
   "source": [
    "a.multiply(4)"
   ]
  },
  {
   "cell_type": "code",
   "execution_count": 20,
   "metadata": {
    "scrolled": true
   },
   "outputs": [
    {
     "data": {
      "text/plain": [
       "-1"
      ]
     },
     "execution_count": 20,
     "metadata": {},
     "output_type": "execute_result"
    }
   ],
   "source": [
    "a.subtract(3,4)"
   ]
  },
  {
   "cell_type": "code",
   "execution_count": 126,
   "metadata": {
    "scrolled": true
   },
   "outputs": [
    {
     "data": {
      "text/plain": [
       "(2, 3)"
      ]
     },
     "execution_count": 126,
     "metadata": {},
     "output_type": "execute_result"
    }
   ],
   "source": [
    "a.value"
   ]
  },
  {
   "cell_type": "code",
   "execution_count": 130,
   "metadata": {},
   "outputs": [
    {
     "data": {
      "text/plain": [
       "5"
      ]
     },
     "execution_count": 130,
     "metadata": {},
     "output_type": "execute_result"
    }
   ],
   "source": [
    "a.sum"
   ]
  },
  {
   "cell_type": "markdown",
   "metadata": {},
   "source": [
    "#### 4.4 OOP Around Python\n",
    "\n",
    "  - When you saved a data in a class, then that data should only be accessed through a public interface, i.e the methods of the class. (ENCAPSULATION)\n",
    "  - In some languages (JAVA, C++), we can define access premissions on attributes, and considered illegal for them to be accessed from outside methods of that class.\n",
    "  - In Java writing setters and getters for each and every attributes is considered a good practice.\n",
    "  - In python, the is no any enforcement regarding encapsulation rather it is a convention. Property will be private if you defined it with underscore.\n",
    "    ```(__score = None)```\n",
    "  - In python, you can use direct set/get for simply attributes and only use getters and setters method for those attributes which needs some calcuation.\n",
    "  - Relations between two classes can be maintained by ```composition``` and ```inheritance```"
   ]
  },
  {
   "cell_type": "markdown",
   "metadata": {},
   "source": [
    "#### 4.4.1 COMPOSITION\n",
    "\n",
    "   - establishing 'has-a' a relation between two classes\n",
    "   - Example - Application has-a Vehicle"
   ]
  },
  {
   "cell_type": "code",
   "execution_count": 31,
   "metadata": {},
   "outputs": [
    {
     "data": {
      "text/plain": [
       "<__main__.Application at 0x7f2c740a3358>"
      ]
     },
     "execution_count": 31,
     "metadata": {},
     "output_type": "execute_result"
    }
   ],
   "source": [
    "class Vehicle:\n",
    "    def __init__(self, vehicle_id, other):\n",
    "        self.vehicle_id = vehicle_id\n",
    "        self.other = other\n",
    "\n",
    "class Application:\n",
    "    def __init__(self, app_id, other):\n",
    "        self.app_id = app_id\n",
    "        self.other = other\n",
    "        self.vehicles = []\n",
    "    \n",
    "    def __str__(self):\n",
    "        return \"%s %s %s\" %(self.app_id, self.other, [vehicle.vehicle_id for vehicle in self.vehicles])\n",
    "\n",
    "    def add_vehicle(self, vehicle_id, other):\n",
    "        self.vehicles.append(Vehicle(vehicle_id, other))\n",
    "        return self.vehicles[-1]\n",
    "\n",
    "app_object = Application('111', '2015')\n",
    "app_object.add_vehicle('123', 'BMW')\n",
    "app_object"
   ]
  },
  {
   "cell_type": "code",
   "execution_count": 30,
   "metadata": {},
   "outputs": [
    {
     "data": {
      "text/plain": [
       "\"111 2015 ['123']\""
      ]
     },
     "execution_count": 30,
     "metadata": {},
     "output_type": "execute_result"
    }
   ],
   "source": [
    "str(app_object)"
   ]
  },
  {
   "cell_type": "markdown",
   "metadata": {
    "collapsed": true
   },
   "source": [
    "### 4.4.2 INHERITANCE\n",
    "   - arrangement of class from more general scope to more specific scopes\n",
    "   - establishing ```is-a``` relationships between classes \n",
    "   - data(attributes) and the behavior (methods) of a parent class will be derived to a \"child\" class"
   ]
  },
  {
   "cell_type": "code",
   "execution_count": 17,
   "metadata": {
    "collapsed": true
   },
   "outputs": [],
   "source": [
    "class Car(object):\n",
    "    \"\"\"  Car represents Car objects in a Company\n",
    "     \n",
    "          :param make: The make of car\n",
    "          :type make: str\n",
    "          :param model: The model of car\n",
    "          :type model: str\n",
    "          :return:\n",
    "          :rtype:\n",
    "    \"\"\"\n",
    "    ORIGINAL_PRICE = {\n",
    "        'HONDA': 20000000,\n",
    "        'FORD': 30000000,\n",
    "        'TOYOTA': 25000000\n",
    "    }\n",
    "    def __init__(self,make, model):\n",
    "        \"\"\"Return a new Car object.\"\"\"\n",
    "     \n",
    "        self.make = make\n",
    "        self.model = model\n",
    "        \n",
    "    def get_original_price(cls, model):\n",
    "        \"\"\"Return the original price of the car based on the model\"\"\"\n",
    "        return cls.ORIGINAL_PRICE[model]\n",
    "        \n",
    "\n",
    "    def price(self):\n",
    "        \"\"\"Return the price of the car (float value).\"\"\"\n",
    "        print(self.model)\n",
    "        return self.get_original_price(self.model) + 5000"
   ]
  },
  {
   "cell_type": "code",
   "execution_count": 18,
   "metadata": {},
   "outputs": [
    {
     "name": "stdout",
     "output_type": "stream",
     "text": [
      "HONDA\n"
     ]
    },
    {
     "data": {
      "text/plain": [
       "20005000"
      ]
     },
     "execution_count": 18,
     "metadata": {},
     "output_type": "execute_result"
    }
   ],
   "source": [
    "car_object = Car('MAKE1', 'HONDA')\n",
    "car_object.model\n",
    "car_object.price()"
   ]
  },
  {
   "cell_type": "code",
   "execution_count": 19,
   "metadata": {
    "collapsed": true
   },
   "outputs": [],
   "source": [
    "class Bus(object):\n",
    "    \"\"\"  Bus represents Bus objects in a Company\n",
    "     \n",
    "          :param make: The make of car\n",
    "          :type make: str\n",
    "          :param model: The model of car\n",
    "          :type model: str\n",
    "          :return:\n",
    "          :rtype:\n",
    "    \"\"\"\n",
    "    ORIGINAL_PRICE = {\n",
    "        'HONDA': 20000000,\n",
    "        'FORD': 30000000,\n",
    "        'TOYOTA': 25000000\n",
    "    }\n",
    "    def __init__(self,make, model):\n",
    "        \"\"\"Return a new Bus object.\"\"\"\n",
    "     \n",
    "        self.make = make\n",
    "        self.model = model\n",
    "        \n",
    "    def get_original_price(cls, model):\n",
    "        \"\"\"Return the original price of the Bus based on the model\"\"\"\n",
    "        return cls.ORIGINAL_PRICE[model]\n",
    "        \n",
    "\n",
    "    def price(self):\n",
    "        \"\"\"Return the price of the Bus (float value).\"\"\"\n",
    "        print(self.model)\n",
    "        return self.get_original_price(self.model) + 5000"
   ]
  },
  {
   "cell_type": "markdown",
   "metadata": {},
   "source": [
    "#### 4.4.2.1 ABSTRACTION\n",
    "\n",
    " - Abstract Base Classes are classes that are only meant to be inherited from; you can't create instance of of that abstract class"
   ]
  },
  {
   "cell_type": "code",
   "execution_count": 20,
   "metadata": {
    "collapsed": true
   },
   "outputs": [],
   "source": [
    "class Vehicle(object):\n",
    "    \"\"\"  Car represents Vehicle objects in a Company\n",
    "     \n",
    "          :param make: The make of car\n",
    "          :type make: str\n",
    "          :param model: The model of car\n",
    "          :type model: str\n",
    "          :return:\n",
    "          :rtype:\n",
    "    \"\"\"\n",
    "    ORIGINAL_PRICE = {\n",
    "        'HONDA': 20000000,\n",
    "        \n",
    "        'FORD': 30000000,\n",
    "        'TOYOTA': 25000000\n",
    "    }\n",
    "    def __init__(self,make, model):\n",
    "        \"\"\"Return a new Vehicle object.\"\"\"\n",
    "     \n",
    "        self.make = make\n",
    "        self.model = model\n",
    "        \n",
    "    def get_original_price(cls, model):\n",
    "        \"\"\"Return the original price of the Vehicle based on the model\"\"\"\n",
    "        return cls.ORIGINAL_PRICE[model]\n",
    "        \n",
    "\n",
    "    def price(self):\n",
    "        \"\"\"Return the price of the Vehicle (float value).\"\"\"\n",
    "        print(self.model)\n",
    "        return self.get_original_price(self.model) + 5000"
   ]
  },
  {
   "cell_type": "code",
   "execution_count": 22,
   "metadata": {
    "collapsed": true
   },
   "outputs": [],
   "source": [
    "# car derived from Vehicle\n",
    "\n",
    "class Car(Vehicle):\n",
    "    \n",
    "    def __init__(self, new_attr, *args, **kwargs):\n",
    "        \"\"\"Return a new Car object.\"\"\"\n",
    "        self.new_attr = new_attr\n",
    "        super(Car, self).__init__(*args, **kwargs)\n"
   ]
  },
  {
   "cell_type": "code",
   "execution_count": 23,
   "metadata": {
    "collapsed": true
   },
   "outputs": [],
   "source": [
    "car_object = Car('TEST', 'MAKER', 'HONDA')"
   ]
  },
  {
   "cell_type": "code",
   "execution_count": 24,
   "metadata": {},
   "outputs": [
    {
     "data": {
      "text/plain": [
       "'HONDA'"
      ]
     },
     "execution_count": 24,
     "metadata": {},
     "output_type": "execute_result"
    }
   ],
   "source": [
    "car_object.model"
   ]
  },
  {
   "cell_type": "code",
   "execution_count": null,
   "metadata": {
    "collapsed": true
   },
   "outputs": [],
   "source": []
  }
 ],
 "metadata": {
  "kernelspec": {
   "display_name": "Python 3",
   "language": "python",
   "name": "python3"
  },
  "language_info": {
   "codemirror_mode": {
    "name": "ipython",
    "version": 3
   },
   "file_extension": ".py",
   "mimetype": "text/x-python",
   "name": "python",
   "nbconvert_exporter": "python",
   "pygments_lexer": "ipython3",
   "version": "3.5.2"
  }
 },
 "nbformat": 4,
 "nbformat_minor": 2
}
