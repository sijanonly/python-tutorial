{
 "cells": [
  {
   "cell_type": "markdown",
   "metadata": {},
   "source": [
    "### 1. DEFINING CLASS"
   ]
  },
  {
   "cell_type": "code",
   "execution_count": 2,
   "metadata": {},
   "outputs": [
    {
     "name": "stdout",
     "output_type": "stream",
     "text": [
      "Jane\n",
      "jane.doe@example.com\n",
      "25\n"
     ]
    }
   ],
   "source": [
    "import datetime # we will use this for date objects\n",
    "\n",
    "class Person:\n",
    "\n",
    "    def __init__(self, name, surname, birthdate,email):\n",
    "        self.name = name\n",
    "        self.surname = surname\n",
    "        self.birthdate = birthdate\n",
    "        self.email = email\n",
    "\n",
    "    def get_age(self):\n",
    "        today = datetime.date.today()\n",
    "        age = today.year - self.birthdate.year\n",
    "\n",
    "        if today < datetime.date(today.year, self.birthdate.month, self.birthdate.day):\n",
    "            age -= 1\n",
    "\n",
    "        return age\n",
    "\n",
    "person = Person(\n",
    "    \"Jane\",\n",
    "    \"Doe\",\n",
    "    datetime.date(1992, 3, 12), # year, month, day\n",
    "    \"jane.doe@example.com\"\n",
    ")\n",
    "\n",
    "print(person.name)\n",
    "print(person.email)\n",
    "print(person.get_age())"
   ]
  },
  {
   "cell_type": "markdown",
   "metadata": {},
   "source": [
    "### NOTE\n",
    " - When you call a method with an object/instance, the method expects the first parameter as the object itself.. "
   ]
  },
  {
   "cell_type": "markdown",
   "metadata": {},
   "source": [
    "### 2.Instance Attributes, and Class Attributes"
   ]
  },
  {
   "cell_type": "code",
   "execution_count": 4,
   "metadata": {
    "collapsed": true
   },
   "outputs": [],
   "source": [
    "class Post:\n",
    "    # TITLES is class attribute\n",
    "    TITLES = ('Dr.', 'Er.')\n",
    "\n",
    "    def __init__(self, title, name, surname):\n",
    "        if title not in self.TITLES:\n",
    "            raise ValueError(\"%s is not a valid title.\" % title)\n",
    "        # there are instance attribute\n",
    "        self.title = title\n",
    "        self.name = name\n",
    "        self.surname = surname"
   ]
  },
  {
   "cell_type": "markdown",
   "metadata": {},
   "source": [
    "### NOTE\n",
    " - You can use class attributes to define constants for that particular class\n",
    " - You can access the class attributes in any class methods using the object (self).\n",
    " - If you want to access class attribute without instance, you can do : (Person.TITLES)"
   ]
  },
  {
   "cell_type": "markdown",
   "metadata": {},
   "source": [
    "### 3. Aware of Mutable types"
   ]
  },
  {
   "cell_type": "code",
   "execution_count": 6,
   "metadata": {},
   "outputs": [
    {
     "name": "stdout",
     "output_type": "stream",
     "text": [
      "['mikki']\n",
      "['mikki']\n"
     ]
    }
   ],
   "source": [
    "class Class:\n",
    "    students = []\n",
    "\n",
    "    def add_students(self, pet):\n",
    "        self.students.append(pet)\n",
    "\n",
    "a = Class()\n",
    "b = Class()\n",
    "\n",
    "a.add_students(\"mikki\")\n",
    "print(a.students)\n",
    "print(b.students) # oops!"
   ]
  },
  {
   "cell_type": "code",
   "execution_count": 7,
   "metadata": {},
   "outputs": [
    {
     "name": "stdout",
     "output_type": "stream",
     "text": [
      "['mikki']\n",
      "[]\n"
     ]
    }
   ],
   "source": [
    "class Class:\n",
    "    \n",
    "    def __init__(self):\n",
    "        self.students = []\n",
    "\n",
    "    def add_students(self, pet):\n",
    "        self.students.append(pet)\n",
    "\n",
    "a = Class()\n",
    "b = Class()\n",
    "\n",
    "a.add_students(\"mikki\")\n",
    "print(a.students)\n",
    "print(b.students) # YES!"
   ]
  },
  {
   "cell_type": "markdown",
   "metadata": {},
   "source": [
    "### 4. Class Decorators"
   ]
  },
  {
   "cell_type": "code",
   "execution_count": null,
   "metadata": {
    "collapsed": true
   },
   "outputs": [],
   "source": []
  }
 ],
 "metadata": {
  "kernelspec": {
   "display_name": "Python 3",
   "language": "python",
   "name": "python3"
  },
  "language_info": {
   "codemirror_mode": {
    "name": "ipython",
    "version": 3
   },
   "file_extension": ".py",
   "mimetype": "text/x-python",
   "name": "python",
   "nbconvert_exporter": "python",
   "pygments_lexer": "ipython3",
   "version": "3.5.2"
  }
 },
 "nbformat": 4,
 "nbformat_minor": 2
}
