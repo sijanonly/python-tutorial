{
 "cells": [
  {
   "cell_type": "markdown",
   "metadata": {},
   "source": [
    "### 1. Datetime Module\n",
    " - Manipulation date objects\n",
    " \n",
    "```\n",
    " \n",
    " datetime.datetime : date object with date and time\n",
    " \n",
    " datetime.timedelta : difference between dates or datetimes\n",
    " \n",
    " datetime.timezone : timezone adjustments\n",
    "\n",
    " ```"
   ]
  },
  {
   "cell_type": "code",
   "execution_count": 3,
   "metadata": {},
   "outputs": [
    {
     "name": "stdout",
     "output_type": "stream",
     "text": [
      "2017\n",
      "11\n",
      "1\n",
      "0\n"
     ]
    }
   ],
   "source": [
    "import datetime\n",
    "\n",
    "# current date and time object\n",
    "now = datetime.datetime.now()\n",
    "\n",
    "print(now.year)\n",
    "print(now.hour)\n",
    "print(now.minute)\n",
    "# Return the day of the week as an integer, where Monday is 0 and Sunday is 6.\n",
    "print(now.weekday())"
   ]
  },
  {
   "cell_type": "markdown",
   "metadata": {},
   "source": [
    "### 2. Date object to string\n",
    "\n",
    "  - http://strftime.org/"
   ]
  },
  {
   "cell_type": "code",
   "execution_count": 6,
   "metadata": {},
   "outputs": [
    {
     "data": {
      "text/plain": [
       "'2018-11-10 17:53:59'"
      ]
     },
     "execution_count": 6,
     "metadata": {},
     "output_type": "execute_result"
    }
   ],
   "source": [
    "dt_obj = datetime.datetime(2018, 11, 10, 17, 53, 59)\n",
    "date_str = dt_obj.strftime(\"%Y-%m-%d %H:%M:%S\")\n",
    "date_str"
   ]
  },
  {
   "cell_type": "markdown",
   "metadata": {},
   "source": [
    "### 3. String to Datetime object"
   ]
  },
  {
   "cell_type": "code",
   "execution_count": 8,
   "metadata": {},
   "outputs": [
    {
     "data": {
      "text/plain": [
       "datetime.datetime(2008, 11, 10, 17, 53, 59)"
      ]
     },
     "execution_count": 8,
     "metadata": {},
     "output_type": "execute_result"
    }
   ],
   "source": [
    "date_str = \"2008-11-10 17:53:59\"\n",
    "dt_obj = datetime.datetime.strptime(date_str, \"%Y-%m-%d %H:%M:%S\")\n",
    "dt_obj"
   ]
  },
  {
   "cell_type": "markdown",
   "metadata": {},
   "source": [
    "### 4. Timestamp to Datetime object"
   ]
  },
  {
   "cell_type": "code",
   "execution_count": 10,
   "metadata": {},
   "outputs": [
    {
     "data": {
      "text/plain": [
       "datetime.datetime(2008, 11, 12, 21, 59, 27, 595983)"
      ]
     },
     "execution_count": 10,
     "metadata": {},
     "output_type": "execute_result"
    }
   ],
   "source": [
    "# timestamp to datetime object in UTC\n",
    "timestamp = 1226527167.595983\n",
    "dt_obj = datetime.datetime.utcfromtimestamp(timestamp)\n",
    "dt_obj"
   ]
  },
  {
   "cell_type": "markdown",
   "metadata": {},
   "source": [
    "### 5. Difference between two Dates"
   ]
  },
  {
   "cell_type": "code",
   "execution_count": 11,
   "metadata": {
    "collapsed": true
   },
   "outputs": [],
   "source": [
    "end_date = datetime.datetime.now()\n",
    "start_date = end_date - datetime.timedelta(days=8)\n",
    "difference_in_days = abs((end_date - start_date).days)"
   ]
  },
  {
   "cell_type": "code",
   "execution_count": 12,
   "metadata": {},
   "outputs": [
    {
     "data": {
      "text/plain": [
       "8"
      ]
     },
     "execution_count": 12,
     "metadata": {},
     "output_type": "execute_result"
    }
   ],
   "source": [
    "difference_in_days"
   ]
  },
  {
   "cell_type": "markdown",
   "metadata": {},
   "source": [
    "### TRY YOURSELF\n",
    "\n",
    " 1) WAP to convert a string to datetime.\n",
    " \n",
    "        Example input : Jan 1 2014 2:43PM \n",
    "                Output : 2014-07-01 14:43:00"
   ]
  },
  {
   "cell_type": "code",
   "execution_count": null,
   "metadata": {
    "collapsed": true
   },
   "outputs": [],
   "source": []
  }
 ],
 "metadata": {
  "kernelspec": {
   "display_name": "Python 3",
   "language": "python",
   "name": "python3"
  },
  "language_info": {
   "codemirror_mode": {
    "name": "ipython",
    "version": 3
   },
   "file_extension": ".py",
   "mimetype": "text/x-python",
   "name": "python",
   "nbconvert_exporter": "python",
   "pygments_lexer": "ipython3",
   "version": "3.5.2"
  }
 },
 "nbformat": 4,
 "nbformat_minor": 2
}
